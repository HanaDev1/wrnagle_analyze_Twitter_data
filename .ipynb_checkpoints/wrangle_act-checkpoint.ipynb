{
 "cells": [
  {
   "cell_type": "markdown",
   "metadata": {},
   "source": [
    "# Wrangling and Analyzing data\n",
    "#### By Hana ALalawi"
   ]
  },
  {
   "cell_type": "markdown",
   "metadata": {},
   "source": [
    "## Table of contects:\n",
    "\n",
    "- [Introduction](#intro)\n",
    "- [Wrangling data](#wrangle)\n",
    "- [Part I - Gathring data](#gather)\n",
    "- [Part II - Assessing Data](#assess)\n",
    " - [Quality Issue](#qu)\n",
    " - [Tidness Issue](#ti)\n",
    "- [Part III - Cleaning data](#clean)\n",
    "- [Part IV - Storing, Analyzing, and Visualizing](#analyze)\n",
    "\n",
    "<a id='intro'></a>\n",
    "## Introduction\n",
    "\n",
    "Wrangle *WeRateDogs* Twitter data to create interesting and trustworthy analysis and visualizations.\n"
   ]
  },
  {
   "cell_type": "markdown",
   "metadata": {},
   "source": [
    "<a id='wrangle'></a>\n",
    "## Wrangling data \n",
    "#### Install packages and libraries"
   ]
  },
  {
   "cell_type": "code",
   "execution_count": 1,
   "metadata": {},
   "outputs": [],
   "source": [
    "#related packages and libraries\n",
    "import pandas as pd\n",
    "import requests\n",
    "import datetime \n",
    "import numpy as np\n",
    "import requests\n",
    "import json\n",
    "import os\n",
    "import tweepy\n",
    "from tweepy import OAuthHandler\n",
    "import json\n",
    "from timeit import default_timer as timer\n",
    "from functools import reduce\n",
    "import matplotlib.pyplot as plt\n",
    "%matplotlib inline\n",
    "%config InlineBackend.figure_format = 'retina'\n",
    "import seaborn as sns\n",
    "sns.set(style=\"ticks\", color_codes=True)\n",
    "from scipy import stats"
   ]
  },
  {
   "cell_type": "markdown",
   "metadata": {},
   "source": [
    "<a id='gather'></a>\n",
    "## Gathering data\n",
    "In this step, Gathering data from three different resources, from Twitter, CSV file and TSV file from the link."
   ]
  },
  {
   "cell_type": "code",
   "execution_count": 695,
   "metadata": {
    "scrolled": false
   },
   "outputs": [
    {
     "data": {
      "text/html": [
       "<div>\n",
       "<style scoped>\n",
       "    .dataframe tbody tr th:only-of-type {\n",
       "        vertical-align: middle;\n",
       "    }\n",
       "\n",
       "    .dataframe tbody tr th {\n",
       "        vertical-align: top;\n",
       "    }\n",
       "\n",
       "    .dataframe thead th {\n",
       "        text-align: right;\n",
       "    }\n",
       "</style>\n",
       "<table border=\"1\" class=\"dataframe\">\n",
       "  <thead>\n",
       "    <tr style=\"text-align: right;\">\n",
       "      <th></th>\n",
       "      <th>tweet_id</th>\n",
       "      <th>in_reply_to_status_id</th>\n",
       "      <th>in_reply_to_user_id</th>\n",
       "      <th>timestamp</th>\n",
       "      <th>source</th>\n",
       "      <th>text</th>\n",
       "      <th>retweeted_status_id</th>\n",
       "      <th>retweeted_status_user_id</th>\n",
       "      <th>retweeted_status_timestamp</th>\n",
       "      <th>expanded_urls</th>\n",
       "      <th>rating_numerator</th>\n",
       "      <th>rating_denominator</th>\n",
       "      <th>name</th>\n",
       "      <th>doggo</th>\n",
       "      <th>floofer</th>\n",
       "      <th>pupper</th>\n",
       "      <th>puppo</th>\n",
       "      <th>#VALUE!</th>\n",
       "    </tr>\n",
       "  </thead>\n",
       "  <tbody>\n",
       "    <tr>\n",
       "      <th>0</th>\n",
       "      <td>8.924210e+17</td>\n",
       "      <td>NaN</td>\n",
       "      <td>NaN</td>\n",
       "      <td>2017-08-01 16:23:56 +0000</td>\n",
       "      <td>&lt;a href=\"http://twitter.com/download/iphone\" r...</td>\n",
       "      <td>This is Phineas. He's a mystical boy. Only eve...</td>\n",
       "      <td>NaN</td>\n",
       "      <td>NaN</td>\n",
       "      <td>NaN</td>\n",
       "      <td>https://twitter.com/dog_rates/status/892420643...</td>\n",
       "      <td>13</td>\n",
       "      <td>10</td>\n",
       "      <td>Phineas</td>\n",
       "      <td>None</td>\n",
       "      <td>None</td>\n",
       "      <td>None</td>\n",
       "      <td>None</td>\n",
       "      <td>NaN</td>\n",
       "    </tr>\n",
       "    <tr>\n",
       "      <th>1</th>\n",
       "      <td>8.921770e+17</td>\n",
       "      <td>NaN</td>\n",
       "      <td>NaN</td>\n",
       "      <td>2017-08-01 00:17:27 +0000</td>\n",
       "      <td>&lt;a href=\"http://twitter.com/download/iphone\" r...</td>\n",
       "      <td>This is Tilly. She's just checking pup on you....</td>\n",
       "      <td>NaN</td>\n",
       "      <td>NaN</td>\n",
       "      <td>NaN</td>\n",
       "      <td>https://twitter.com/dog_rates/status/892177421...</td>\n",
       "      <td>13</td>\n",
       "      <td>10</td>\n",
       "      <td>Tilly</td>\n",
       "      <td>None</td>\n",
       "      <td>None</td>\n",
       "      <td>None</td>\n",
       "      <td>None</td>\n",
       "      <td>NaN</td>\n",
       "    </tr>\n",
       "    <tr>\n",
       "      <th>2</th>\n",
       "      <td>8.918150e+17</td>\n",
       "      <td>NaN</td>\n",
       "      <td>NaN</td>\n",
       "      <td>2017-07-31 00:18:03 +0000</td>\n",
       "      <td>&lt;a href=\"http://twitter.com/download/iphone\" r...</td>\n",
       "      <td>This is Archie. He is a rare Norwegian Pouncin...</td>\n",
       "      <td>NaN</td>\n",
       "      <td>NaN</td>\n",
       "      <td>NaN</td>\n",
       "      <td>https://twitter.com/dog_rates/status/891815181...</td>\n",
       "      <td>12</td>\n",
       "      <td>10</td>\n",
       "      <td>Archie</td>\n",
       "      <td>None</td>\n",
       "      <td>None</td>\n",
       "      <td>None</td>\n",
       "      <td>None</td>\n",
       "      <td>NaN</td>\n",
       "    </tr>\n",
       "    <tr>\n",
       "      <th>3</th>\n",
       "      <td>8.916900e+17</td>\n",
       "      <td>NaN</td>\n",
       "      <td>NaN</td>\n",
       "      <td>2017-07-30 15:58:51 +0000</td>\n",
       "      <td>&lt;a href=\"http://twitter.com/download/iphone\" r...</td>\n",
       "      <td>This is Darla. She commenced a snooze mid meal...</td>\n",
       "      <td>NaN</td>\n",
       "      <td>NaN</td>\n",
       "      <td>NaN</td>\n",
       "      <td>https://twitter.com/dog_rates/status/891689557...</td>\n",
       "      <td>13</td>\n",
       "      <td>10</td>\n",
       "      <td>Darla</td>\n",
       "      <td>None</td>\n",
       "      <td>None</td>\n",
       "      <td>None</td>\n",
       "      <td>None</td>\n",
       "      <td>NaN</td>\n",
       "    </tr>\n",
       "    <tr>\n",
       "      <th>4</th>\n",
       "      <td>8.913280e+17</td>\n",
       "      <td>NaN</td>\n",
       "      <td>NaN</td>\n",
       "      <td>2017-07-29 16:00:24 +0000</td>\n",
       "      <td>&lt;a href=\"http://twitter.com/download/iphone\" r...</td>\n",
       "      <td>This is Franklin. He would like you to stop ca...</td>\n",
       "      <td>NaN</td>\n",
       "      <td>NaN</td>\n",
       "      <td>NaN</td>\n",
       "      <td>https://twitter.com/dog_rates/status/891327558...</td>\n",
       "      <td>12</td>\n",
       "      <td>10</td>\n",
       "      <td>Franklin</td>\n",
       "      <td>None</td>\n",
       "      <td>None</td>\n",
       "      <td>None</td>\n",
       "      <td>None</td>\n",
       "      <td>NaN</td>\n",
       "    </tr>\n",
       "  </tbody>\n",
       "</table>\n",
       "</div>"
      ],
      "text/plain": [
       "       tweet_id  in_reply_to_status_id  in_reply_to_user_id  \\\n",
       "0  8.924210e+17                    NaN                  NaN   \n",
       "1  8.921770e+17                    NaN                  NaN   \n",
       "2  8.918150e+17                    NaN                  NaN   \n",
       "3  8.916900e+17                    NaN                  NaN   \n",
       "4  8.913280e+17                    NaN                  NaN   \n",
       "\n",
       "                   timestamp  \\\n",
       "0  2017-08-01 16:23:56 +0000   \n",
       "1  2017-08-01 00:17:27 +0000   \n",
       "2  2017-07-31 00:18:03 +0000   \n",
       "3  2017-07-30 15:58:51 +0000   \n",
       "4  2017-07-29 16:00:24 +0000   \n",
       "\n",
       "                                              source  \\\n",
       "0  <a href=\"http://twitter.com/download/iphone\" r...   \n",
       "1  <a href=\"http://twitter.com/download/iphone\" r...   \n",
       "2  <a href=\"http://twitter.com/download/iphone\" r...   \n",
       "3  <a href=\"http://twitter.com/download/iphone\" r...   \n",
       "4  <a href=\"http://twitter.com/download/iphone\" r...   \n",
       "\n",
       "                                                text  retweeted_status_id  \\\n",
       "0  This is Phineas. He's a mystical boy. Only eve...                  NaN   \n",
       "1  This is Tilly. She's just checking pup on you....                  NaN   \n",
       "2  This is Archie. He is a rare Norwegian Pouncin...                  NaN   \n",
       "3  This is Darla. She commenced a snooze mid meal...                  NaN   \n",
       "4  This is Franklin. He would like you to stop ca...                  NaN   \n",
       "\n",
       "   retweeted_status_user_id retweeted_status_timestamp  \\\n",
       "0                       NaN                        NaN   \n",
       "1                       NaN                        NaN   \n",
       "2                       NaN                        NaN   \n",
       "3                       NaN                        NaN   \n",
       "4                       NaN                        NaN   \n",
       "\n",
       "                                       expanded_urls  rating_numerator  \\\n",
       "0  https://twitter.com/dog_rates/status/892420643...                13   \n",
       "1  https://twitter.com/dog_rates/status/892177421...                13   \n",
       "2  https://twitter.com/dog_rates/status/891815181...                12   \n",
       "3  https://twitter.com/dog_rates/status/891689557...                13   \n",
       "4  https://twitter.com/dog_rates/status/891327558...                12   \n",
       "\n",
       "   rating_denominator      name doggo floofer pupper puppo  #VALUE!  \n",
       "0                  10   Phineas  None    None   None  None      NaN  \n",
       "1                  10     Tilly  None    None   None  None      NaN  \n",
       "2                  10    Archie  None    None   None  None      NaN  \n",
       "3                  10     Darla  None    None   None  None      NaN  \n",
       "4                  10  Franklin  None    None   None  None      NaN  "
      ]
     },
     "execution_count": 695,
     "metadata": {},
     "output_type": "execute_result"
    }
   ],
   "source": [
    "twitter_archive_df = pd.read_csv('twitter-archive-enhanced.csv')\n",
    "#reading twitter data \n",
    "\n",
    "#set tweet_id as the index\n",
    "#set_index = twitter_archive_df.set_index('tweet_id')\n",
    "#twitter archive data stored in twitter_archive_df dataframe\n",
    "twitter_archive_df.head()"
   ]
  },
  {
   "cell_type": "markdown",
   "metadata": {},
   "source": [
    "#### Read file from URL https://d17h27t6h515a5.cloudfront.net/topher/2017/August/599fd2ad_image-predictions/image-predictions.tsv\n",
    "#### This file represnt what breed of dog (or other object, animal, etc.) is present in each tweet according to a neural network."
   ]
  },
  {
   "cell_type": "code",
   "execution_count": 3,
   "metadata": {},
   "outputs": [],
   "source": [
    "#image prediction file\n",
    "#image_predictions.tsv\n",
    "\n",
    "url = 'https://d17h27t6h515a5.cloudfront.net/topher/2017/August/599fd2ad_image-predictions/image-predictions.tsv'\n",
    "\n",
    "image_predict = requests.get(url, allow_redirects=True)\n",
    "\n",
    "with open(url.split('/')[-1], mode='wb') as file:\n",
    "    file.write(image_predict.content)\n",
    "#load image prediction file\n",
    "\n",
    "dog_images_df = pd.read_csv('image-predictions.tsv', sep='\\t')\n",
    "#image prediction data stored in dog_images_df dataframe"
   ]
  },
  {
   "cell_type": "code",
   "execution_count": 4,
   "metadata": {},
   "outputs": [],
   "source": [
    "#import tweepy library\n",
    "#twitter api keys\n",
    "import tweepy\n",
    "from tweepy import OAuthHandler\n",
    "\n",
    "consumer_key =\"veTkunCEa4e3v7D1ENf1ksvcF\"\n",
    "consumer_secret =\"6qt5LKdgPAOYT9mfQG1ZdToPBx8Zc1vGKajgJDGaeo9cex9awU\"\n",
    "access_token =\"764343205626277889-HYD5DsB2EmJD9gDtmd7scDjf5iEnxWl\"\n",
    "access_token_secret =\"SqAYJWWIKmTyiy31EY7BZ2TItRDzE4kSsteuBGgyQen5z\"\n",
    "\n",
    "auth = OAuthHandler(consumer_key, consumer_secret)\n",
    "#Setting access token and secret\n",
    "auth.set_access_token(access_token, access_token_secret)\n",
    "#create API object \n",
    "api = tweepy.API(auth, wait_on_rate_limit=True,wait_on_rate_limit_notify=True)\n"
   ]
  },
  {
   "cell_type": "code",
   "execution_count": 5,
   "metadata": {},
   "outputs": [
    {
     "data": {
      "text/plain": [
       "2075"
      ]
     },
     "execution_count": 5,
     "metadata": {},
     "output_type": "execute_result"
    }
   ],
   "source": [
    "tweet_ids = dog_images_df.tweet_id.tolist()\n",
    "len(tweet_ids)"
   ]
  },
  {
   "cell_type": "code",
   "execution_count": 6,
   "metadata": {},
   "outputs": [
    {
     "name": "stderr",
     "output_type": "stream",
     "text": [
      "Rate limit reached. Sleeping for: 245\n"
     ]
    }
   ],
   "source": [
    "count = 0\n",
    "tweets = []\n",
    "fails = []\n",
    "for tweet_id in tweet_ids:\n",
    "        count += 1\n",
    "        #print(str(count) + \": \" + str(tweet_id))\n",
    "        try:\n",
    "            #add tweets ids to tweets list\n",
    "            tweets.append(api.get_status(tweet_id, tweet_mode='extended'))\n",
    "            #print(\"Success\")\n",
    "        except tweepy.TweepError as e:\n",
    "            #add tweets ids to fails list\n",
    "            #print(\"Fail\")\n",
    "            fails.append(tweet_id)\n",
    "        except tweepy.RateLimitError as e:\n",
    "            #print('RateLimitError')\n",
    "            fails.append(tweet_id)\n",
    "        except:\n",
    "            #print('error')\n",
    "            fails.append(tweet_id)\n",
    "  "
   ]
  },
  {
   "cell_type": "code",
   "execution_count": 7,
   "metadata": {},
   "outputs": [
    {
     "data": {
      "text/plain": [
       "(2067, 8)"
      ]
     },
     "execution_count": 7,
     "metadata": {},
     "output_type": "execute_result"
    }
   ],
   "source": [
    "len(tweets), len(fails)   "
   ]
  },
  {
   "cell_type": "code",
   "execution_count": 8,
   "metadata": {},
   "outputs": [],
   "source": [
    "#add tweets to the json file \n",
    "json_data = []\n",
    "for jsonObject in tweets:\n",
    "    json_data.append(jsonObject._json)\n",
    "\n",
    "#write json data to text file \"tweet_data.txt\"     \n",
    "with open('tweet_data.txt', 'w') as outfile:\n",
    "    json.dump(json_data,outfile)\n",
    "    outfile.write('\\n')\n",
    "    "
   ]
  },
  {
   "cell_type": "code",
   "execution_count": 9,
   "metadata": {},
   "outputs": [],
   "source": [
    "#dataframe of twitter data\n",
    "twitter_feed_df = pd.read_json('tweet_data.txt')"
   ]
  },
  {
   "cell_type": "code",
   "execution_count": 10,
   "metadata": {},
   "outputs": [],
   "source": [
    "#convert to csv, and get (retweet_count, favorite_count,id, full_text)\n",
    "tweet_info_list = []\n",
    "with open('tweet_data.txt', 'r') as json_file:\n",
    "    dog_feed_dict = json.load(json_file)\n",
    "\n",
    "for dog_feed_df in dog_feed_dict:\n",
    "    _id = dog_feed_df['id']\n",
    "    text = dog_feed_df['full_text']\n",
    "    favorite_count = dog_feed_df['favorite_count']\n",
    "    retweet_count = dog_feed_df['retweet_count'] \n",
    "    \n",
    "    #add the twitter_feed_df columns to list\n",
    "    tweet_info_list.append({'tweet_id': str(_id),\n",
    "                    'text': text,\n",
    "                    'favorite_count': int(favorite_count),\n",
    "                    'retweet_count': int(retweet_count)})\n",
    "        \n",
    "    twitter_feed_df = pd.DataFrame(tweet_info_list, columns = ['tweet_id','text', 'favorite_count', 'retweet_count'])\n",
    "              "
   ]
  },
  {
   "cell_type": "code",
   "execution_count": 11,
   "metadata": {},
   "outputs": [
    {
     "data": {
      "text/html": [
       "<div>\n",
       "<style scoped>\n",
       "    .dataframe tbody tr th:only-of-type {\n",
       "        vertical-align: middle;\n",
       "    }\n",
       "\n",
       "    .dataframe tbody tr th {\n",
       "        vertical-align: top;\n",
       "    }\n",
       "\n",
       "    .dataframe thead th {\n",
       "        text-align: right;\n",
       "    }\n",
       "</style>\n",
       "<table border=\"1\" class=\"dataframe\">\n",
       "  <thead>\n",
       "    <tr style=\"text-align: right;\">\n",
       "      <th></th>\n",
       "      <th>tweet_id</th>\n",
       "      <th>text</th>\n",
       "      <th>favorite_count</th>\n",
       "      <th>retweet_count</th>\n",
       "    </tr>\n",
       "  </thead>\n",
       "  <tbody>\n",
       "    <tr>\n",
       "      <th>0</th>\n",
       "      <td>666020888022790149</td>\n",
       "      <td>Here we have a Japanese Irish Setter. Lost eye...</td>\n",
       "      <td>2529</td>\n",
       "      <td>498</td>\n",
       "    </tr>\n",
       "    <tr>\n",
       "      <th>1</th>\n",
       "      <td>666029285002620928</td>\n",
       "      <td>This is a western brown Mitsubishi terrier. Up...</td>\n",
       "      <td>125</td>\n",
       "      <td>46</td>\n",
       "    </tr>\n",
       "    <tr>\n",
       "      <th>2</th>\n",
       "      <td>666033412701032449</td>\n",
       "      <td>Here is a very happy pup. Big fan of well-main...</td>\n",
       "      <td>123</td>\n",
       "      <td>43</td>\n",
       "    </tr>\n",
       "    <tr>\n",
       "      <th>3</th>\n",
       "      <td>666044226329800704</td>\n",
       "      <td>This is a purebred Piers Morgan. Loves to Netf...</td>\n",
       "      <td>292</td>\n",
       "      <td>136</td>\n",
       "    </tr>\n",
       "    <tr>\n",
       "      <th>4</th>\n",
       "      <td>666049248165822465</td>\n",
       "      <td>Here we have a 1949 1st generation vulpix. Enj...</td>\n",
       "      <td>106</td>\n",
       "      <td>42</td>\n",
       "    </tr>\n",
       "  </tbody>\n",
       "</table>\n",
       "</div>"
      ],
      "text/plain": [
       "             tweet_id                                               text  \\\n",
       "0  666020888022790149  Here we have a Japanese Irish Setter. Lost eye...   \n",
       "1  666029285002620928  This is a western brown Mitsubishi terrier. Up...   \n",
       "2  666033412701032449  Here is a very happy pup. Big fan of well-main...   \n",
       "3  666044226329800704  This is a purebred Piers Morgan. Loves to Netf...   \n",
       "4  666049248165822465  Here we have a 1949 1st generation vulpix. Enj...   \n",
       "\n",
       "   favorite_count  retweet_count  \n",
       "0            2529            498  \n",
       "1             125             46  \n",
       "2             123             43  \n",
       "3             292            136  \n",
       "4             106             42  "
      ]
     },
     "execution_count": 11,
     "metadata": {},
     "output_type": "execute_result"
    }
   ],
   "source": [
    "#head of the dataframe\n",
    "twitter_feed_df.head()"
   ]
  },
  {
   "cell_type": "markdown",
   "metadata": {},
   "source": [
    "<a id='assess'></a>\n",
    "## Assessing data\n",
    "After gathering each of the above pieces of data, I assessed them visually and programmatically to gather quality and tidiness issues."
   ]
  },
  {
   "cell_type": "code",
   "execution_count": 696,
   "metadata": {},
   "outputs": [
    {
     "data": {
      "text/html": [
       "<div>\n",
       "<style scoped>\n",
       "    .dataframe tbody tr th:only-of-type {\n",
       "        vertical-align: middle;\n",
       "    }\n",
       "\n",
       "    .dataframe tbody tr th {\n",
       "        vertical-align: top;\n",
       "    }\n",
       "\n",
       "    .dataframe thead th {\n",
       "        text-align: right;\n",
       "    }\n",
       "</style>\n",
       "<table border=\"1\" class=\"dataframe\">\n",
       "  <thead>\n",
       "    <tr style=\"text-align: right;\">\n",
       "      <th></th>\n",
       "      <th>tweet_id</th>\n",
       "      <th>in_reply_to_status_id</th>\n",
       "      <th>in_reply_to_user_id</th>\n",
       "      <th>timestamp</th>\n",
       "      <th>source</th>\n",
       "      <th>text</th>\n",
       "      <th>retweeted_status_id</th>\n",
       "      <th>retweeted_status_user_id</th>\n",
       "      <th>retweeted_status_timestamp</th>\n",
       "      <th>expanded_urls</th>\n",
       "      <th>rating_numerator</th>\n",
       "      <th>rating_denominator</th>\n",
       "      <th>name</th>\n",
       "      <th>doggo</th>\n",
       "      <th>floofer</th>\n",
       "      <th>pupper</th>\n",
       "      <th>puppo</th>\n",
       "      <th>#VALUE!</th>\n",
       "    </tr>\n",
       "  </thead>\n",
       "  <tbody>\n",
       "    <tr>\n",
       "      <th>0</th>\n",
       "      <td>8.924210e+17</td>\n",
       "      <td>NaN</td>\n",
       "      <td>NaN</td>\n",
       "      <td>2017-08-01 16:23:56 +0000</td>\n",
       "      <td>&lt;a href=\"http://twitter.com/download/iphone\" r...</td>\n",
       "      <td>This is Phineas. He's a mystical boy. Only eve...</td>\n",
       "      <td>NaN</td>\n",
       "      <td>NaN</td>\n",
       "      <td>NaN</td>\n",
       "      <td>https://twitter.com/dog_rates/status/892420643...</td>\n",
       "      <td>13</td>\n",
       "      <td>10</td>\n",
       "      <td>Phineas</td>\n",
       "      <td>None</td>\n",
       "      <td>None</td>\n",
       "      <td>None</td>\n",
       "      <td>None</td>\n",
       "      <td>NaN</td>\n",
       "    </tr>\n",
       "    <tr>\n",
       "      <th>1</th>\n",
       "      <td>8.921770e+17</td>\n",
       "      <td>NaN</td>\n",
       "      <td>NaN</td>\n",
       "      <td>2017-08-01 00:17:27 +0000</td>\n",
       "      <td>&lt;a href=\"http://twitter.com/download/iphone\" r...</td>\n",
       "      <td>This is Tilly. She's just checking pup on you....</td>\n",
       "      <td>NaN</td>\n",
       "      <td>NaN</td>\n",
       "      <td>NaN</td>\n",
       "      <td>https://twitter.com/dog_rates/status/892177421...</td>\n",
       "      <td>13</td>\n",
       "      <td>10</td>\n",
       "      <td>Tilly</td>\n",
       "      <td>None</td>\n",
       "      <td>None</td>\n",
       "      <td>None</td>\n",
       "      <td>None</td>\n",
       "      <td>NaN</td>\n",
       "    </tr>\n",
       "    <tr>\n",
       "      <th>2</th>\n",
       "      <td>8.918150e+17</td>\n",
       "      <td>NaN</td>\n",
       "      <td>NaN</td>\n",
       "      <td>2017-07-31 00:18:03 +0000</td>\n",
       "      <td>&lt;a href=\"http://twitter.com/download/iphone\" r...</td>\n",
       "      <td>This is Archie. He is a rare Norwegian Pouncin...</td>\n",
       "      <td>NaN</td>\n",
       "      <td>NaN</td>\n",
       "      <td>NaN</td>\n",
       "      <td>https://twitter.com/dog_rates/status/891815181...</td>\n",
       "      <td>12</td>\n",
       "      <td>10</td>\n",
       "      <td>Archie</td>\n",
       "      <td>None</td>\n",
       "      <td>None</td>\n",
       "      <td>None</td>\n",
       "      <td>None</td>\n",
       "      <td>NaN</td>\n",
       "    </tr>\n",
       "    <tr>\n",
       "      <th>3</th>\n",
       "      <td>8.916900e+17</td>\n",
       "      <td>NaN</td>\n",
       "      <td>NaN</td>\n",
       "      <td>2017-07-30 15:58:51 +0000</td>\n",
       "      <td>&lt;a href=\"http://twitter.com/download/iphone\" r...</td>\n",
       "      <td>This is Darla. She commenced a snooze mid meal...</td>\n",
       "      <td>NaN</td>\n",
       "      <td>NaN</td>\n",
       "      <td>NaN</td>\n",
       "      <td>https://twitter.com/dog_rates/status/891689557...</td>\n",
       "      <td>13</td>\n",
       "      <td>10</td>\n",
       "      <td>Darla</td>\n",
       "      <td>None</td>\n",
       "      <td>None</td>\n",
       "      <td>None</td>\n",
       "      <td>None</td>\n",
       "      <td>NaN</td>\n",
       "    </tr>\n",
       "    <tr>\n",
       "      <th>4</th>\n",
       "      <td>8.913280e+17</td>\n",
       "      <td>NaN</td>\n",
       "      <td>NaN</td>\n",
       "      <td>2017-07-29 16:00:24 +0000</td>\n",
       "      <td>&lt;a href=\"http://twitter.com/download/iphone\" r...</td>\n",
       "      <td>This is Franklin. He would like you to stop ca...</td>\n",
       "      <td>NaN</td>\n",
       "      <td>NaN</td>\n",
       "      <td>NaN</td>\n",
       "      <td>https://twitter.com/dog_rates/status/891327558...</td>\n",
       "      <td>12</td>\n",
       "      <td>10</td>\n",
       "      <td>Franklin</td>\n",
       "      <td>None</td>\n",
       "      <td>None</td>\n",
       "      <td>None</td>\n",
       "      <td>None</td>\n",
       "      <td>NaN</td>\n",
       "    </tr>\n",
       "  </tbody>\n",
       "</table>\n",
       "</div>"
      ],
      "text/plain": [
       "       tweet_id  in_reply_to_status_id  in_reply_to_user_id  \\\n",
       "0  8.924210e+17                    NaN                  NaN   \n",
       "1  8.921770e+17                    NaN                  NaN   \n",
       "2  8.918150e+17                    NaN                  NaN   \n",
       "3  8.916900e+17                    NaN                  NaN   \n",
       "4  8.913280e+17                    NaN                  NaN   \n",
       "\n",
       "                   timestamp  \\\n",
       "0  2017-08-01 16:23:56 +0000   \n",
       "1  2017-08-01 00:17:27 +0000   \n",
       "2  2017-07-31 00:18:03 +0000   \n",
       "3  2017-07-30 15:58:51 +0000   \n",
       "4  2017-07-29 16:00:24 +0000   \n",
       "\n",
       "                                              source  \\\n",
       "0  <a href=\"http://twitter.com/download/iphone\" r...   \n",
       "1  <a href=\"http://twitter.com/download/iphone\" r...   \n",
       "2  <a href=\"http://twitter.com/download/iphone\" r...   \n",
       "3  <a href=\"http://twitter.com/download/iphone\" r...   \n",
       "4  <a href=\"http://twitter.com/download/iphone\" r...   \n",
       "\n",
       "                                                text  retweeted_status_id  \\\n",
       "0  This is Phineas. He's a mystical boy. Only eve...                  NaN   \n",
       "1  This is Tilly. She's just checking pup on you....                  NaN   \n",
       "2  This is Archie. He is a rare Norwegian Pouncin...                  NaN   \n",
       "3  This is Darla. She commenced a snooze mid meal...                  NaN   \n",
       "4  This is Franklin. He would like you to stop ca...                  NaN   \n",
       "\n",
       "   retweeted_status_user_id retweeted_status_timestamp  \\\n",
       "0                       NaN                        NaN   \n",
       "1                       NaN                        NaN   \n",
       "2                       NaN                        NaN   \n",
       "3                       NaN                        NaN   \n",
       "4                       NaN                        NaN   \n",
       "\n",
       "                                       expanded_urls  rating_numerator  \\\n",
       "0  https://twitter.com/dog_rates/status/892420643...                13   \n",
       "1  https://twitter.com/dog_rates/status/892177421...                13   \n",
       "2  https://twitter.com/dog_rates/status/891815181...                12   \n",
       "3  https://twitter.com/dog_rates/status/891689557...                13   \n",
       "4  https://twitter.com/dog_rates/status/891327558...                12   \n",
       "\n",
       "   rating_denominator      name doggo floofer pupper puppo  #VALUE!  \n",
       "0                  10   Phineas  None    None   None  None      NaN  \n",
       "1                  10     Tilly  None    None   None  None      NaN  \n",
       "2                  10    Archie  None    None   None  None      NaN  \n",
       "3                  10     Darla  None    None   None  None      NaN  \n",
       "4                  10  Franklin  None    None   None  None      NaN  "
      ]
     },
     "execution_count": 696,
     "metadata": {},
     "output_type": "execute_result"
    }
   ],
   "source": [
    "twitter_archive_df.head()"
   ]
  },
  {
   "cell_type": "code",
   "execution_count": 697,
   "metadata": {},
   "outputs": [
    {
     "data": {
      "text/html": [
       "<div>\n",
       "<style scoped>\n",
       "    .dataframe tbody tr th:only-of-type {\n",
       "        vertical-align: middle;\n",
       "    }\n",
       "\n",
       "    .dataframe tbody tr th {\n",
       "        vertical-align: top;\n",
       "    }\n",
       "\n",
       "    .dataframe thead th {\n",
       "        text-align: right;\n",
       "    }\n",
       "</style>\n",
       "<table border=\"1\" class=\"dataframe\">\n",
       "  <thead>\n",
       "    <tr style=\"text-align: right;\">\n",
       "      <th></th>\n",
       "      <th>tweet_id</th>\n",
       "      <th>in_reply_to_status_id</th>\n",
       "      <th>in_reply_to_user_id</th>\n",
       "      <th>timestamp</th>\n",
       "      <th>source</th>\n",
       "      <th>text</th>\n",
       "      <th>retweeted_status_id</th>\n",
       "      <th>retweeted_status_user_id</th>\n",
       "      <th>retweeted_status_timestamp</th>\n",
       "      <th>expanded_urls</th>\n",
       "      <th>rating_numerator</th>\n",
       "      <th>rating_denominator</th>\n",
       "      <th>name</th>\n",
       "      <th>doggo</th>\n",
       "      <th>floofer</th>\n",
       "      <th>pupper</th>\n",
       "      <th>puppo</th>\n",
       "      <th>#VALUE!</th>\n",
       "    </tr>\n",
       "  </thead>\n",
       "  <tbody>\n",
       "    <tr>\n",
       "      <th>2351</th>\n",
       "      <td>6.660490e+17</td>\n",
       "      <td>NaN</td>\n",
       "      <td>NaN</td>\n",
       "      <td>2015-11-16 00:24:50 +0000</td>\n",
       "      <td>&lt;a href=\"http://twitter.com/download/iphone\" r...</td>\n",
       "      <td>Here we have a 1949 1st generation vulpix. Enj...</td>\n",
       "      <td>NaN</td>\n",
       "      <td>NaN</td>\n",
       "      <td>NaN</td>\n",
       "      <td>https://twitter.com/dog_rates/status/666049248...</td>\n",
       "      <td>5</td>\n",
       "      <td>10</td>\n",
       "      <td>None</td>\n",
       "      <td>None</td>\n",
       "      <td>None</td>\n",
       "      <td>None</td>\n",
       "      <td>None</td>\n",
       "      <td>NaN</td>\n",
       "    </tr>\n",
       "    <tr>\n",
       "      <th>2352</th>\n",
       "      <td>6.660440e+17</td>\n",
       "      <td>NaN</td>\n",
       "      <td>NaN</td>\n",
       "      <td>2015-11-16 00:04:52 +0000</td>\n",
       "      <td>&lt;a href=\"http://twitter.com/download/iphone\" r...</td>\n",
       "      <td>This is a purebred Piers Morgan. Loves to Netf...</td>\n",
       "      <td>NaN</td>\n",
       "      <td>NaN</td>\n",
       "      <td>NaN</td>\n",
       "      <td>https://twitter.com/dog_rates/status/666044226...</td>\n",
       "      <td>6</td>\n",
       "      <td>10</td>\n",
       "      <td>a</td>\n",
       "      <td>None</td>\n",
       "      <td>None</td>\n",
       "      <td>None</td>\n",
       "      <td>None</td>\n",
       "      <td>NaN</td>\n",
       "    </tr>\n",
       "    <tr>\n",
       "      <th>2353</th>\n",
       "      <td>6.660330e+17</td>\n",
       "      <td>NaN</td>\n",
       "      <td>NaN</td>\n",
       "      <td>2015-11-15 23:21:54 +0000</td>\n",
       "      <td>&lt;a href=\"http://twitter.com/download/iphone\" r...</td>\n",
       "      <td>Here is a very happy pup. Big fan of well-main...</td>\n",
       "      <td>NaN</td>\n",
       "      <td>NaN</td>\n",
       "      <td>NaN</td>\n",
       "      <td>https://twitter.com/dog_rates/status/666033412...</td>\n",
       "      <td>9</td>\n",
       "      <td>10</td>\n",
       "      <td>a</td>\n",
       "      <td>None</td>\n",
       "      <td>None</td>\n",
       "      <td>None</td>\n",
       "      <td>None</td>\n",
       "      <td>NaN</td>\n",
       "    </tr>\n",
       "    <tr>\n",
       "      <th>2354</th>\n",
       "      <td>6.660290e+17</td>\n",
       "      <td>NaN</td>\n",
       "      <td>NaN</td>\n",
       "      <td>2015-11-15 23:05:30 +0000</td>\n",
       "      <td>&lt;a href=\"http://twitter.com/download/iphone\" r...</td>\n",
       "      <td>This is a western brown Mitsubishi terrier. Up...</td>\n",
       "      <td>NaN</td>\n",
       "      <td>NaN</td>\n",
       "      <td>NaN</td>\n",
       "      <td>https://twitter.com/dog_rates/status/666029285...</td>\n",
       "      <td>7</td>\n",
       "      <td>10</td>\n",
       "      <td>a</td>\n",
       "      <td>None</td>\n",
       "      <td>None</td>\n",
       "      <td>None</td>\n",
       "      <td>None</td>\n",
       "      <td>NaN</td>\n",
       "    </tr>\n",
       "    <tr>\n",
       "      <th>2355</th>\n",
       "      <td>6.660210e+17</td>\n",
       "      <td>NaN</td>\n",
       "      <td>NaN</td>\n",
       "      <td>2015-11-15 22:32:08 +0000</td>\n",
       "      <td>&lt;a href=\"http://twitter.com/download/iphone\" r...</td>\n",
       "      <td>Here we have a Japanese Irish Setter. Lost eye...</td>\n",
       "      <td>NaN</td>\n",
       "      <td>NaN</td>\n",
       "      <td>NaN</td>\n",
       "      <td>https://twitter.com/dog_rates/status/666020888...</td>\n",
       "      <td>8</td>\n",
       "      <td>10</td>\n",
       "      <td>None</td>\n",
       "      <td>None</td>\n",
       "      <td>None</td>\n",
       "      <td>None</td>\n",
       "      <td>None</td>\n",
       "      <td>NaN</td>\n",
       "    </tr>\n",
       "  </tbody>\n",
       "</table>\n",
       "</div>"
      ],
      "text/plain": [
       "          tweet_id  in_reply_to_status_id  in_reply_to_user_id  \\\n",
       "2351  6.660490e+17                    NaN                  NaN   \n",
       "2352  6.660440e+17                    NaN                  NaN   \n",
       "2353  6.660330e+17                    NaN                  NaN   \n",
       "2354  6.660290e+17                    NaN                  NaN   \n",
       "2355  6.660210e+17                    NaN                  NaN   \n",
       "\n",
       "                      timestamp  \\\n",
       "2351  2015-11-16 00:24:50 +0000   \n",
       "2352  2015-11-16 00:04:52 +0000   \n",
       "2353  2015-11-15 23:21:54 +0000   \n",
       "2354  2015-11-15 23:05:30 +0000   \n",
       "2355  2015-11-15 22:32:08 +0000   \n",
       "\n",
       "                                                 source  \\\n",
       "2351  <a href=\"http://twitter.com/download/iphone\" r...   \n",
       "2352  <a href=\"http://twitter.com/download/iphone\" r...   \n",
       "2353  <a href=\"http://twitter.com/download/iphone\" r...   \n",
       "2354  <a href=\"http://twitter.com/download/iphone\" r...   \n",
       "2355  <a href=\"http://twitter.com/download/iphone\" r...   \n",
       "\n",
       "                                                   text  retweeted_status_id  \\\n",
       "2351  Here we have a 1949 1st generation vulpix. Enj...                  NaN   \n",
       "2352  This is a purebred Piers Morgan. Loves to Netf...                  NaN   \n",
       "2353  Here is a very happy pup. Big fan of well-main...                  NaN   \n",
       "2354  This is a western brown Mitsubishi terrier. Up...                  NaN   \n",
       "2355  Here we have a Japanese Irish Setter. Lost eye...                  NaN   \n",
       "\n",
       "      retweeted_status_user_id retweeted_status_timestamp  \\\n",
       "2351                       NaN                        NaN   \n",
       "2352                       NaN                        NaN   \n",
       "2353                       NaN                        NaN   \n",
       "2354                       NaN                        NaN   \n",
       "2355                       NaN                        NaN   \n",
       "\n",
       "                                          expanded_urls  rating_numerator  \\\n",
       "2351  https://twitter.com/dog_rates/status/666049248...                 5   \n",
       "2352  https://twitter.com/dog_rates/status/666044226...                 6   \n",
       "2353  https://twitter.com/dog_rates/status/666033412...                 9   \n",
       "2354  https://twitter.com/dog_rates/status/666029285...                 7   \n",
       "2355  https://twitter.com/dog_rates/status/666020888...                 8   \n",
       "\n",
       "      rating_denominator  name doggo floofer pupper puppo  #VALUE!  \n",
       "2351                  10  None  None    None   None  None      NaN  \n",
       "2352                  10     a  None    None   None  None      NaN  \n",
       "2353                  10     a  None    None   None  None      NaN  \n",
       "2354                  10     a  None    None   None  None      NaN  \n",
       "2355                  10  None  None    None   None  None      NaN  "
      ]
     },
     "execution_count": 697,
     "metadata": {},
     "output_type": "execute_result"
    }
   ],
   "source": [
    "twitter_archive_df.tail()"
   ]
  },
  {
   "cell_type": "code",
   "execution_count": 698,
   "metadata": {},
   "outputs": [
    {
     "data": {
      "text/html": [
       "<div>\n",
       "<style scoped>\n",
       "    .dataframe tbody tr th:only-of-type {\n",
       "        vertical-align: middle;\n",
       "    }\n",
       "\n",
       "    .dataframe tbody tr th {\n",
       "        vertical-align: top;\n",
       "    }\n",
       "\n",
       "    .dataframe thead th {\n",
       "        text-align: right;\n",
       "    }\n",
       "</style>\n",
       "<table border=\"1\" class=\"dataframe\">\n",
       "  <thead>\n",
       "    <tr style=\"text-align: right;\">\n",
       "      <th></th>\n",
       "      <th>tweet_id</th>\n",
       "      <th>in_reply_to_status_id</th>\n",
       "      <th>in_reply_to_user_id</th>\n",
       "      <th>retweeted_status_id</th>\n",
       "      <th>retweeted_status_user_id</th>\n",
       "      <th>rating_numerator</th>\n",
       "      <th>rating_denominator</th>\n",
       "      <th>#VALUE!</th>\n",
       "    </tr>\n",
       "  </thead>\n",
       "  <tbody>\n",
       "    <tr>\n",
       "      <th>count</th>\n",
       "      <td>2.356000e+03</td>\n",
       "      <td>7.800000e+01</td>\n",
       "      <td>7.800000e+01</td>\n",
       "      <td>1.810000e+02</td>\n",
       "      <td>1.810000e+02</td>\n",
       "      <td>2356.000000</td>\n",
       "      <td>2356.000000</td>\n",
       "      <td>0.0</td>\n",
       "    </tr>\n",
       "    <tr>\n",
       "      <th>mean</th>\n",
       "      <td>7.427716e+17</td>\n",
       "      <td>7.455128e+17</td>\n",
       "      <td>2.015385e+16</td>\n",
       "      <td>7.720221e+17</td>\n",
       "      <td>1.241437e+16</td>\n",
       "      <td>13.126486</td>\n",
       "      <td>10.455433</td>\n",
       "      <td>NaN</td>\n",
       "    </tr>\n",
       "    <tr>\n",
       "      <th>std</th>\n",
       "      <td>6.856706e+16</td>\n",
       "      <td>7.583419e+16</td>\n",
       "      <td>1.253546e+17</td>\n",
       "      <td>6.236131e+16</td>\n",
       "      <td>9.597227e+16</td>\n",
       "      <td>45.876648</td>\n",
       "      <td>6.745237</td>\n",
       "      <td>NaN</td>\n",
       "    </tr>\n",
       "    <tr>\n",
       "      <th>min</th>\n",
       "      <td>6.660210e+17</td>\n",
       "      <td>6.660000e+17</td>\n",
       "      <td>1.185634e+07</td>\n",
       "      <td>6.660000e+17</td>\n",
       "      <td>7.832140e+05</td>\n",
       "      <td>0.000000</td>\n",
       "      <td>0.000000</td>\n",
       "      <td>NaN</td>\n",
       "    </tr>\n",
       "    <tr>\n",
       "      <th>25%</th>\n",
       "      <td>6.783992e+17</td>\n",
       "      <td>6.760000e+17</td>\n",
       "      <td>3.086374e+08</td>\n",
       "      <td>7.190000e+17</td>\n",
       "      <td>4.196984e+09</td>\n",
       "      <td>10.000000</td>\n",
       "      <td>10.000000</td>\n",
       "      <td>NaN</td>\n",
       "    </tr>\n",
       "    <tr>\n",
       "      <th>50%</th>\n",
       "      <td>7.196275e+17</td>\n",
       "      <td>7.035000e+17</td>\n",
       "      <td>4.196984e+09</td>\n",
       "      <td>7.800000e+17</td>\n",
       "      <td>4.196984e+09</td>\n",
       "      <td>11.000000</td>\n",
       "      <td>10.000000</td>\n",
       "      <td>NaN</td>\n",
       "    </tr>\n",
       "    <tr>\n",
       "      <th>75%</th>\n",
       "      <td>7.993375e+17</td>\n",
       "      <td>8.260000e+17</td>\n",
       "      <td>4.196984e+09</td>\n",
       "      <td>8.200000e+17</td>\n",
       "      <td>4.196984e+09</td>\n",
       "      <td>12.000000</td>\n",
       "      <td>10.000000</td>\n",
       "      <td>NaN</td>\n",
       "    </tr>\n",
       "    <tr>\n",
       "      <th>max</th>\n",
       "      <td>8.924210e+17</td>\n",
       "      <td>8.860000e+17</td>\n",
       "      <td>8.410000e+17</td>\n",
       "      <td>8.870000e+17</td>\n",
       "      <td>7.870000e+17</td>\n",
       "      <td>1776.000000</td>\n",
       "      <td>170.000000</td>\n",
       "      <td>NaN</td>\n",
       "    </tr>\n",
       "  </tbody>\n",
       "</table>\n",
       "</div>"
      ],
      "text/plain": [
       "           tweet_id  in_reply_to_status_id  in_reply_to_user_id  \\\n",
       "count  2.356000e+03           7.800000e+01         7.800000e+01   \n",
       "mean   7.427716e+17           7.455128e+17         2.015385e+16   \n",
       "std    6.856706e+16           7.583419e+16         1.253546e+17   \n",
       "min    6.660210e+17           6.660000e+17         1.185634e+07   \n",
       "25%    6.783992e+17           6.760000e+17         3.086374e+08   \n",
       "50%    7.196275e+17           7.035000e+17         4.196984e+09   \n",
       "75%    7.993375e+17           8.260000e+17         4.196984e+09   \n",
       "max    8.924210e+17           8.860000e+17         8.410000e+17   \n",
       "\n",
       "       retweeted_status_id  retweeted_status_user_id  rating_numerator  \\\n",
       "count         1.810000e+02              1.810000e+02       2356.000000   \n",
       "mean          7.720221e+17              1.241437e+16         13.126486   \n",
       "std           6.236131e+16              9.597227e+16         45.876648   \n",
       "min           6.660000e+17              7.832140e+05          0.000000   \n",
       "25%           7.190000e+17              4.196984e+09         10.000000   \n",
       "50%           7.800000e+17              4.196984e+09         11.000000   \n",
       "75%           8.200000e+17              4.196984e+09         12.000000   \n",
       "max           8.870000e+17              7.870000e+17       1776.000000   \n",
       "\n",
       "       rating_denominator  #VALUE!  \n",
       "count         2356.000000      0.0  \n",
       "mean            10.455433      NaN  \n",
       "std              6.745237      NaN  \n",
       "min              0.000000      NaN  \n",
       "25%             10.000000      NaN  \n",
       "50%             10.000000      NaN  \n",
       "75%             10.000000      NaN  \n",
       "max            170.000000      NaN  "
      ]
     },
     "execution_count": 698,
     "metadata": {},
     "output_type": "execute_result"
    }
   ],
   "source": [
    "twitter_archive_df.describe()"
   ]
  },
  {
   "cell_type": "code",
   "execution_count": 699,
   "metadata": {},
   "outputs": [
    {
     "data": {
      "text/html": [
       "<div>\n",
       "<style scoped>\n",
       "    .dataframe tbody tr th:only-of-type {\n",
       "        vertical-align: middle;\n",
       "    }\n",
       "\n",
       "    .dataframe tbody tr th {\n",
       "        vertical-align: top;\n",
       "    }\n",
       "\n",
       "    .dataframe thead th {\n",
       "        text-align: right;\n",
       "    }\n",
       "</style>\n",
       "<table border=\"1\" class=\"dataframe\">\n",
       "  <thead>\n",
       "    <tr style=\"text-align: right;\">\n",
       "      <th></th>\n",
       "      <th>tweet_id</th>\n",
       "      <th>in_reply_to_status_id</th>\n",
       "      <th>in_reply_to_user_id</th>\n",
       "      <th>timestamp</th>\n",
       "      <th>source</th>\n",
       "      <th>text</th>\n",
       "      <th>retweeted_status_id</th>\n",
       "      <th>retweeted_status_user_id</th>\n",
       "      <th>retweeted_status_timestamp</th>\n",
       "      <th>expanded_urls</th>\n",
       "      <th>rating_numerator</th>\n",
       "      <th>rating_denominator</th>\n",
       "      <th>name</th>\n",
       "      <th>doggo</th>\n",
       "      <th>floofer</th>\n",
       "      <th>pupper</th>\n",
       "      <th>puppo</th>\n",
       "      <th>#VALUE!</th>\n",
       "    </tr>\n",
       "  </thead>\n",
       "  <tbody>\n",
       "    <tr>\n",
       "      <th>1568</th>\n",
       "      <td>6.878190e+17</td>\n",
       "      <td>NaN</td>\n",
       "      <td>NaN</td>\n",
       "      <td>2016-01-15 02:08:05 +0000</td>\n",
       "      <td>&lt;a href=\"http://twitter.com/download/iphone\" r...</td>\n",
       "      <td>With great pupper comes great responsibility. ...</td>\n",
       "      <td>NaN</td>\n",
       "      <td>NaN</td>\n",
       "      <td>NaN</td>\n",
       "      <td>https://twitter.com/dog_rates/status/687818504...</td>\n",
       "      <td>12</td>\n",
       "      <td>10</td>\n",
       "      <td>None</td>\n",
       "      <td>None</td>\n",
       "      <td>None</td>\n",
       "      <td>pupper</td>\n",
       "      <td>None</td>\n",
       "      <td>NaN</td>\n",
       "    </tr>\n",
       "    <tr>\n",
       "      <th>597</th>\n",
       "      <td>7.986950e+17</td>\n",
       "      <td>NaN</td>\n",
       "      <td>NaN</td>\n",
       "      <td>2016-11-16 01:09:57 +0000</td>\n",
       "      <td>&lt;a href=\"http://twitter.com/download/iphone\" r...</td>\n",
       "      <td>RT @dog_rates: I'm not sure what's happening h...</td>\n",
       "      <td>7.010000e+17</td>\n",
       "      <td>4.196984e+09</td>\n",
       "      <td>2016-02-21 01:19:47 +0000</td>\n",
       "      <td>https://twitter.com/dog_rates/status/701214700...</td>\n",
       "      <td>12</td>\n",
       "      <td>10</td>\n",
       "      <td>None</td>\n",
       "      <td>None</td>\n",
       "      <td>None</td>\n",
       "      <td>None</td>\n",
       "      <td>None</td>\n",
       "      <td>NaN</td>\n",
       "    </tr>\n",
       "    <tr>\n",
       "      <th>615</th>\n",
       "      <td>7.965630e+17</td>\n",
       "      <td>NaN</td>\n",
       "      <td>NaN</td>\n",
       "      <td>2016-11-10 04:01:37 +0000</td>\n",
       "      <td>&lt;a href=\"http://twitter.com/download/iphone\" r...</td>\n",
       "      <td>RT @dog_rates: I want to finally rate this ico...</td>\n",
       "      <td>7.810000e+17</td>\n",
       "      <td>4.196984e+09</td>\n",
       "      <td>2016-09-28 00:46:20 +0000</td>\n",
       "      <td>https://twitter.com/dog_rates/status/780931614...</td>\n",
       "      <td>13</td>\n",
       "      <td>10</td>\n",
       "      <td>None</td>\n",
       "      <td>None</td>\n",
       "      <td>None</td>\n",
       "      <td>None</td>\n",
       "      <td>puppo</td>\n",
       "      <td>NaN</td>\n",
       "    </tr>\n",
       "    <tr>\n",
       "      <th>1812</th>\n",
       "      <td>6.768120e+17</td>\n",
       "      <td>NaN</td>\n",
       "      <td>NaN</td>\n",
       "      <td>2015-12-15 17:11:09 +0000</td>\n",
       "      <td>&lt;a href=\"http://twitter.com/download/iphone\" r...</td>\n",
       "      <td>Say hello to Penny &amp;amp; Gizmo. They are pract...</td>\n",
       "      <td>NaN</td>\n",
       "      <td>NaN</td>\n",
       "      <td>NaN</td>\n",
       "      <td>https://twitter.com/dog_rates/status/676811746...</td>\n",
       "      <td>9</td>\n",
       "      <td>10</td>\n",
       "      <td>Penny</td>\n",
       "      <td>None</td>\n",
       "      <td>None</td>\n",
       "      <td>None</td>\n",
       "      <td>None</td>\n",
       "      <td>NaN</td>\n",
       "    </tr>\n",
       "  </tbody>\n",
       "</table>\n",
       "</div>"
      ],
      "text/plain": [
       "          tweet_id  in_reply_to_status_id  in_reply_to_user_id  \\\n",
       "1568  6.878190e+17                    NaN                  NaN   \n",
       "597   7.986950e+17                    NaN                  NaN   \n",
       "615   7.965630e+17                    NaN                  NaN   \n",
       "1812  6.768120e+17                    NaN                  NaN   \n",
       "\n",
       "                      timestamp  \\\n",
       "1568  2016-01-15 02:08:05 +0000   \n",
       "597   2016-11-16 01:09:57 +0000   \n",
       "615   2016-11-10 04:01:37 +0000   \n",
       "1812  2015-12-15 17:11:09 +0000   \n",
       "\n",
       "                                                 source  \\\n",
       "1568  <a href=\"http://twitter.com/download/iphone\" r...   \n",
       "597   <a href=\"http://twitter.com/download/iphone\" r...   \n",
       "615   <a href=\"http://twitter.com/download/iphone\" r...   \n",
       "1812  <a href=\"http://twitter.com/download/iphone\" r...   \n",
       "\n",
       "                                                   text  retweeted_status_id  \\\n",
       "1568  With great pupper comes great responsibility. ...                  NaN   \n",
       "597   RT @dog_rates: I'm not sure what's happening h...         7.010000e+17   \n",
       "615   RT @dog_rates: I want to finally rate this ico...         7.810000e+17   \n",
       "1812  Say hello to Penny &amp; Gizmo. They are pract...                  NaN   \n",
       "\n",
       "      retweeted_status_user_id retweeted_status_timestamp  \\\n",
       "1568                       NaN                        NaN   \n",
       "597               4.196984e+09  2016-02-21 01:19:47 +0000   \n",
       "615               4.196984e+09  2016-09-28 00:46:20 +0000   \n",
       "1812                       NaN                        NaN   \n",
       "\n",
       "                                          expanded_urls  rating_numerator  \\\n",
       "1568  https://twitter.com/dog_rates/status/687818504...                12   \n",
       "597   https://twitter.com/dog_rates/status/701214700...                12   \n",
       "615   https://twitter.com/dog_rates/status/780931614...                13   \n",
       "1812  https://twitter.com/dog_rates/status/676811746...                 9   \n",
       "\n",
       "      rating_denominator   name doggo floofer  pupper  puppo  #VALUE!  \n",
       "1568                  10   None  None    None  pupper   None      NaN  \n",
       "597                   10   None  None    None    None   None      NaN  \n",
       "615                   10   None  None    None    None  puppo      NaN  \n",
       "1812                  10  Penny  None    None    None   None      NaN  "
      ]
     },
     "execution_count": 699,
     "metadata": {},
     "output_type": "execute_result"
    }
   ],
   "source": [
    "twitter_archive_df.sample(4)"
   ]
  },
  {
   "cell_type": "code",
   "execution_count": 700,
   "metadata": {},
   "outputs": [
    {
     "data": {
      "text/plain": [
       "(2356, 18)"
      ]
     },
     "execution_count": 700,
     "metadata": {},
     "output_type": "execute_result"
    }
   ],
   "source": [
    "twitter_archive_df.shape\n",
    "#17 columns and 2356 rows"
   ]
  },
  {
   "cell_type": "code",
   "execution_count": 701,
   "metadata": {},
   "outputs": [
    {
     "name": "stdout",
     "output_type": "stream",
     "text": [
      "<class 'pandas.core.frame.DataFrame'>\n",
      "RangeIndex: 2356 entries, 0 to 2355\n",
      "Data columns (total 18 columns):\n",
      "tweet_id                      2356 non-null float64\n",
      "in_reply_to_status_id         78 non-null float64\n",
      "in_reply_to_user_id           78 non-null float64\n",
      "timestamp                     2356 non-null object\n",
      "source                        2356 non-null object\n",
      "text                          2356 non-null object\n",
      "retweeted_status_id           181 non-null float64\n",
      "retweeted_status_user_id      181 non-null float64\n",
      "retweeted_status_timestamp    181 non-null object\n",
      "expanded_urls                 2297 non-null object\n",
      "rating_numerator              2356 non-null int64\n",
      "rating_denominator            2356 non-null int64\n",
      "name                          2356 non-null object\n",
      "doggo                         2356 non-null object\n",
      "floofer                       2356 non-null object\n",
      "pupper                        2356 non-null object\n",
      "puppo                         2356 non-null object\n",
      "#VALUE!                       0 non-null float64\n",
      "dtypes: float64(6), int64(2), object(10)\n",
      "memory usage: 331.4+ KB\n"
     ]
    }
   ],
   "source": [
    "twitter_archive_df.info()\n",
    "#there are missing data in retweeted_status_id, retweeted_status_user_id, retweeted_status_timestamp, \n",
    "#in_reply_to_status_id, and in_reply_to_user_id columns"
   ]
  },
  {
   "cell_type": "code",
   "execution_count": 702,
   "metadata": {},
   "outputs": [
    {
     "data": {
      "text/plain": [
       "6.757070e+17    2\n",
       "8.322160e+17    2\n",
       "6.737160e+17    2\n",
       "6.747430e+17    2\n",
       "6.751470e+17    2\n",
       "6.675510e+17    2\n",
       "8.190150e+17    2\n",
       "7.276860e+17    1\n",
       "8.347860e+17    1\n",
       "8.703090e+17    1\n",
       "7.602530e+17    1\n",
       "6.671920e+17    1\n",
       "7.949840e+17    1\n",
       "6.895170e+17    1\n",
       "6.709960e+17    1\n",
       "6.722640e+17    1\n",
       "7.663130e+17    1\n",
       "7.490750e+17    1\n",
       "8.047390e+17    1\n",
       "6.801910e+17    1\n",
       "8.344780e+17    1\n",
       "8.218140e+17    1\n",
       "7.943320e+17    1\n",
       "8.732140e+17    1\n",
       "7.478440e+17    1\n",
       "7.761130e+17    1\n",
       "7.087380e+17    1\n",
       "6.757980e+17    1\n",
       "8.250270e+17    1\n",
       "6.997890e+17    1\n",
       "               ..\n",
       "8.382020e+17    1\n",
       "6.849020e+17    1\n",
       "6.775480e+17    1\n",
       "8.085020e+17    1\n",
       "8.186460e+17    1\n",
       "7.008480e+17    1\n",
       "6.742710e+17    1\n",
       "7.910260e+17    1\n",
       "8.896650e+17    1\n",
       "6.892750e+17    1\n",
       "6.895580e+17    1\n",
       "7.167300e+17    1\n",
       "6.985500e+17    1\n",
       "7.840580e+17    1\n",
       "8.363980e+17    1\n",
       "8.902400e+17    1\n",
       "7.050660e+17    1\n",
       "8.863660e+17    1\n",
       "7.783830e+17    1\n",
       "8.918150e+17    1\n",
       "6.729950e+17    1\n",
       "8.892790e+17    1\n",
       "8.874740e+17    1\n",
       "7.825990e+17    1\n",
       "8.109850e+17    1\n",
       "7.519500e+17    1\n",
       "7.193680e+17    1\n",
       "6.689920e+17    1\n",
       "8.889170e+17    1\n",
       "7.787650e+17    1\n",
       "Name: tweet_id, Length: 2349, dtype: int64"
      ]
     },
     "execution_count": 702,
     "metadata": {},
     "output_type": "execute_result"
    }
   ],
   "source": [
    "twitter_archive_df['tweet_id'].value_counts()\n",
    "\n",
    "# the timestamp and retweeted_status_timestamp datatype are object need to change it to datetime ==> Quality"
   ]
  },
  {
   "cell_type": "code",
   "execution_count": 703,
   "metadata": {},
   "outputs": [
    {
     "data": {
      "text/plain": [
       "7"
      ]
     },
     "execution_count": 703,
     "metadata": {},
     "output_type": "execute_result"
    }
   ],
   "source": [
    "sum(twitter_archive_df['tweet_id'].duplicated())\n",
    "#remove duplicated "
   ]
  },
  {
   "cell_type": "code",
   "execution_count": 704,
   "metadata": {},
   "outputs": [
    {
     "data": {
      "text/plain": [
       "10     2333\n",
       "11        3\n",
       "50        3\n",
       "80        2\n",
       "20        2\n",
       "2         1\n",
       "16        1\n",
       "40        1\n",
       "70        1\n",
       "15        1\n",
       "90        1\n",
       "110       1\n",
       "120       1\n",
       "130       1\n",
       "150       1\n",
       "170       1\n",
       "7         1\n",
       "0         1\n",
       "Name: rating_denominator, dtype: int64"
      ]
     },
     "execution_count": 704,
     "metadata": {},
     "output_type": "execute_result"
    }
   ],
   "source": [
    "twitter_archive_df['rating_denominator'].value_counts()\n",
    "#remove 11,50,80,20,2,16,40,70,15,90,110,120, 130,150,7,0 \n",
    "#the rating numerators are greater than the denominators does not need to be cleaned"
   ]
  },
  {
   "cell_type": "code",
   "execution_count": 705,
   "metadata": {},
   "outputs": [
    {
     "data": {
      "text/plain": [
       "12      558\n",
       "11      464\n",
       "10      461\n",
       "13      351\n",
       "9       158\n",
       "8       102\n",
       "7        55\n",
       "14       54\n",
       "5        37\n",
       "6        32\n",
       "3        19\n",
       "4        17\n",
       "1         9\n",
       "2         9\n",
       "420       2\n",
       "0         2\n",
       "15        2\n",
       "75        2\n",
       "80        1\n",
       "20        1\n",
       "24        1\n",
       "26        1\n",
       "44        1\n",
       "50        1\n",
       "60        1\n",
       "165       1\n",
       "84        1\n",
       "88        1\n",
       "144       1\n",
       "182       1\n",
       "143       1\n",
       "666       1\n",
       "960       1\n",
       "1776      1\n",
       "17        1\n",
       "27        1\n",
       "45        1\n",
       "99        1\n",
       "121       1\n",
       "204       1\n",
       "Name: rating_numerator, dtype: int64"
      ]
     },
     "execution_count": 705,
     "metadata": {},
     "output_type": "execute_result"
    }
   ],
   "source": [
    "twitter_archive_df['rating_numerator'].value_counts()\n",
    "# remove all numerator >14\n"
   ]
  },
  {
   "cell_type": "code",
   "execution_count": 706,
   "metadata": {},
   "outputs": [
    {
     "data": {
      "text/plain": [
       "None     2259\n",
       "doggo      97\n",
       "Name: doggo, dtype: int64"
      ]
     },
     "execution_count": 706,
     "metadata": {},
     "output_type": "execute_result"
    }
   ],
   "source": [
    "twitter_archive_df['doggo'].value_counts()"
   ]
  },
  {
   "cell_type": "code",
   "execution_count": 707,
   "metadata": {},
   "outputs": [
    {
     "data": {
      "text/plain": [
       "None       2346\n",
       "floofer      10\n",
       "Name: floofer, dtype: int64"
      ]
     },
     "execution_count": 707,
     "metadata": {},
     "output_type": "execute_result"
    }
   ],
   "source": [
    "twitter_archive_df['floofer'].value_counts()"
   ]
  },
  {
   "cell_type": "code",
   "execution_count": 708,
   "metadata": {},
   "outputs": [
    {
     "data": {
      "text/plain": [
       "None      2099\n",
       "pupper     257\n",
       "Name: pupper, dtype: int64"
      ]
     },
     "execution_count": 708,
     "metadata": {},
     "output_type": "execute_result"
    }
   ],
   "source": [
    "twitter_archive_df['pupper'].value_counts()"
   ]
  },
  {
   "cell_type": "code",
   "execution_count": 709,
   "metadata": {},
   "outputs": [
    {
     "data": {
      "text/plain": [
       "None     2326\n",
       "puppo      30\n",
       "Name: puppo, dtype: int64"
      ]
     },
     "execution_count": 709,
     "metadata": {},
     "output_type": "execute_result"
    }
   ],
   "source": [
    "twitter_archive_df['puppo'].value_counts()"
   ]
  },
  {
   "cell_type": "code",
   "execution_count": 710,
   "metadata": {},
   "outputs": [
    {
     "data": {
      "text/plain": [
       "None         745\n",
       "a             55\n",
       "Charlie       12\n",
       "Oliver        11\n",
       "Lucy          11\n",
       "Cooper        11\n",
       "Tucker        10\n",
       "Penny         10\n",
       "Lola          10\n",
       "Winston        9\n",
       "Bo             9\n",
       "Sadie          8\n",
       "the            8\n",
       "Buddy          7\n",
       "an             7\n",
       "Bailey         7\n",
       "Toby           7\n",
       "Daisy          7\n",
       "Jack           6\n",
       "Scout          6\n",
       "Stanley        6\n",
       "Jax            6\n",
       "Milo           6\n",
       "Leo            6\n",
       "Bella          6\n",
       "Oscar          6\n",
       "Koda           6\n",
       "Rusty          6\n",
       "Dave           6\n",
       "Phil           5\n",
       "            ... \n",
       "Rupert         1\n",
       "Taco           1\n",
       "Fabio          1\n",
       "Spark          1\n",
       "O              1\n",
       "old            1\n",
       "Timofy         1\n",
       "Bauer          1\n",
       "Clybe          1\n",
       "Loomis         1\n",
       "Zeek           1\n",
       "Freddery       1\n",
       "Rooney         1\n",
       "Traviss        1\n",
       "Mary           1\n",
       "Callie         1\n",
       "Jebberson      1\n",
       "Marvin         1\n",
       "Pawnd          1\n",
       "Ember          1\n",
       "Benny          1\n",
       "Jameson        1\n",
       "Darrel         1\n",
       "Mosby          1\n",
       "Vixen          1\n",
       "Oreo           1\n",
       "Obi            1\n",
       "Sunshine       1\n",
       "Koko           1\n",
       "Danny          1\n",
       "Name: name, Length: 957, dtype: int64"
      ]
     },
     "execution_count": 710,
     "metadata": {},
     "output_type": "execute_result"
    }
   ],
   "source": [
    "twitter_archive_df['name'].value_counts()"
   ]
  },
  {
   "cell_type": "code",
   "execution_count": 711,
   "metadata": {},
   "outputs": [
    {
     "data": {
      "text/plain": [
       "2082    This is Sage. He likes to burn shit. 10/10 htt...\n",
       "1177    This is Clyde. He's making sure you're having ...\n",
       "1196    This is Flávio (pronounced Baxter). He's a Ben...\n",
       "1302    This is Harper. She scraped her elbow attempti...\n",
       "1798    Say hello to Chuq. He just wants to fit in. 11...\n",
       "1867    Good morning here's a grass pupper. 12/10 http...\n",
       "1997    Lots of pups here. All are Judea Hazelnuts. Ex...\n",
       "143     This is Paisley. She ate a flower just to prov...\n",
       "292     This is Daisy. She's puppears to be rare as al...\n",
       "1891    These two pups are masters of camouflage. Very...\n",
       "Name: text, dtype: object"
      ]
     },
     "execution_count": 711,
     "metadata": {},
     "output_type": "execute_result"
    }
   ],
   "source": [
    "twitter_archive_df['text'].sample(10)"
   ]
  },
  {
   "cell_type": "code",
   "execution_count": 712,
   "metadata": {},
   "outputs": [
    {
     "data": {
      "text/html": [
       "<div>\n",
       "<style scoped>\n",
       "    .dataframe tbody tr th:only-of-type {\n",
       "        vertical-align: middle;\n",
       "    }\n",
       "\n",
       "    .dataframe tbody tr th {\n",
       "        vertical-align: top;\n",
       "    }\n",
       "\n",
       "    .dataframe thead th {\n",
       "        text-align: right;\n",
       "    }\n",
       "</style>\n",
       "<table border=\"1\" class=\"dataframe\">\n",
       "  <thead>\n",
       "    <tr style=\"text-align: right;\">\n",
       "      <th></th>\n",
       "      <th>tweet_id</th>\n",
       "      <th>jpg_url</th>\n",
       "      <th>img_num</th>\n",
       "      <th>p1</th>\n",
       "      <th>p1_conf</th>\n",
       "      <th>p1_dog</th>\n",
       "      <th>p2</th>\n",
       "      <th>p2_conf</th>\n",
       "      <th>p2_dog</th>\n",
       "      <th>p3</th>\n",
       "      <th>p3_conf</th>\n",
       "      <th>p3_dog</th>\n",
       "    </tr>\n",
       "  </thead>\n",
       "  <tbody>\n",
       "    <tr>\n",
       "      <th>0</th>\n",
       "      <td>666020888022790149</td>\n",
       "      <td>https://pbs.twimg.com/media/CT4udn0WwAA0aMy.jpg</td>\n",
       "      <td>1</td>\n",
       "      <td>Welsh_springer_spaniel</td>\n",
       "      <td>0.465074</td>\n",
       "      <td>True</td>\n",
       "      <td>collie</td>\n",
       "      <td>0.156665</td>\n",
       "      <td>True</td>\n",
       "      <td>Shetland_sheepdog</td>\n",
       "      <td>0.061428</td>\n",
       "      <td>True</td>\n",
       "    </tr>\n",
       "    <tr>\n",
       "      <th>1</th>\n",
       "      <td>666029285002620928</td>\n",
       "      <td>https://pbs.twimg.com/media/CT42GRgUYAA5iDo.jpg</td>\n",
       "      <td>1</td>\n",
       "      <td>redbone</td>\n",
       "      <td>0.506826</td>\n",
       "      <td>True</td>\n",
       "      <td>miniature_pinscher</td>\n",
       "      <td>0.074192</td>\n",
       "      <td>True</td>\n",
       "      <td>Rhodesian_ridgeback</td>\n",
       "      <td>0.072010</td>\n",
       "      <td>True</td>\n",
       "    </tr>\n",
       "    <tr>\n",
       "      <th>2</th>\n",
       "      <td>666033412701032449</td>\n",
       "      <td>https://pbs.twimg.com/media/CT4521TWwAEvMyu.jpg</td>\n",
       "      <td>1</td>\n",
       "      <td>German_shepherd</td>\n",
       "      <td>0.596461</td>\n",
       "      <td>True</td>\n",
       "      <td>malinois</td>\n",
       "      <td>0.138584</td>\n",
       "      <td>True</td>\n",
       "      <td>bloodhound</td>\n",
       "      <td>0.116197</td>\n",
       "      <td>True</td>\n",
       "    </tr>\n",
       "    <tr>\n",
       "      <th>3</th>\n",
       "      <td>666044226329800704</td>\n",
       "      <td>https://pbs.twimg.com/media/CT5Dr8HUEAA-lEu.jpg</td>\n",
       "      <td>1</td>\n",
       "      <td>Rhodesian_ridgeback</td>\n",
       "      <td>0.408143</td>\n",
       "      <td>True</td>\n",
       "      <td>redbone</td>\n",
       "      <td>0.360687</td>\n",
       "      <td>True</td>\n",
       "      <td>miniature_pinscher</td>\n",
       "      <td>0.222752</td>\n",
       "      <td>True</td>\n",
       "    </tr>\n",
       "    <tr>\n",
       "      <th>4</th>\n",
       "      <td>666049248165822465</td>\n",
       "      <td>https://pbs.twimg.com/media/CT5IQmsXIAAKY4A.jpg</td>\n",
       "      <td>1</td>\n",
       "      <td>miniature_pinscher</td>\n",
       "      <td>0.560311</td>\n",
       "      <td>True</td>\n",
       "      <td>Rottweiler</td>\n",
       "      <td>0.243682</td>\n",
       "      <td>True</td>\n",
       "      <td>Doberman</td>\n",
       "      <td>0.154629</td>\n",
       "      <td>True</td>\n",
       "    </tr>\n",
       "  </tbody>\n",
       "</table>\n",
       "</div>"
      ],
      "text/plain": [
       "             tweet_id                                          jpg_url  \\\n",
       "0  666020888022790149  https://pbs.twimg.com/media/CT4udn0WwAA0aMy.jpg   \n",
       "1  666029285002620928  https://pbs.twimg.com/media/CT42GRgUYAA5iDo.jpg   \n",
       "2  666033412701032449  https://pbs.twimg.com/media/CT4521TWwAEvMyu.jpg   \n",
       "3  666044226329800704  https://pbs.twimg.com/media/CT5Dr8HUEAA-lEu.jpg   \n",
       "4  666049248165822465  https://pbs.twimg.com/media/CT5IQmsXIAAKY4A.jpg   \n",
       "\n",
       "   img_num                      p1   p1_conf  p1_dog                  p2  \\\n",
       "0        1  Welsh_springer_spaniel  0.465074    True              collie   \n",
       "1        1                 redbone  0.506826    True  miniature_pinscher   \n",
       "2        1         German_shepherd  0.596461    True            malinois   \n",
       "3        1     Rhodesian_ridgeback  0.408143    True             redbone   \n",
       "4        1      miniature_pinscher  0.560311    True          Rottweiler   \n",
       "\n",
       "    p2_conf  p2_dog                   p3   p3_conf  p3_dog  \n",
       "0  0.156665    True    Shetland_sheepdog  0.061428    True  \n",
       "1  0.074192    True  Rhodesian_ridgeback  0.072010    True  \n",
       "2  0.138584    True           bloodhound  0.116197    True  \n",
       "3  0.360687    True   miniature_pinscher  0.222752    True  \n",
       "4  0.243682    True             Doberman  0.154629    True  "
      ]
     },
     "execution_count": 712,
     "metadata": {},
     "output_type": "execute_result"
    }
   ],
   "source": [
    "dog_images_df.head()\n",
    "#p1 is the algorithm's #1 prediction for the image in the tweet → golden retriever\n",
    "#p1_conf is how confident the algorithm is in its #1 prediction → 95%\n",
    "#p1_dog is whether or not the #1 prediction is a breed of dog → TRUE\n",
    "#p2 is the algorithm's second most likely prediction → Labrador retriever\n",
    "#p2_conf is how confident the algorithm is in its #2 prediction → 1%\n",
    "#p2_dog is whether or not the #2 prediction is a breed of dog → TRUE"
   ]
  },
  {
   "cell_type": "code",
   "execution_count": 713,
   "metadata": {},
   "outputs": [
    {
     "data": {
      "text/html": [
       "<div>\n",
       "<style scoped>\n",
       "    .dataframe tbody tr th:only-of-type {\n",
       "        vertical-align: middle;\n",
       "    }\n",
       "\n",
       "    .dataframe tbody tr th {\n",
       "        vertical-align: top;\n",
       "    }\n",
       "\n",
       "    .dataframe thead th {\n",
       "        text-align: right;\n",
       "    }\n",
       "</style>\n",
       "<table border=\"1\" class=\"dataframe\">\n",
       "  <thead>\n",
       "    <tr style=\"text-align: right;\">\n",
       "      <th></th>\n",
       "      <th>tweet_id</th>\n",
       "      <th>jpg_url</th>\n",
       "      <th>img_num</th>\n",
       "      <th>p1</th>\n",
       "      <th>p1_conf</th>\n",
       "      <th>p1_dog</th>\n",
       "      <th>p2</th>\n",
       "      <th>p2_conf</th>\n",
       "      <th>p2_dog</th>\n",
       "      <th>p3</th>\n",
       "      <th>p3_conf</th>\n",
       "      <th>p3_dog</th>\n",
       "    </tr>\n",
       "  </thead>\n",
       "  <tbody>\n",
       "    <tr>\n",
       "      <th>2070</th>\n",
       "      <td>891327558926688256</td>\n",
       "      <td>https://pbs.twimg.com/media/DF6hr6BUMAAzZgT.jpg</td>\n",
       "      <td>2</td>\n",
       "      <td>basset</td>\n",
       "      <td>0.555712</td>\n",
       "      <td>True</td>\n",
       "      <td>English_springer</td>\n",
       "      <td>0.225770</td>\n",
       "      <td>True</td>\n",
       "      <td>German_short-haired_pointer</td>\n",
       "      <td>0.175219</td>\n",
       "      <td>True</td>\n",
       "    </tr>\n",
       "    <tr>\n",
       "      <th>2071</th>\n",
       "      <td>891689557279858688</td>\n",
       "      <td>https://pbs.twimg.com/media/DF_q7IAWsAEuuN8.jpg</td>\n",
       "      <td>1</td>\n",
       "      <td>paper_towel</td>\n",
       "      <td>0.170278</td>\n",
       "      <td>False</td>\n",
       "      <td>Labrador_retriever</td>\n",
       "      <td>0.168086</td>\n",
       "      <td>True</td>\n",
       "      <td>spatula</td>\n",
       "      <td>0.040836</td>\n",
       "      <td>False</td>\n",
       "    </tr>\n",
       "    <tr>\n",
       "      <th>2072</th>\n",
       "      <td>891815181378084864</td>\n",
       "      <td>https://pbs.twimg.com/media/DGBdLU1WsAANxJ9.jpg</td>\n",
       "      <td>1</td>\n",
       "      <td>Chihuahua</td>\n",
       "      <td>0.716012</td>\n",
       "      <td>True</td>\n",
       "      <td>malamute</td>\n",
       "      <td>0.078253</td>\n",
       "      <td>True</td>\n",
       "      <td>kelpie</td>\n",
       "      <td>0.031379</td>\n",
       "      <td>True</td>\n",
       "    </tr>\n",
       "    <tr>\n",
       "      <th>2073</th>\n",
       "      <td>892177421306343426</td>\n",
       "      <td>https://pbs.twimg.com/media/DGGmoV4XsAAUL6n.jpg</td>\n",
       "      <td>1</td>\n",
       "      <td>Chihuahua</td>\n",
       "      <td>0.323581</td>\n",
       "      <td>True</td>\n",
       "      <td>Pekinese</td>\n",
       "      <td>0.090647</td>\n",
       "      <td>True</td>\n",
       "      <td>papillon</td>\n",
       "      <td>0.068957</td>\n",
       "      <td>True</td>\n",
       "    </tr>\n",
       "    <tr>\n",
       "      <th>2074</th>\n",
       "      <td>892420643555336193</td>\n",
       "      <td>https://pbs.twimg.com/media/DGKD1-bXoAAIAUK.jpg</td>\n",
       "      <td>1</td>\n",
       "      <td>orange</td>\n",
       "      <td>0.097049</td>\n",
       "      <td>False</td>\n",
       "      <td>bagel</td>\n",
       "      <td>0.085851</td>\n",
       "      <td>False</td>\n",
       "      <td>banana</td>\n",
       "      <td>0.076110</td>\n",
       "      <td>False</td>\n",
       "    </tr>\n",
       "  </tbody>\n",
       "</table>\n",
       "</div>"
      ],
      "text/plain": [
       "                tweet_id                                          jpg_url  \\\n",
       "2070  891327558926688256  https://pbs.twimg.com/media/DF6hr6BUMAAzZgT.jpg   \n",
       "2071  891689557279858688  https://pbs.twimg.com/media/DF_q7IAWsAEuuN8.jpg   \n",
       "2072  891815181378084864  https://pbs.twimg.com/media/DGBdLU1WsAANxJ9.jpg   \n",
       "2073  892177421306343426  https://pbs.twimg.com/media/DGGmoV4XsAAUL6n.jpg   \n",
       "2074  892420643555336193  https://pbs.twimg.com/media/DGKD1-bXoAAIAUK.jpg   \n",
       "\n",
       "      img_num           p1   p1_conf  p1_dog                  p2   p2_conf  \\\n",
       "2070        2       basset  0.555712    True    English_springer  0.225770   \n",
       "2071        1  paper_towel  0.170278   False  Labrador_retriever  0.168086   \n",
       "2072        1    Chihuahua  0.716012    True            malamute  0.078253   \n",
       "2073        1    Chihuahua  0.323581    True            Pekinese  0.090647   \n",
       "2074        1       orange  0.097049   False               bagel  0.085851   \n",
       "\n",
       "      p2_dog                           p3   p3_conf  p3_dog  \n",
       "2070    True  German_short-haired_pointer  0.175219    True  \n",
       "2071    True                      spatula  0.040836   False  \n",
       "2072    True                       kelpie  0.031379    True  \n",
       "2073    True                     papillon  0.068957    True  \n",
       "2074   False                       banana  0.076110   False  "
      ]
     },
     "execution_count": 713,
     "metadata": {},
     "output_type": "execute_result"
    }
   ],
   "source": [
    "dog_images_df.tail()"
   ]
  },
  {
   "cell_type": "code",
   "execution_count": 714,
   "metadata": {},
   "outputs": [
    {
     "data": {
      "text/plain": [
       "(2075, 12)"
      ]
     },
     "execution_count": 714,
     "metadata": {},
     "output_type": "execute_result"
    }
   ],
   "source": [
    "dog_images_df.shape\n",
    "#12 coumns and 2075 rows"
   ]
  },
  {
   "cell_type": "code",
   "execution_count": 715,
   "metadata": {},
   "outputs": [
    {
     "name": "stdout",
     "output_type": "stream",
     "text": [
      "<class 'pandas.core.frame.DataFrame'>\n",
      "RangeIndex: 2075 entries, 0 to 2074\n",
      "Data columns (total 12 columns):\n",
      "tweet_id    2075 non-null int64\n",
      "jpg_url     2075 non-null object\n",
      "img_num     2075 non-null int64\n",
      "p1          2075 non-null object\n",
      "p1_conf     2075 non-null float64\n",
      "p1_dog      2075 non-null bool\n",
      "p2          2075 non-null object\n",
      "p2_conf     2075 non-null float64\n",
      "p2_dog      2075 non-null bool\n",
      "p3          2075 non-null object\n",
      "p3_conf     2075 non-null float64\n",
      "p3_dog      2075 non-null bool\n",
      "dtypes: bool(3), float64(3), int64(2), object(4)\n",
      "memory usage: 152.1+ KB\n"
     ]
    }
   ],
   "source": [
    "dog_images_df.info()"
   ]
  },
  {
   "cell_type": "code",
   "execution_count": 716,
   "metadata": {},
   "outputs": [
    {
     "data": {
      "text/plain": [
       "0"
      ]
     },
     "execution_count": 716,
     "metadata": {},
     "output_type": "execute_result"
    }
   ],
   "source": [
    "sum(dog_images_df['tweet_id'].duplicated())"
   ]
  },
  {
   "cell_type": "code",
   "execution_count": 717,
   "metadata": {},
   "outputs": [
    {
     "data": {
      "text/plain": [
       "66"
      ]
     },
     "execution_count": 717,
     "metadata": {},
     "output_type": "execute_result"
    }
   ],
   "source": [
    "sum(dog_images_df['jpg_url'].duplicated())\n",
    "#66 imge duplicated "
   ]
  },
  {
   "cell_type": "code",
   "execution_count": 718,
   "metadata": {},
   "outputs": [
    {
     "data": {
      "text/plain": [
       "golden_retriever             150\n",
       "Labrador_retriever           100\n",
       "Pembroke                      89\n",
       "Chihuahua                     83\n",
       "pug                           57\n",
       "chow                          44\n",
       "Samoyed                       43\n",
       "toy_poodle                    39\n",
       "Pomeranian                    38\n",
       "malamute                      30\n",
       "cocker_spaniel                30\n",
       "French_bulldog                26\n",
       "Chesapeake_Bay_retriever      23\n",
       "miniature_pinscher            23\n",
       "seat_belt                     22\n",
       "Staffordshire_bullterrier     20\n",
       "Siberian_husky                20\n",
       "German_shepherd               20\n",
       "web_site                      19\n",
       "Cardigan                      19\n",
       "Eskimo_dog                    18\n",
       "Shetland_sheepdog             18\n",
       "Maltese_dog                   18\n",
       "beagle                        18\n",
       "teddy                         18\n",
       "Rottweiler                    17\n",
       "Lakeland_terrier              17\n",
       "Shih-Tzu                      17\n",
       "Italian_greyhound             16\n",
       "kuvasz                        16\n",
       "                            ... \n",
       "agama                          1\n",
       "soccer_ball                    1\n",
       "teapot                         1\n",
       "banana                         1\n",
       "marmot                         1\n",
       "African_grey                   1\n",
       "park_bench                     1\n",
       "conch                          1\n",
       "restaurant                     1\n",
       "military_uniform               1\n",
       "hotdog                         1\n",
       "studio_couch                   1\n",
       "zebra                          1\n",
       "lawn_mower                     1\n",
       "clog                           1\n",
       "pencil_box                     1\n",
       "three-toed_sloth               1\n",
       "rain_barrel                    1\n",
       "pedestal                       1\n",
       "four-poster                    1\n",
       "hare                           1\n",
       "crane                          1\n",
       "timber_wolf                    1\n",
       "convertible                    1\n",
       "skunk                          1\n",
       "sliding_door                   1\n",
       "mortarboard                    1\n",
       "sulphur-crested_cockatoo       1\n",
       "bonnet                         1\n",
       "groenendael                    1\n",
       "Name: p1, Length: 378, dtype: int64"
      ]
     },
     "execution_count": 718,
     "metadata": {},
     "output_type": "execute_result"
    }
   ],
   "source": [
    "dog_images_df['p1'].value_counts()"
   ]
  },
  {
   "cell_type": "code",
   "execution_count": 719,
   "metadata": {},
   "outputs": [
    {
     "data": {
      "text/plain": [
       "Labrador_retriever                104\n",
       "golden_retriever                   92\n",
       "Cardigan                           73\n",
       "Chihuahua                          44\n",
       "Pomeranian                         42\n",
       "French_bulldog                     41\n",
       "Chesapeake_Bay_retriever           41\n",
       "toy_poodle                         37\n",
       "cocker_spaniel                     34\n",
       "Siberian_husky                     33\n",
       "miniature_poodle                   33\n",
       "beagle                             28\n",
       "Pembroke                           27\n",
       "Eskimo_dog                         27\n",
       "collie                             27\n",
       "kuvasz                             26\n",
       "Italian_greyhound                  22\n",
       "Pekinese                           21\n",
       "American_Staffordshire_terrier     21\n",
       "malinois                           20\n",
       "toy_terrier                        20\n",
       "Samoyed                            20\n",
       "chow                               20\n",
       "miniature_pinscher                 20\n",
       "Boston_bull                        19\n",
       "Norwegian_elkhound                 19\n",
       "Staffordshire_bullterrier          18\n",
       "Irish_terrier                      17\n",
       "pug                                17\n",
       "kelpie                             16\n",
       "                                 ... \n",
       "pelican                             1\n",
       "Japanese_spaniel                    1\n",
       "accordion                           1\n",
       "hamper                              1\n",
       "stove                               1\n",
       "shovel                              1\n",
       "soccer_ball                         1\n",
       "hay                                 1\n",
       "wallaby                             1\n",
       "hair_slide                          1\n",
       "bearskin                            1\n",
       "shopping_cart                       1\n",
       "otter                               1\n",
       "cowboy_hat                          1\n",
       "ashcan                              1\n",
       "water_bottle                        1\n",
       "breakwater                          1\n",
       "maillot                             1\n",
       "bathing_cap                         1\n",
       "cliff                               1\n",
       "police_van                          1\n",
       "standard_schnauzer                  1\n",
       "web_site                            1\n",
       "boathouse                           1\n",
       "shoji                               1\n",
       "tree_frog                           1\n",
       "mailbox                             1\n",
       "dining_table                        1\n",
       "assault_rifle                       1\n",
       "volcano                             1\n",
       "Name: p2, Length: 405, dtype: int64"
      ]
     },
     "execution_count": 719,
     "metadata": {},
     "output_type": "execute_result"
    }
   ],
   "source": [
    "dog_images_df['p2'].value_counts()"
   ]
  },
  {
   "cell_type": "code",
   "execution_count": 720,
   "metadata": {},
   "outputs": [
    {
     "data": {
      "text/plain": [
       "Labrador_retriever                79\n",
       "Chihuahua                         58\n",
       "golden_retriever                  48\n",
       "Eskimo_dog                        38\n",
       "kelpie                            35\n",
       "kuvasz                            34\n",
       "chow                              32\n",
       "Staffordshire_bullterrier         32\n",
       "cocker_spaniel                    31\n",
       "beagle                            31\n",
       "Pekinese                          29\n",
       "Pomeranian                        29\n",
       "toy_poodle                        29\n",
       "Pembroke                          27\n",
       "Great_Pyrenees                    27\n",
       "Chesapeake_Bay_retriever          27\n",
       "malamute                          26\n",
       "French_bulldog                    26\n",
       "American_Staffordshire_terrier    24\n",
       "Cardigan                          23\n",
       "pug                               23\n",
       "basenji                           21\n",
       "bull_mastiff                      20\n",
       "toy_terrier                       20\n",
       "Siberian_husky                    19\n",
       "Boston_bull                       17\n",
       "Shetland_sheepdog                 17\n",
       "Lakeland_terrier                  16\n",
       "boxer                             16\n",
       "doormat                           16\n",
       "                                  ..\n",
       "bow_tie                            1\n",
       "traffic_light                      1\n",
       "whiptail                           1\n",
       "bell_cote                          1\n",
       "croquet_ball                       1\n",
       "paintbrush                         1\n",
       "mosquito_net                       1\n",
       "ox                                 1\n",
       "black_swan                         1\n",
       "loggerhead                         1\n",
       "common_newt                        1\n",
       "bonnet                             1\n",
       "moped                              1\n",
       "Band_Aid                           1\n",
       "mushroom                           1\n",
       "Sussex_spaniel                     1\n",
       "greenhouse                         1\n",
       "notebook                           1\n",
       "hare                               1\n",
       "soap_dispenser                     1\n",
       "maraca                             1\n",
       "triceratops                        1\n",
       "barber_chair                       1\n",
       "drumstick                          1\n",
       "nipple                             1\n",
       "parallel_bars                      1\n",
       "gorilla                            1\n",
       "power_drill                        1\n",
       "lampshade                          1\n",
       "chimpanzee                         1\n",
       "Name: p3, Length: 408, dtype: int64"
      ]
     },
     "execution_count": 720,
     "metadata": {},
     "output_type": "execute_result"
    }
   ],
   "source": [
    "dog_images_df['p3'].value_counts()"
   ]
  },
  {
   "cell_type": "code",
   "execution_count": 721,
   "metadata": {},
   "outputs": [
    {
     "data": {
      "text/html": [
       "<div>\n",
       "<style scoped>\n",
       "    .dataframe tbody tr th:only-of-type {\n",
       "        vertical-align: middle;\n",
       "    }\n",
       "\n",
       "    .dataframe tbody tr th {\n",
       "        vertical-align: top;\n",
       "    }\n",
       "\n",
       "    .dataframe thead th {\n",
       "        text-align: right;\n",
       "    }\n",
       "</style>\n",
       "<table border=\"1\" class=\"dataframe\">\n",
       "  <thead>\n",
       "    <tr style=\"text-align: right;\">\n",
       "      <th></th>\n",
       "      <th>tweet_id</th>\n",
       "      <th>text</th>\n",
       "      <th>favorite_count</th>\n",
       "      <th>retweet_count</th>\n",
       "    </tr>\n",
       "  </thead>\n",
       "  <tbody>\n",
       "    <tr>\n",
       "      <th>0</th>\n",
       "      <td>666020888022790149</td>\n",
       "      <td>Here we have a Japanese Irish Setter. Lost eye...</td>\n",
       "      <td>2529</td>\n",
       "      <td>498</td>\n",
       "    </tr>\n",
       "    <tr>\n",
       "      <th>1</th>\n",
       "      <td>666029285002620928</td>\n",
       "      <td>This is a western brown Mitsubishi terrier. Up...</td>\n",
       "      <td>125</td>\n",
       "      <td>46</td>\n",
       "    </tr>\n",
       "    <tr>\n",
       "      <th>2</th>\n",
       "      <td>666033412701032449</td>\n",
       "      <td>Here is a very happy pup. Big fan of well-main...</td>\n",
       "      <td>123</td>\n",
       "      <td>43</td>\n",
       "    </tr>\n",
       "    <tr>\n",
       "      <th>3</th>\n",
       "      <td>666044226329800704</td>\n",
       "      <td>This is a purebred Piers Morgan. Loves to Netf...</td>\n",
       "      <td>292</td>\n",
       "      <td>136</td>\n",
       "    </tr>\n",
       "    <tr>\n",
       "      <th>4</th>\n",
       "      <td>666049248165822465</td>\n",
       "      <td>Here we have a 1949 1st generation vulpix. Enj...</td>\n",
       "      <td>106</td>\n",
       "      <td>42</td>\n",
       "    </tr>\n",
       "  </tbody>\n",
       "</table>\n",
       "</div>"
      ],
      "text/plain": [
       "             tweet_id                                               text  \\\n",
       "0  666020888022790149  Here we have a Japanese Irish Setter. Lost eye...   \n",
       "1  666029285002620928  This is a western brown Mitsubishi terrier. Up...   \n",
       "2  666033412701032449  Here is a very happy pup. Big fan of well-main...   \n",
       "3  666044226329800704  This is a purebred Piers Morgan. Loves to Netf...   \n",
       "4  666049248165822465  Here we have a 1949 1st generation vulpix. Enj...   \n",
       "\n",
       "   favorite_count  retweet_count  \n",
       "0            2529            498  \n",
       "1             125             46  \n",
       "2             123             43  \n",
       "3             292            136  \n",
       "4             106             42  "
      ]
     },
     "execution_count": 721,
     "metadata": {},
     "output_type": "execute_result"
    }
   ],
   "source": [
    "twitter_feed_df.head()"
   ]
  },
  {
   "cell_type": "code",
   "execution_count": 722,
   "metadata": {},
   "outputs": [
    {
     "data": {
      "text/html": [
       "<div>\n",
       "<style scoped>\n",
       "    .dataframe tbody tr th:only-of-type {\n",
       "        vertical-align: middle;\n",
       "    }\n",
       "\n",
       "    .dataframe tbody tr th {\n",
       "        vertical-align: top;\n",
       "    }\n",
       "\n",
       "    .dataframe thead th {\n",
       "        text-align: right;\n",
       "    }\n",
       "</style>\n",
       "<table border=\"1\" class=\"dataframe\">\n",
       "  <thead>\n",
       "    <tr style=\"text-align: right;\">\n",
       "      <th></th>\n",
       "      <th>tweet_id</th>\n",
       "      <th>text</th>\n",
       "      <th>favorite_count</th>\n",
       "      <th>retweet_count</th>\n",
       "    </tr>\n",
       "  </thead>\n",
       "  <tbody>\n",
       "    <tr>\n",
       "      <th>2062</th>\n",
       "      <td>891327558926688256</td>\n",
       "      <td>This is Franklin. He would like you to stop ca...</td>\n",
       "      <td>39397</td>\n",
       "      <td>9110</td>\n",
       "    </tr>\n",
       "    <tr>\n",
       "      <th>2063</th>\n",
       "      <td>891689557279858688</td>\n",
       "      <td>This is Darla. She commenced a snooze mid meal...</td>\n",
       "      <td>41219</td>\n",
       "      <td>8411</td>\n",
       "    </tr>\n",
       "    <tr>\n",
       "      <th>2064</th>\n",
       "      <td>891815181378084864</td>\n",
       "      <td>This is Archie. He is a rare Norwegian Pouncin...</td>\n",
       "      <td>24493</td>\n",
       "      <td>4042</td>\n",
       "    </tr>\n",
       "    <tr>\n",
       "      <th>2065</th>\n",
       "      <td>892177421306343426</td>\n",
       "      <td>This is Tilly. She's just checking pup on you....</td>\n",
       "      <td>32532</td>\n",
       "      <td>6106</td>\n",
       "    </tr>\n",
       "    <tr>\n",
       "      <th>2066</th>\n",
       "      <td>892420643555336193</td>\n",
       "      <td>This is Phineas. He's a mystical boy. Only eve...</td>\n",
       "      <td>37862</td>\n",
       "      <td>8262</td>\n",
       "    </tr>\n",
       "  </tbody>\n",
       "</table>\n",
       "</div>"
      ],
      "text/plain": [
       "                tweet_id                                               text  \\\n",
       "2062  891327558926688256  This is Franklin. He would like you to stop ca...   \n",
       "2063  891689557279858688  This is Darla. She commenced a snooze mid meal...   \n",
       "2064  891815181378084864  This is Archie. He is a rare Norwegian Pouncin...   \n",
       "2065  892177421306343426  This is Tilly. She's just checking pup on you....   \n",
       "2066  892420643555336193  This is Phineas. He's a mystical boy. Only eve...   \n",
       "\n",
       "      favorite_count  retweet_count  \n",
       "2062           39397           9110  \n",
       "2063           41219           8411  \n",
       "2064           24493           4042  \n",
       "2065           32532           6106  \n",
       "2066           37862           8262  "
      ]
     },
     "execution_count": 722,
     "metadata": {},
     "output_type": "execute_result"
    }
   ],
   "source": [
    "twitter_feed_df.tail()"
   ]
  },
  {
   "cell_type": "code",
   "execution_count": 723,
   "metadata": {},
   "outputs": [
    {
     "name": "stdout",
     "output_type": "stream",
     "text": [
      "<class 'pandas.core.frame.DataFrame'>\n",
      "RangeIndex: 2067 entries, 0 to 2066\n",
      "Data columns (total 4 columns):\n",
      "tweet_id          2067 non-null object\n",
      "text              2067 non-null object\n",
      "favorite_count    2067 non-null int64\n",
      "retweet_count     2067 non-null int64\n",
      "dtypes: int64(2), object(2)\n",
      "memory usage: 64.7+ KB\n"
     ]
    }
   ],
   "source": [
    "twitter_feed_df.info()"
   ]
  },
  {
   "cell_type": "code",
   "execution_count": 724,
   "metadata": {},
   "outputs": [
    {
     "data": {
      "text/plain": [
       "0"
      ]
     },
     "execution_count": 724,
     "metadata": {},
     "output_type": "execute_result"
    }
   ],
   "source": [
    "sum(twitter_feed_df['tweet_id'].duplicated())"
   ]
  },
  {
   "cell_type": "code",
   "execution_count": 725,
   "metadata": {},
   "outputs": [
    {
     "data": {
      "text/plain": [
       "1568    2518\n",
       "Name: retweet_count, dtype: int64"
      ]
     },
     "execution_count": 725,
     "metadata": {},
     "output_type": "execute_result"
    }
   ],
   "source": [
    "twitter_feed_df.retweet_count.sample()"
   ]
  },
  {
   "cell_type": "code",
   "execution_count": 726,
   "metadata": {},
   "outputs": [
    {
     "data": {
      "text/plain": [
       "331    2430\n",
       "Name: favorite_count, dtype: int64"
      ]
     },
     "execution_count": 726,
     "metadata": {},
     "output_type": "execute_result"
    }
   ],
   "source": [
    "twitter_feed_df.favorite_count.sample()"
   ]
  },
  {
   "cell_type": "code",
   "execution_count": 727,
   "metadata": {},
   "outputs": [
    {
     "name": "stdout",
     "output_type": "stream",
     "text": [
      "(2356, 18) (2067, 4) (2075, 12)\n"
     ]
    }
   ],
   "source": [
    "shape_a = twitter_archive_df.shape\n",
    "shape_b = twitter_feed_df.shape\n",
    "shape_c = dog_images_df.shape\n",
    "print(shape_a,shape_b,shape_c)"
   ]
  },
  {
   "cell_type": "code",
   "execution_count": 728,
   "metadata": {},
   "outputs": [
    {
     "name": "stdout",
     "output_type": "stream",
     "text": [
      "float64 int64 object\n"
     ]
    }
   ],
   "source": [
    "#check id datatype before merging the dataframes into one \n",
    "a = twitter_archive_df['tweet_id'].dtype\n",
    "b = dog_images_df['tweet_id'].dtype\n",
    "c = twitter_feed_df['tweet_id'].dtype\n",
    "print(a,b,c)"
   ]
  },
  {
   "cell_type": "markdown",
   "metadata": {},
   "source": [
    "<a id='qu'></a>\n",
    "### Quality Issues:\n",
    "#### (accuracy, validity, consistency, completeness)"
   ]
  },
  {
   "cell_type": "markdown",
   "metadata": {},
   "source": [
    "#### Define:\n",
    "\n",
    "*  Timestamp in twitter_archive_df is object, change it to datetime type.\n",
    "*  Text (tweets) contains #, extract the hashtages from the text column and store it in tweet_hashtag column.\n",
    "*  Name have some names with (a, an, not..) which is not names.\n",
    "*  Calculate denominator and nominator to rating_number.\n",
    "*  Delete the columns that I don't use it.\n",
    "*  Sperate timestamp into three columns, (day, month, year).\n",
    "*  Remove any denominator does not equal 10 (1,50,80,20,2,16,40,70,15,90,110,120, 130,150,7,0).\n",
    "*  Remove outlires from nominator column.\n",
    "*  Calculate the rating in new column and store the percentage value.\n",
    "*  Remove all retweets from dog_images_df and keep tweets.\n",
    "*  Some tweets without images because the number of rows in twitter_archive_df and dog_images_df does not match.\n",
    "*   None values to NAN in Name, doggo, floofer, pupper and puppo.\n",
    "*   Combine puppo, floofer, doggo, and pupper into one column 'dog_stages'\n",
    "*   Remove duplicated values in twitter_archive_df.\n"
   ]
  },
  {
   "cell_type": "markdown",
   "metadata": {},
   "source": [
    "<a id='ti'></a>\n",
    "### Tidness Issues:\n",
    "#### (structural issues)"
   ]
  },
  {
   "cell_type": "markdown",
   "metadata": {},
   "source": [
    "#### Define:\n",
    "*   Merge all dataframes together\n",
    "*  jpg_url contins duplicated urls.\n",
    "*  There are four different columns of gog stages (Doggo, flooder, popper and puppy) merge it into one column and remove nulls.\n",
    "\n",
    "\n"
   ]
  },
  {
   "cell_type": "markdown",
   "metadata": {},
   "source": [
    "<a id='clean'></a>\n",
    "## Cleaning data\n",
    "In this step, I cleand most of issues."
   ]
  },
  {
   "cell_type": "code",
   "execution_count": 729,
   "metadata": {},
   "outputs": [],
   "source": [
    "#Make a copy of the dataframes\n",
    "twitter_archive_df_copy = twitter_archive_df.copy()\n",
    "dog_images_df_copy = dog_images_df.copy()\n",
    "twitter_feed_df_copy = twitter_feed_df.copy()"
   ]
  },
  {
   "cell_type": "markdown",
   "metadata": {},
   "source": [
    "#### Change tweeet_id to String"
   ]
  },
  {
   "cell_type": "code",
   "execution_count": 730,
   "metadata": {},
   "outputs": [],
   "source": [
    "twitter_archive_df_copy['tweet_id'] = twitter_archive_df_copy.tweet_id.astype(str)"
   ]
  },
  {
   "cell_type": "code",
   "execution_count": 731,
   "metadata": {},
   "outputs": [
    {
     "data": {
      "text/plain": [
       "dtype('O')"
      ]
     },
     "execution_count": 731,
     "metadata": {},
     "output_type": "execute_result"
    }
   ],
   "source": [
    "twitter_archive_df_copy.tweet_id.dtype"
   ]
  },
  {
   "cell_type": "code",
   "execution_count": 732,
   "metadata": {},
   "outputs": [],
   "source": [
    "dog_images_df_copy['tweet_id'] = dog_images_df_copy.tweet_id .astype(str)"
   ]
  },
  {
   "cell_type": "code",
   "execution_count": 733,
   "metadata": {},
   "outputs": [
    {
     "data": {
      "text/plain": [
       "dtype('O')"
      ]
     },
     "execution_count": 733,
     "metadata": {},
     "output_type": "execute_result"
    }
   ],
   "source": [
    "dog_images_df_copy.tweet_id.dtype"
   ]
  },
  {
   "cell_type": "code",
   "execution_count": 734,
   "metadata": {},
   "outputs": [
    {
     "data": {
      "text/plain": [
       "dtype('O')"
      ]
     },
     "execution_count": 734,
     "metadata": {},
     "output_type": "execute_result"
    }
   ],
   "source": [
    "twitter_feed_df_copy['tweet_id'].dtype"
   ]
  },
  {
   "cell_type": "markdown",
   "metadata": {},
   "source": [
    "#### Remove duplicates from twitter_archive_df_copy"
   ]
  },
  {
   "cell_type": "markdown",
   "metadata": {},
   "source": [
    "#### Code"
   ]
  },
  {
   "cell_type": "code",
   "execution_count": 735,
   "metadata": {},
   "outputs": [],
   "source": [
    "twitter_archive_df_copy.drop_duplicates(keep = False, inplace = True) "
   ]
  },
  {
   "cell_type": "markdown",
   "metadata": {},
   "source": [
    "#### Test"
   ]
  },
  {
   "cell_type": "code",
   "execution_count": 736,
   "metadata": {},
   "outputs": [
    {
     "data": {
      "text/plain": [
       "0"
      ]
     },
     "execution_count": 736,
     "metadata": {},
     "output_type": "execute_result"
    }
   ],
   "source": [
    "sum(twitter_archive_df_copy.duplicated())"
   ]
  },
  {
   "cell_type": "markdown",
   "metadata": {},
   "source": [
    "  #####  Timestamp in twitter_archive_df is object, change it to datetime type"
   ]
  },
  {
   "cell_type": "markdown",
   "metadata": {},
   "source": [
    "#####  Code"
   ]
  },
  {
   "cell_type": "code",
   "execution_count": 737,
   "metadata": {},
   "outputs": [],
   "source": [
    "#Change the timestamp to datetime\n",
    "twitter_archive_df_copy['timestamp'] = pd.to_datetime(twitter_archive_df_copy['timestamp'], format ='%Y-%m-%d')\n",
    "#'%Y-%m-%d'"
   ]
  },
  {
   "cell_type": "markdown",
   "metadata": {},
   "source": [
    "##### Test"
   ]
  },
  {
   "cell_type": "code",
   "execution_count": 738,
   "metadata": {},
   "outputs": [
    {
     "data": {
      "text/plain": [
       "dtype('<M8[ns]')"
      ]
     },
     "execution_count": 738,
     "metadata": {},
     "output_type": "execute_result"
    }
   ],
   "source": [
    "#check \n",
    "twitter_archive_df_copy['timestamp'].dtype"
   ]
  },
  {
   "cell_type": "code",
   "execution_count": 739,
   "metadata": {},
   "outputs": [
    {
     "data": {
      "text/plain": [
       "0   2017-08-01 16:23:56\n",
       "1   2017-08-01 00:17:27\n",
       "2   2017-07-31 00:18:03\n",
       "3   2017-07-30 15:58:51\n",
       "4   2017-07-29 16:00:24\n",
       "Name: timestamp, dtype: datetime64[ns]"
      ]
     },
     "execution_count": 739,
     "metadata": {},
     "output_type": "execute_result"
    }
   ],
   "source": [
    "twitter_archive_df_copy['timestamp'].head(5)"
   ]
  },
  {
   "cell_type": "markdown",
   "metadata": {},
   "source": [
    "#### Split timestamp to date (year-month-day) "
   ]
  },
  {
   "cell_type": "code",
   "execution_count": 740,
   "metadata": {},
   "outputs": [],
   "source": [
    "#date\n",
    "twitter_archive_df_copy['date'] = pd.to_datetime(twitter_archive_df_copy['timestamp']).dt.date\n",
    "twitter_archive_df_copy['date'] = pd.to_datetime(twitter_archive_df_copy['date'], format ='%Y-%m-%d')"
   ]
  },
  {
   "cell_type": "code",
   "execution_count": 741,
   "metadata": {},
   "outputs": [],
   "source": [
    "twitter_archive_df_copy['year'] = pd.DatetimeIndex(twitter_archive_df_copy['date']).year"
   ]
  },
  {
   "cell_type": "code",
   "execution_count": 742,
   "metadata": {},
   "outputs": [],
   "source": [
    "twitter_archive_df_copy['month'] = pd.DatetimeIndex(twitter_archive_df_copy['date']).month"
   ]
  },
  {
   "cell_type": "code",
   "execution_count": 743,
   "metadata": {},
   "outputs": [],
   "source": [
    "twitter_archive_df_copy['day'] = pd.DatetimeIndex(twitter_archive_df_copy['date']).day"
   ]
  },
  {
   "cell_type": "code",
   "execution_count": 744,
   "metadata": {},
   "outputs": [],
   "source": [
    "#drop ==>timestamp \n",
    "twitter_archive_df_copy = twitter_archive_df_copy.drop(['timestamp'], axis=1)"
   ]
  },
  {
   "cell_type": "markdown",
   "metadata": {},
   "source": [
    "#### Test"
   ]
  },
  {
   "cell_type": "code",
   "execution_count": 745,
   "metadata": {},
   "outputs": [
    {
     "data": {
      "text/plain": [
       "0    2017\n",
       "1    2017\n",
       "2    2017\n",
       "3    2017\n",
       "4    2017\n",
       "Name: year, dtype: int64"
      ]
     },
     "execution_count": 745,
     "metadata": {},
     "output_type": "execute_result"
    }
   ],
   "source": [
    "twitter_archive_df_copy.year.head()"
   ]
  },
  {
   "cell_type": "code",
   "execution_count": 746,
   "metadata": {},
   "outputs": [
    {
     "data": {
      "text/plain": [
       "0    8\n",
       "1    8\n",
       "2    7\n",
       "3    7\n",
       "4    7\n",
       "Name: month, dtype: int64"
      ]
     },
     "execution_count": 746,
     "metadata": {},
     "output_type": "execute_result"
    }
   ],
   "source": [
    "twitter_archive_df_copy.month.head()"
   ]
  },
  {
   "cell_type": "code",
   "execution_count": 747,
   "metadata": {},
   "outputs": [
    {
     "data": {
      "text/plain": [
       "0     1\n",
       "1     1\n",
       "2    31\n",
       "3    30\n",
       "4    29\n",
       "Name: day, dtype: int64"
      ]
     },
     "execution_count": 747,
     "metadata": {},
     "output_type": "execute_result"
    }
   ],
   "source": [
    "twitter_archive_df_copy.day.head()"
   ]
  },
  {
   "cell_type": "markdown",
   "metadata": {},
   "source": [
    "##### Text (tweets) contains #, extract the hashtages from the text column and store it in tweet_hashtag column."
   ]
  },
  {
   "cell_type": "markdown",
   "metadata": {},
   "source": [
    "#####  Code"
   ]
  },
  {
   "cell_type": "code",
   "execution_count": 748,
   "metadata": {},
   "outputs": [],
   "source": [
    "#create new column \"tweet_hashtag\" to get all hashtages from text\n",
    "twitter_archive_df_copy['tweet_hashtag'] = twitter_archive_df_copy['text'].str.extract(r\"#(\\w+)\")\n"
   ]
  },
  {
   "cell_type": "markdown",
   "metadata": {},
   "source": [
    "##### Test"
   ]
  },
  {
   "cell_type": "code",
   "execution_count": 749,
   "metadata": {},
   "outputs": [
    {
     "data": {
      "text/plain": [
       "BarkWeek                 9\n",
       "PrideMonth               3\n",
       "Canada150                1\n",
       "PrideMonthPuppo          1\n",
       "ScienceMarch             1\n",
       "GoodDogs                 1\n",
       "WKCDogShow               1\n",
       "NoDaysOff                1\n",
       "ImWithThor               1\n",
       "notallpuppers            1\n",
       "dogsatpollingstations    1\n",
       "BATP                     1\n",
       "WomensMarch              1\n",
       "BellLetsTalk             1\n",
       "LoveTwitter              1\n",
       "FinalFur                 1\n",
       "K9VeteransDay            1\n",
       "Name: tweet_hashtag, dtype: int64"
      ]
     },
     "execution_count": 749,
     "metadata": {},
     "output_type": "execute_result"
    }
   ],
   "source": [
    "twitter_archive_df_copy['tweet_hashtag'].value_counts()\n",
    "#used hashtages "
   ]
  },
  {
   "cell_type": "markdown",
   "metadata": {},
   "source": [
    "##### Remove any denominator does not equal 10 (1,50,80,20,2,16,40,70,15,90,110,120, 130,150,7,0)"
   ]
  },
  {
   "cell_type": "markdown",
   "metadata": {},
   "source": [
    "#####  Code"
   ]
  },
  {
   "cell_type": "code",
   "execution_count": 750,
   "metadata": {},
   "outputs": [],
   "source": [
    "#to get rate of dogs I removed any denominator does not equal 10 \n",
    "twitter_archive_df_copy = twitter_archive_df_copy[twitter_archive_df_copy['rating_denominator']==10]"
   ]
  },
  {
   "cell_type": "markdown",
   "metadata": {},
   "source": [
    "##### Test"
   ]
  },
  {
   "cell_type": "code",
   "execution_count": 751,
   "metadata": {},
   "outputs": [
    {
     "data": {
      "text/plain": [
       "10    2333\n",
       "Name: rating_denominator, dtype: int64"
      ]
     },
     "execution_count": 751,
     "metadata": {},
     "output_type": "execute_result"
    }
   ],
   "source": [
    "twitter_archive_df_copy['rating_denominator'].value_counts()"
   ]
  },
  {
   "cell_type": "markdown",
   "metadata": {},
   "source": [
    "##### Remove outlires from nominator column."
   ]
  },
  {
   "cell_type": "markdown",
   "metadata": {},
   "source": [
    "#####  Code"
   ]
  },
  {
   "cell_type": "code",
   "execution_count": 752,
   "metadata": {},
   "outputs": [
    {
     "name": "stderr",
     "output_type": "stream",
     "text": [
      "/anaconda3/lib/python3.7/site-packages/ipykernel_launcher.py:2: UserWarning: This pattern has match groups. To actually get the groups, use str.extract.\n",
      "  \n"
     ]
    },
    {
     "data": {
      "text/html": [
       "<div>\n",
       "<style scoped>\n",
       "    .dataframe tbody tr th:only-of-type {\n",
       "        vertical-align: middle;\n",
       "    }\n",
       "\n",
       "    .dataframe tbody tr th {\n",
       "        vertical-align: top;\n",
       "    }\n",
       "\n",
       "    .dataframe thead th {\n",
       "        text-align: right;\n",
       "    }\n",
       "</style>\n",
       "<table border=\"1\" class=\"dataframe\">\n",
       "  <thead>\n",
       "    <tr style=\"text-align: right;\">\n",
       "      <th></th>\n",
       "      <th>text</th>\n",
       "      <th>rating_numerator</th>\n",
       "    </tr>\n",
       "  </thead>\n",
       "  <tbody>\n",
       "    <tr>\n",
       "      <th>45</th>\n",
       "      <td>This is Bella. She hopes her smile made you sm...</td>\n",
       "      <td>5</td>\n",
       "    </tr>\n",
       "    <tr>\n",
       "      <th>340</th>\n",
       "      <td>RT @dog_rates: This is Logan, the Chow who liv...</td>\n",
       "      <td>75</td>\n",
       "    </tr>\n",
       "    <tr>\n",
       "      <th>695</th>\n",
       "      <td>This is Logan, the Chow who lived. He solemnly...</td>\n",
       "      <td>75</td>\n",
       "    </tr>\n",
       "    <tr>\n",
       "      <th>763</th>\n",
       "      <td>This is Sophie. She's a Jubilant Bush Pupper. ...</td>\n",
       "      <td>27</td>\n",
       "    </tr>\n",
       "    <tr>\n",
       "      <th>1689</th>\n",
       "      <td>I've been told there's a slight possibility he...</td>\n",
       "      <td>5</td>\n",
       "    </tr>\n",
       "    <tr>\n",
       "      <th>1712</th>\n",
       "      <td>Here we have uncovered an entire battalion of ...</td>\n",
       "      <td>26</td>\n",
       "    </tr>\n",
       "  </tbody>\n",
       "</table>\n",
       "</div>"
      ],
      "text/plain": [
       "                                                   text  rating_numerator\n",
       "45    This is Bella. She hopes her smile made you sm...                 5\n",
       "340   RT @dog_rates: This is Logan, the Chow who liv...                75\n",
       "695   This is Logan, the Chow who lived. He solemnly...                75\n",
       "763   This is Sophie. She's a Jubilant Bush Pupper. ...                27\n",
       "1689  I've been told there's a slight possibility he...                 5\n",
       "1712  Here we have uncovered an entire battalion of ...                26"
      ]
     },
     "execution_count": 752,
     "metadata": {},
     "output_type": "execute_result"
    }
   ],
   "source": [
    "#np.where(twitter_archive_df_copy['rating_numerator'] > 14)\n",
    "twitter_archive_df_copy[twitter_archive_df_copy.text.str.contains(r\"(\\d+\\.\\d*\\/\\d+)\")][['text', 'rating_numerator']]\n"
   ]
  },
  {
   "cell_type": "code",
   "execution_count": 753,
   "metadata": {},
   "outputs": [],
   "source": [
    "twitter_archive_df_copy = twitter_archive_df_copy.drop([45,1689,340,695,763,1712], axis=0)\n"
   ]
  },
  {
   "cell_type": "code",
   "execution_count": 754,
   "metadata": {},
   "outputs": [],
   "source": [
    "twitter_archive_df_copy = twitter_archive_df_copy[twitter_archive_df_copy['rating_numerator']<14]\n"
   ]
  },
  {
   "cell_type": "code",
   "execution_count": 755,
   "metadata": {},
   "outputs": [],
   "source": [
    "twitter_archive_df_copy.rating_numerator = twitter_archive_df_copy['rating_numerator'].astype(float)\n",
    "                                                                                                                    "
   ]
  },
  {
   "cell_type": "code",
   "execution_count": 756,
   "metadata": {},
   "outputs": [
    {
     "data": {
      "text/plain": [
       "dtype('float64')"
      ]
     },
     "execution_count": 756,
     "metadata": {},
     "output_type": "execute_result"
    }
   ],
   "source": [
    "twitter_archive_df_copy.rating_numerator.dtype"
   ]
  },
  {
   "cell_type": "markdown",
   "metadata": {},
   "source": [
    "#####  Test"
   ]
  },
  {
   "cell_type": "code",
   "execution_count": 757,
   "metadata": {},
   "outputs": [
    {
     "data": {
      "text/plain": [
       "12.0    558\n",
       "11.0    463\n",
       "10.0    461\n",
       "13.0    351\n",
       "9.0     156\n",
       "8.0     102\n",
       "7.0      54\n",
       "5.0      35\n",
       "6.0      32\n",
       "3.0      19\n",
       "4.0      15\n",
       "2.0       9\n",
       "1.0       8\n",
       "0.0       2\n",
       "Name: rating_numerator, dtype: int64"
      ]
     },
     "execution_count": 757,
     "metadata": {},
     "output_type": "execute_result"
    }
   ],
   "source": [
    "twitter_archive_df_copy['rating_numerator'].value_counts()"
   ]
  },
  {
   "cell_type": "markdown",
   "metadata": {},
   "source": [
    "##### Calculate the rating in new column and store the percentage value in new column"
   ]
  },
  {
   "cell_type": "markdown",
   "metadata": {},
   "source": [
    "#####  Code"
   ]
  },
  {
   "cell_type": "code",
   "execution_count": 758,
   "metadata": {},
   "outputs": [],
   "source": [
    "# Calculate the rating\n",
    "twitter_archive_df_copy['rating'] = (twitter_archive_df_copy['rating_numerator'] / twitter_archive_df['rating_denominator'])*100\n",
    "\n"
   ]
  },
  {
   "cell_type": "markdown",
   "metadata": {},
   "source": [
    "#####  Test"
   ]
  },
  {
   "cell_type": "code",
   "execution_count": 759,
   "metadata": {},
   "outputs": [
    {
     "data": {
      "text/plain": [
       "120.0    558\n",
       "110.0    463\n",
       "100.0    461\n",
       "130.0    351\n",
       "90.0     156\n",
       "80.0     102\n",
       "70.0      54\n",
       "50.0      35\n",
       "60.0      32\n",
       "30.0      19\n",
       "40.0      15\n",
       "20.0       9\n",
       "10.0       8\n",
       "0.0        2\n",
       "Name: rating, dtype: int64"
      ]
     },
     "execution_count": 759,
     "metadata": {},
     "output_type": "execute_result"
    }
   ],
   "source": [
    "twitter_archive_df_copy['rating'].value_counts()"
   ]
  },
  {
   "cell_type": "code",
   "execution_count": 760,
   "metadata": {},
   "outputs": [
    {
     "data": {
      "text/plain": [
       "1768    110.0\n",
       "Name: rating, dtype: float64"
      ]
     },
     "execution_count": 760,
     "metadata": {},
     "output_type": "execute_result"
    }
   ],
   "source": [
    "twitter_archive_df_copy['rating'].sample()"
   ]
  },
  {
   "cell_type": "markdown",
   "metadata": {},
   "source": [
    "##### Replace None to NAN in Name, doggo, floofer, pupper and puppo columns"
   ]
  },
  {
   "cell_type": "markdown",
   "metadata": {},
   "source": [
    "#####  Code"
   ]
  },
  {
   "cell_type": "code",
   "execution_count": 761,
   "metadata": {},
   "outputs": [],
   "source": [
    "#Name\n",
    "twitter_archive_df_copy['name'].replace('None', np.nan, inplace=True)\n",
    "#Doggo\n",
    "twitter_archive_df_copy['doggo'].replace('None', np.nan, inplace=True)\n",
    "#flooder \n",
    "twitter_archive_df_copy['floofer'].replace('None', np.nan, inplace=True)\n",
    "#popper \n",
    "twitter_archive_df_copy['pupper'].replace('None', np.nan, inplace=True)\n",
    "#puppy\n",
    "twitter_archive_df_copy['puppo'].replace('None', np.nan, inplace=True)"
   ]
  },
  {
   "cell_type": "markdown",
   "metadata": {},
   "source": [
    "##### Test"
   ]
  },
  {
   "cell_type": "code",
   "execution_count": 762,
   "metadata": {},
   "outputs": [
    {
     "data": {
      "text/plain": [
       "puppo    29\n",
       "Name: puppo, dtype: int64"
      ]
     },
     "execution_count": 762,
     "metadata": {},
     "output_type": "execute_result"
    }
   ],
   "source": [
    "twitter_archive_df_copy['puppo'].value_counts()"
   ]
  },
  {
   "cell_type": "code",
   "execution_count": 763,
   "metadata": {},
   "outputs": [
    {
     "data": {
      "text/plain": [
       "floofer    10\n",
       "Name: floofer, dtype: int64"
      ]
     },
     "execution_count": 763,
     "metadata": {},
     "output_type": "execute_result"
    }
   ],
   "source": [
    "twitter_archive_df_copy['floofer'].value_counts()"
   ]
  },
  {
   "cell_type": "code",
   "execution_count": 764,
   "metadata": {},
   "outputs": [
    {
     "data": {
      "text/plain": [
       "doggo    87\n",
       "Name: doggo, dtype: int64"
      ]
     },
     "execution_count": 764,
     "metadata": {},
     "output_type": "execute_result"
    }
   ],
   "source": [
    "twitter_archive_df_copy['doggo'].value_counts()"
   ]
  },
  {
   "cell_type": "code",
   "execution_count": 765,
   "metadata": {},
   "outputs": [
    {
     "data": {
      "text/plain": [
       "pupper    248\n",
       "Name: pupper, dtype: int64"
      ]
     },
     "execution_count": 765,
     "metadata": {},
     "output_type": "execute_result"
    }
   ],
   "source": [
    "twitter_archive_df_copy['pupper'].value_counts()"
   ]
  },
  {
   "cell_type": "markdown",
   "metadata": {},
   "source": [
    "##### Remove unused names from name and make the first letter capital."
   ]
  },
  {
   "cell_type": "markdown",
   "metadata": {},
   "source": [
    "#####  Code"
   ]
  },
  {
   "cell_type": "code",
   "execution_count": 766,
   "metadata": {},
   "outputs": [
    {
     "data": {
      "text/plain": [
       "a            53\n",
       "Charlie      12\n",
       "Lucy         11\n",
       "Cooper       11\n",
       "Oliver       11\n",
       "Penny        10\n",
       "Tucker       10\n",
       "Lola         10\n",
       "Winston       9\n",
       "the           8\n",
       "Sadie         8\n",
       "Toby          7\n",
       "Buddy         7\n",
       "Bo            7\n",
       "Daisy         7\n",
       "Bailey        7\n",
       "Jax           6\n",
       "Jack          6\n",
       "Dave          6\n",
       "Koda          6\n",
       "an            6\n",
       "Stanley       6\n",
       "Oscar         6\n",
       "Scout         6\n",
       "Milo          6\n",
       "Rusty         6\n",
       "Leo           6\n",
       "very          5\n",
       "Phil          5\n",
       "Larry         5\n",
       "             ..\n",
       "Fabio         1\n",
       "Spark         1\n",
       "O             1\n",
       "Philippe      1\n",
       "Boston        1\n",
       "Winifred      1\n",
       "old           1\n",
       "Loomis        1\n",
       "Pawnd         1\n",
       "Zeek          1\n",
       "Freddery      1\n",
       "Rooney        1\n",
       "Traviss       1\n",
       "Mary          1\n",
       "Callie        1\n",
       "Jebberson     1\n",
       "Marvin        1\n",
       "Clybe         1\n",
       "Coleman       1\n",
       "Kallie        1\n",
       "Jameson       1\n",
       "Mosby         1\n",
       "Vixen         1\n",
       "Oreo          1\n",
       "Obi           1\n",
       "Sunshine      1\n",
       "Koko          1\n",
       "Ember         1\n",
       "Timofy        1\n",
       "Danny         1\n",
       "Name: name, Length: 941, dtype: int64"
      ]
     },
     "execution_count": 766,
     "metadata": {},
     "output_type": "execute_result"
    }
   ],
   "source": [
    "twitter_archive_df_copy.name.value_counts()"
   ]
  },
  {
   "cell_type": "code",
   "execution_count": 767,
   "metadata": {},
   "outputs": [],
   "source": [
    "#remove and replace letters or symbols from name column manully\n",
    "#lower case and <4 \"Condition\"\n",
    "\n",
    "#1 . find all lower case names \n",
    "#2 . find all names with len <4 \n",
    "#4 . replace nonnames with NAN\n",
    "#5 . remove null names \n",
    "\n",
    "change_name = []\n",
    "for names in twitter_archive_df_copy.name:\n",
    "    if len(str(names)) <= 3 and str(names).islower():\n",
    "        change_name.append(names)"
   ]
  },
  {
   "cell_type": "markdown",
   "metadata": {},
   "source": [
    "##### Test"
   ]
  },
  {
   "cell_type": "code",
   "execution_count": 768,
   "metadata": {},
   "outputs": [],
   "source": [
    "twitter_archive_df_copy.name.replace(change_name,np.nan,inplace = True)"
   ]
  },
  {
   "cell_type": "code",
   "execution_count": 769,
   "metadata": {},
   "outputs": [
    {
     "data": {
      "text/plain": [
       "Charlie      12\n",
       "Cooper       11\n",
       "Oliver       11\n",
       "Lucy         11\n",
       "Lola         10\n",
       "Tucker       10\n",
       "Penny        10\n",
       "Winston       9\n",
       "Sadie         8\n",
       "Toby          7\n",
       "Bailey        7\n",
       "Buddy         7\n",
       "Bo            7\n",
       "Daisy         7\n",
       "Leo           6\n",
       "Stanley       6\n",
       "Rusty         6\n",
       "Jack          6\n",
       "Jax           6\n",
       "Scout         6\n",
       "Oscar         6\n",
       "Dave          6\n",
       "Milo          6\n",
       "Koda          6\n",
       "George        5\n",
       "Louis         5\n",
       "Finn          5\n",
       "Bella         5\n",
       "Oakley        5\n",
       "Sammy         5\n",
       "             ..\n",
       "Rupert        1\n",
       "Taco          1\n",
       "Bode          1\n",
       "Spark         1\n",
       "O             1\n",
       "Timofy        1\n",
       "Koko          1\n",
       "Harlso        1\n",
       "Callie        1\n",
       "Ace           1\n",
       "Nida          1\n",
       "Bauer         1\n",
       "Loomis        1\n",
       "Zeek          1\n",
       "Freddery      1\n",
       "Rooney        1\n",
       "Traviss       1\n",
       "Mary          1\n",
       "Jebberson     1\n",
       "Sunshine      1\n",
       "Marvin        1\n",
       "Clybe         1\n",
       "Pawnd         1\n",
       "Coleman       1\n",
       "Jameson       1\n",
       "Mosby         1\n",
       "Vixen         1\n",
       "Oreo          1\n",
       "Obi           1\n",
       "Danny         1\n",
       "Name: name, Length: 930, dtype: int64"
      ]
     },
     "execution_count": 769,
     "metadata": {},
     "output_type": "execute_result"
    }
   ],
   "source": [
    "twitter_archive_df_copy.name.value_counts()"
   ]
  },
  {
   "cell_type": "markdown",
   "metadata": {},
   "source": [
    " ##### Delete the columns that I don't use it."
   ]
  },
  {
   "cell_type": "markdown",
   "metadata": {},
   "source": [
    "#####  Code"
   ]
  },
  {
   "cell_type": "code",
   "execution_count": 770,
   "metadata": {},
   "outputs": [
    {
     "data": {
      "text/plain": [
       "['tweet_id',\n",
       " 'in_reply_to_status_id',\n",
       " 'in_reply_to_user_id',\n",
       " 'source',\n",
       " 'text',\n",
       " 'retweeted_status_id',\n",
       " 'retweeted_status_user_id',\n",
       " 'retweeted_status_timestamp',\n",
       " 'expanded_urls',\n",
       " 'rating_numerator',\n",
       " 'rating_denominator',\n",
       " 'name',\n",
       " 'doggo',\n",
       " 'floofer',\n",
       " 'pupper',\n",
       " 'puppo',\n",
       " '#VALUE!',\n",
       " 'date',\n",
       " 'year',\n",
       " 'month',\n",
       " 'day',\n",
       " 'tweet_hashtag',\n",
       " 'rating']"
      ]
     },
     "execution_count": 770,
     "metadata": {},
     "output_type": "execute_result"
    }
   ],
   "source": [
    "list(twitter_archive_df_copy)\n",
    "#remove ==> in_reply_to_status_id','in_reply_to_user_id','#VALUE!',source"
   ]
  },
  {
   "cell_type": "code",
   "execution_count": 771,
   "metadata": {
    "scrolled": true
   },
   "outputs": [
    {
     "data": {
      "text/plain": [
       "['tweet_id',\n",
       " 'jpg_url',\n",
       " 'img_num',\n",
       " 'p1',\n",
       " 'p1_conf',\n",
       " 'p1_dog',\n",
       " 'p2',\n",
       " 'p2_conf',\n",
       " 'p2_dog',\n",
       " 'p3',\n",
       " 'p3_conf',\n",
       " 'p3_dog']"
      ]
     },
     "execution_count": 771,
     "metadata": {},
     "output_type": "execute_result"
    }
   ],
   "source": [
    "list(dog_images_df_copy)\n",
    "#remove ==> img_num"
   ]
  },
  {
   "cell_type": "code",
   "execution_count": 772,
   "metadata": {},
   "outputs": [
    {
     "data": {
      "text/plain": [
       "['tweet_id', 'text', 'favorite_count', 'retweet_count']"
      ]
     },
     "execution_count": 772,
     "metadata": {},
     "output_type": "execute_result"
    }
   ],
   "source": [
    "list (twitter_feed_df_copy)"
   ]
  },
  {
   "cell_type": "code",
   "execution_count": 773,
   "metadata": {},
   "outputs": [],
   "source": [
    "twitter_archive_df_copy.drop(['in_reply_to_status_id','in_reply_to_user_id','source','#VALUE!'], axis=1, inplace=True)\n"
   ]
  },
  {
   "cell_type": "code",
   "execution_count": 774,
   "metadata": {},
   "outputs": [],
   "source": [
    "\n",
    "dog_images_df_copy.drop(['img_num'], axis=1, inplace=True)\n"
   ]
  },
  {
   "cell_type": "markdown",
   "metadata": {},
   "source": [
    "##### Test"
   ]
  },
  {
   "cell_type": "code",
   "execution_count": 775,
   "metadata": {},
   "outputs": [
    {
     "data": {
      "text/plain": [
       "['tweet_id',\n",
       " 'text',\n",
       " 'retweeted_status_id',\n",
       " 'retweeted_status_user_id',\n",
       " 'retweeted_status_timestamp',\n",
       " 'expanded_urls',\n",
       " 'rating_numerator',\n",
       " 'rating_denominator',\n",
       " 'name',\n",
       " 'doggo',\n",
       " 'floofer',\n",
       " 'pupper',\n",
       " 'puppo',\n",
       " 'date',\n",
       " 'year',\n",
       " 'month',\n",
       " 'day',\n",
       " 'tweet_hashtag',\n",
       " 'rating']"
      ]
     },
     "execution_count": 775,
     "metadata": {},
     "output_type": "execute_result"
    }
   ],
   "source": [
    "list(twitter_archive_df_copy)"
   ]
  },
  {
   "cell_type": "code",
   "execution_count": 776,
   "metadata": {},
   "outputs": [
    {
     "data": {
      "text/plain": [
       "['tweet_id',\n",
       " 'jpg_url',\n",
       " 'p1',\n",
       " 'p1_conf',\n",
       " 'p1_dog',\n",
       " 'p2',\n",
       " 'p2_conf',\n",
       " 'p2_dog',\n",
       " 'p3',\n",
       " 'p3_conf',\n",
       " 'p3_dog']"
      ]
     },
     "execution_count": 776,
     "metadata": {},
     "output_type": "execute_result"
    }
   ],
   "source": [
    "list(dog_images_df_copy)"
   ]
  },
  {
   "cell_type": "markdown",
   "metadata": {},
   "source": [
    "##### Remove retweets and keeps tweets"
   ]
  },
  {
   "cell_type": "markdown",
   "metadata": {},
   "source": [
    "#####  Code"
   ]
  },
  {
   "cell_type": "code",
   "execution_count": 777,
   "metadata": {},
   "outputs": [],
   "source": [
    "#when the retweeted_status_id column equal null (nan) means this is tweet not retweet\n",
    "twitter_archive_df_copy= twitter_archive_df_copy[twitter_archive_df_copy['retweeted_status_id'].isnull()]"
   ]
  },
  {
   "cell_type": "markdown",
   "metadata": {},
   "source": [
    "##### Test"
   ]
  },
  {
   "cell_type": "code",
   "execution_count": 778,
   "metadata": {},
   "outputs": [
    {
     "name": "stdout",
     "output_type": "stream",
     "text": [
      "<class 'pandas.core.frame.DataFrame'>\n",
      "Int64Index: 2098 entries, 0 to 2355\n",
      "Data columns (total 19 columns):\n",
      "tweet_id                      2098 non-null object\n",
      "text                          2098 non-null object\n",
      "retweeted_status_id           0 non-null float64\n",
      "retweeted_status_user_id      0 non-null float64\n",
      "retweeted_status_timestamp    0 non-null object\n",
      "expanded_urls                 2053 non-null object\n",
      "rating_numerator              2098 non-null float64\n",
      "rating_denominator            2098 non-null int64\n",
      "name                          1388 non-null object\n",
      "doggo                         79 non-null object\n",
      "floofer                       10 non-null object\n",
      "pupper                        226 non-null object\n",
      "puppo                         24 non-null object\n",
      "date                          2098 non-null datetime64[ns]\n",
      "year                          2098 non-null int64\n",
      "month                         2098 non-null int64\n",
      "day                           2098 non-null int64\n",
      "tweet_hashtag                 22 non-null object\n",
      "rating                        2098 non-null float64\n",
      "dtypes: datetime64[ns](1), float64(4), int64(4), object(10)\n",
      "memory usage: 327.8+ KB\n",
      "None\n"
     ]
    }
   ],
   "source": [
    "print(twitter_archive_df_copy.info())"
   ]
  },
  {
   "cell_type": "markdown",
   "metadata": {},
   "source": [
    "##### Combine puppo, floofer, doggo, and pupper into one column 'dog_stages'"
   ]
  },
  {
   "cell_type": "markdown",
   "metadata": {},
   "source": [
    "#####  Code"
   ]
  },
  {
   "cell_type": "code",
   "execution_count": 779,
   "metadata": {},
   "outputs": [],
   "source": [
    "#extract dog stage from tweet text and store it into gog_stage cloumn\n",
    "#twitter_archive_df_copy['dog_stage'] = twitter_archive_df_copy['text'].str.extract('(doggo|floofer|pupper|puppo)')\n",
    "\n",
    "dog_stage=[]\n",
    "dog_stage_1 = ['doggo', 'floofer', 'pupper', 'puppo']\n",
    "dog_stage_2 = ['doggo', 'floofer', 'pupper', 'puppo']\n",
    "\n",
    "for read in twitter_archive_df_copy['text']:\n",
    "    read = read.lower()\n",
    "    for dog_type in dog_stage_1:\n",
    "        if dog_type in str(read):\n",
    "            dog_stage.append(dog_stage_2[dog_stage_1.index(dog_type)])\n",
    "            break\n",
    "    else:\n",
    "        dog_stage.append('None')\n",
    "\n",
    "twitter_archive_df_copy['dog_stage'] = dog_stage\n"
   ]
  },
  {
   "cell_type": "markdown",
   "metadata": {},
   "source": [
    "##### Test"
   ]
  },
  {
   "cell_type": "code",
   "execution_count": 780,
   "metadata": {},
   "outputs": [
    {
     "data": {
      "text/plain": [
       "None       1741\n",
       "pupper      234\n",
       "doggo        84\n",
       "puppo        30\n",
       "floofer       9\n",
       "Name: dog_stage, dtype: int64"
      ]
     },
     "execution_count": 780,
     "metadata": {},
     "output_type": "execute_result"
    }
   ],
   "source": [
    "twitter_archive_df_copy.dog_stage.value_counts()"
   ]
  },
  {
   "cell_type": "code",
   "execution_count": 781,
   "metadata": {},
   "outputs": [],
   "source": [
    "twitter_archive_df_copy['dog_stage'].replace('None', np.nan, inplace=True)\n",
    "#twitter_archive_df_copy['dog_stage']"
   ]
  },
  {
   "cell_type": "code",
   "execution_count": 782,
   "metadata": {},
   "outputs": [],
   "source": [
    "#drop null values from dog stage column\n",
    "twitter_archive_df_copy.dog_stage = twitter_archive_df_copy.dog_stage.dropna()"
   ]
  },
  {
   "cell_type": "code",
   "execution_count": 783,
   "metadata": {},
   "outputs": [
    {
     "data": {
      "text/plain": [
       "pupper     234\n",
       "doggo       84\n",
       "puppo       30\n",
       "floofer      9\n",
       "Name: dog_stage, dtype: int64"
      ]
     },
     "execution_count": 783,
     "metadata": {},
     "output_type": "execute_result"
    }
   ],
   "source": [
    "twitter_archive_df_copy.dog_stage.value_counts()"
   ]
  },
  {
   "cell_type": "code",
   "execution_count": 784,
   "metadata": {},
   "outputs": [],
   "source": [
    "#drop 'doggo', 'floofer', 'pupper', 'puppo' columns\n",
    "twitter_archive_df_copy = twitter_archive_df_copy.drop(['doggo', 'floofer', 'pupper', 'puppo'], axis=1)"
   ]
  },
  {
   "cell_type": "code",
   "execution_count": 785,
   "metadata": {},
   "outputs": [
    {
     "data": {
      "text/plain": [
       "['tweet_id',\n",
       " 'text',\n",
       " 'retweeted_status_id',\n",
       " 'retweeted_status_user_id',\n",
       " 'retweeted_status_timestamp',\n",
       " 'expanded_urls',\n",
       " 'rating_numerator',\n",
       " 'rating_denominator',\n",
       " 'name',\n",
       " 'date',\n",
       " 'year',\n",
       " 'month',\n",
       " 'day',\n",
       " 'tweet_hashtag',\n",
       " 'rating',\n",
       " 'dog_stage']"
      ]
     },
     "execution_count": 785,
     "metadata": {},
     "output_type": "execute_result"
    }
   ],
   "source": [
    "list(twitter_archive_df_copy)"
   ]
  },
  {
   "cell_type": "markdown",
   "metadata": {},
   "source": [
    "#### Merge all dataframes into one "
   ]
  },
  {
   "cell_type": "markdown",
   "metadata": {},
   "source": [
    "#### Code"
   ]
  },
  {
   "cell_type": "code",
   "execution_count": 786,
   "metadata": {},
   "outputs": [],
   "source": [
    "#dog_images_df_copy.set_index('tweet_id')\n",
    "#twitter_archive_df_copy.set_index('tweet_id')\n",
    "#twitter_feed_df_copy.set_index('tweet_id')\n",
    "\n"
   ]
  },
  {
   "cell_type": "code",
   "execution_count": 789,
   "metadata": {},
   "outputs": [],
   "source": [
    "#twitter = pd.merge(dog_images_df_copy, twitter_feed_df_copy,how='outer',left_on='tweet_id', right_on='tweet_id')\n",
    "final_twitter_data = dog_images_df_copy.merge(twitter_archive_df_copy,how = 'outer',left_on = 'tweet_id', right_on = 'tweet_id')\n"
   ]
  },
  {
   "cell_type": "code",
   "execution_count": 793,
   "metadata": {},
   "outputs": [],
   "source": [
    "final_twitter_data = final_twitter_data.merge(twitter_feed_df_copy,how = 'outer',left_on = 'tweet_id', right_on = 'tweet_id')"
   ]
  },
  {
   "cell_type": "markdown",
   "metadata": {},
   "source": [
    "#### Test"
   ]
  },
  {
   "cell_type": "code",
   "execution_count": 794,
   "metadata": {},
   "outputs": [
    {
     "data": {
      "text/html": [
       "<div>\n",
       "<style scoped>\n",
       "    .dataframe tbody tr th:only-of-type {\n",
       "        vertical-align: middle;\n",
       "    }\n",
       "\n",
       "    .dataframe tbody tr th {\n",
       "        vertical-align: top;\n",
       "    }\n",
       "\n",
       "    .dataframe thead th {\n",
       "        text-align: right;\n",
       "    }\n",
       "</style>\n",
       "<table border=\"1\" class=\"dataframe\">\n",
       "  <thead>\n",
       "    <tr style=\"text-align: right;\">\n",
       "      <th></th>\n",
       "      <th>tweet_id</th>\n",
       "      <th>jpg_url</th>\n",
       "      <th>p1</th>\n",
       "      <th>p1_conf</th>\n",
       "      <th>p1_dog</th>\n",
       "      <th>p2</th>\n",
       "      <th>p2_conf</th>\n",
       "      <th>p2_dog</th>\n",
       "      <th>p3</th>\n",
       "      <th>p3_conf</th>\n",
       "      <th>...</th>\n",
       "      <th>date</th>\n",
       "      <th>year</th>\n",
       "      <th>month</th>\n",
       "      <th>day</th>\n",
       "      <th>tweet_hashtag</th>\n",
       "      <th>rating</th>\n",
       "      <th>dog_stage</th>\n",
       "      <th>text_y</th>\n",
       "      <th>favorite_count</th>\n",
       "      <th>retweet_count</th>\n",
       "    </tr>\n",
       "  </thead>\n",
       "  <tbody>\n",
       "    <tr>\n",
       "      <th>0</th>\n",
       "      <td>666020888022790149</td>\n",
       "      <td>https://pbs.twimg.com/media/CT4udn0WwAA0aMy.jpg</td>\n",
       "      <td>Welsh_springer_spaniel</td>\n",
       "      <td>0.465074</td>\n",
       "      <td>True</td>\n",
       "      <td>collie</td>\n",
       "      <td>0.156665</td>\n",
       "      <td>True</td>\n",
       "      <td>Shetland_sheepdog</td>\n",
       "      <td>0.061428</td>\n",
       "      <td>...</td>\n",
       "      <td>NaT</td>\n",
       "      <td>NaN</td>\n",
       "      <td>NaN</td>\n",
       "      <td>NaN</td>\n",
       "      <td>NaN</td>\n",
       "      <td>NaN</td>\n",
       "      <td>NaN</td>\n",
       "      <td>Here we have a Japanese Irish Setter. Lost eye...</td>\n",
       "      <td>2529.0</td>\n",
       "      <td>498.0</td>\n",
       "    </tr>\n",
       "    <tr>\n",
       "      <th>1</th>\n",
       "      <td>666029285002620928</td>\n",
       "      <td>https://pbs.twimg.com/media/CT42GRgUYAA5iDo.jpg</td>\n",
       "      <td>redbone</td>\n",
       "      <td>0.506826</td>\n",
       "      <td>True</td>\n",
       "      <td>miniature_pinscher</td>\n",
       "      <td>0.074192</td>\n",
       "      <td>True</td>\n",
       "      <td>Rhodesian_ridgeback</td>\n",
       "      <td>0.072010</td>\n",
       "      <td>...</td>\n",
       "      <td>NaT</td>\n",
       "      <td>NaN</td>\n",
       "      <td>NaN</td>\n",
       "      <td>NaN</td>\n",
       "      <td>NaN</td>\n",
       "      <td>NaN</td>\n",
       "      <td>NaN</td>\n",
       "      <td>This is a western brown Mitsubishi terrier. Up...</td>\n",
       "      <td>125.0</td>\n",
       "      <td>46.0</td>\n",
       "    </tr>\n",
       "    <tr>\n",
       "      <th>2</th>\n",
       "      <td>666033412701032449</td>\n",
       "      <td>https://pbs.twimg.com/media/CT4521TWwAEvMyu.jpg</td>\n",
       "      <td>German_shepherd</td>\n",
       "      <td>0.596461</td>\n",
       "      <td>True</td>\n",
       "      <td>malinois</td>\n",
       "      <td>0.138584</td>\n",
       "      <td>True</td>\n",
       "      <td>bloodhound</td>\n",
       "      <td>0.116197</td>\n",
       "      <td>...</td>\n",
       "      <td>NaT</td>\n",
       "      <td>NaN</td>\n",
       "      <td>NaN</td>\n",
       "      <td>NaN</td>\n",
       "      <td>NaN</td>\n",
       "      <td>NaN</td>\n",
       "      <td>NaN</td>\n",
       "      <td>Here is a very happy pup. Big fan of well-main...</td>\n",
       "      <td>123.0</td>\n",
       "      <td>43.0</td>\n",
       "    </tr>\n",
       "  </tbody>\n",
       "</table>\n",
       "<p>3 rows × 29 columns</p>\n",
       "</div>"
      ],
      "text/plain": [
       "             tweet_id                                          jpg_url  \\\n",
       "0  666020888022790149  https://pbs.twimg.com/media/CT4udn0WwAA0aMy.jpg   \n",
       "1  666029285002620928  https://pbs.twimg.com/media/CT42GRgUYAA5iDo.jpg   \n",
       "2  666033412701032449  https://pbs.twimg.com/media/CT4521TWwAEvMyu.jpg   \n",
       "\n",
       "                       p1   p1_conf p1_dog                  p2   p2_conf  \\\n",
       "0  Welsh_springer_spaniel  0.465074   True              collie  0.156665   \n",
       "1                 redbone  0.506826   True  miniature_pinscher  0.074192   \n",
       "2         German_shepherd  0.596461   True            malinois  0.138584   \n",
       "\n",
       "  p2_dog                   p3   p3_conf      ...      date year  month  day  \\\n",
       "0   True    Shetland_sheepdog  0.061428      ...       NaT  NaN    NaN  NaN   \n",
       "1   True  Rhodesian_ridgeback  0.072010      ...       NaT  NaN    NaN  NaN   \n",
       "2   True           bloodhound  0.116197      ...       NaT  NaN    NaN  NaN   \n",
       "\n",
       "  tweet_hashtag rating  dog_stage  \\\n",
       "0           NaN    NaN        NaN   \n",
       "1           NaN    NaN        NaN   \n",
       "2           NaN    NaN        NaN   \n",
       "\n",
       "                                              text_y favorite_count  \\\n",
       "0  Here we have a Japanese Irish Setter. Lost eye...         2529.0   \n",
       "1  This is a western brown Mitsubishi terrier. Up...          125.0   \n",
       "2  Here is a very happy pup. Big fan of well-main...          123.0   \n",
       "\n",
       "  retweet_count  \n",
       "0         498.0  \n",
       "1          46.0  \n",
       "2          43.0  \n",
       "\n",
       "[3 rows x 29 columns]"
      ]
     },
     "execution_count": 794,
     "metadata": {},
     "output_type": "execute_result"
    }
   ],
   "source": [
    "final_twitter_data.head(3)"
   ]
  },
  {
   "cell_type": "markdown",
   "metadata": {},
   "source": [
    "#### Store merged dataframes into csv file"
   ]
  },
  {
   "cell_type": "code",
   "execution_count": 795,
   "metadata": {},
   "outputs": [
    {
     "data": {
      "text/plain": [
       "['tweet_id',\n",
       " 'jpg_url',\n",
       " 'p1',\n",
       " 'p1_conf',\n",
       " 'p1_dog',\n",
       " 'p2',\n",
       " 'p2_conf',\n",
       " 'p2_dog',\n",
       " 'p3',\n",
       " 'p3_conf',\n",
       " 'p3_dog',\n",
       " 'text_x',\n",
       " 'retweeted_status_id',\n",
       " 'retweeted_status_user_id',\n",
       " 'retweeted_status_timestamp',\n",
       " 'expanded_urls',\n",
       " 'rating_numerator',\n",
       " 'rating_denominator',\n",
       " 'name',\n",
       " 'date',\n",
       " 'year',\n",
       " 'month',\n",
       " 'day',\n",
       " 'tweet_hashtag',\n",
       " 'rating',\n",
       " 'dog_stage',\n",
       " 'text_y',\n",
       " 'favorite_count',\n",
       " 'retweet_count']"
      ]
     },
     "execution_count": 795,
     "metadata": {},
     "output_type": "execute_result"
    }
   ],
   "source": [
    "list(final_twitter_data)"
   ]
  },
  {
   "cell_type": "code",
   "execution_count": 806,
   "metadata": {},
   "outputs": [],
   "source": [
    "final_twitter_data.to_csv('twitter_archive_master.csv')"
   ]
  },
  {
   "cell_type": "markdown",
   "metadata": {},
   "source": [
    "<a id='analyze'></a>\n",
    "## Storing, Analyzing, and Visualizing"
   ]
  },
  {
   "cell_type": "code",
   "execution_count": 807,
   "metadata": {},
   "outputs": [],
   "source": [
    "#read twitter_data_df from csv file\n",
    "\n",
    "final_twitter_data = pd.read_csv('twitter_archive_master.csv')"
   ]
  },
  {
   "cell_type": "code",
   "execution_count": 817,
   "metadata": {
    "scrolled": true
   },
   "outputs": [
    {
     "data": {
      "text/html": [
       "<div>\n",
       "<style scoped>\n",
       "    .dataframe tbody tr th:only-of-type {\n",
       "        vertical-align: middle;\n",
       "    }\n",
       "\n",
       "    .dataframe tbody tr th {\n",
       "        vertical-align: top;\n",
       "    }\n",
       "\n",
       "    .dataframe thead th {\n",
       "        text-align: right;\n",
       "    }\n",
       "</style>\n",
       "<table border=\"1\" class=\"dataframe\">\n",
       "  <thead>\n",
       "    <tr style=\"text-align: right;\">\n",
       "      <th></th>\n",
       "      <th>tweet_id</th>\n",
       "      <th>jpg_url</th>\n",
       "      <th>p1</th>\n",
       "      <th>p1_conf</th>\n",
       "      <th>p1_dog</th>\n",
       "      <th>p2</th>\n",
       "      <th>p2_conf</th>\n",
       "      <th>p2_dog</th>\n",
       "      <th>p3</th>\n",
       "      <th>p3_conf</th>\n",
       "      <th>...</th>\n",
       "      <th>date</th>\n",
       "      <th>year</th>\n",
       "      <th>month</th>\n",
       "      <th>day</th>\n",
       "      <th>tweet_hashtag</th>\n",
       "      <th>rating</th>\n",
       "      <th>dog_stage</th>\n",
       "      <th>text_y</th>\n",
       "      <th>favorite_count</th>\n",
       "      <th>retweet_count</th>\n",
       "    </tr>\n",
       "  </thead>\n",
       "  <tbody>\n",
       "    <tr>\n",
       "      <th>69</th>\n",
       "      <td>6.671887e+17</td>\n",
       "      <td>https://pbs.twimg.com/media/CUJUk2iWUAAVtOv.jpg</td>\n",
       "      <td>vacuum</td>\n",
       "      <td>0.33583</td>\n",
       "      <td>False</td>\n",
       "      <td>swab</td>\n",
       "      <td>0.265278</td>\n",
       "      <td>False</td>\n",
       "      <td>toilet_tissue</td>\n",
       "      <td>0.140703</td>\n",
       "      <td>...</td>\n",
       "      <td>NaN</td>\n",
       "      <td>NaN</td>\n",
       "      <td>NaN</td>\n",
       "      <td>NaN</td>\n",
       "      <td>NaN</td>\n",
       "      <td>NaN</td>\n",
       "      <td>NaN</td>\n",
       "      <td>Quite an advanced dog here. Impressively dress...</td>\n",
       "      <td>741.0</td>\n",
       "      <td>417.0</td>\n",
       "    </tr>\n",
       "  </tbody>\n",
       "</table>\n",
       "<p>1 rows × 29 columns</p>\n",
       "</div>"
      ],
      "text/plain": [
       "        tweet_id                                          jpg_url      p1  \\\n",
       "69  6.671887e+17  https://pbs.twimg.com/media/CUJUk2iWUAAVtOv.jpg  vacuum   \n",
       "\n",
       "    p1_conf p1_dog    p2   p2_conf p2_dog             p3   p3_conf  \\\n",
       "69  0.33583  False  swab  0.265278  False  toilet_tissue  0.140703   \n",
       "\n",
       "        ...      date year  month  day  tweet_hashtag rating  dog_stage  \\\n",
       "69      ...       NaN  NaN    NaN  NaN            NaN    NaN        NaN   \n",
       "\n",
       "                                               text_y favorite_count  \\\n",
       "69  Quite an advanced dog here. Impressively dress...          741.0   \n",
       "\n",
       "   retweet_count  \n",
       "69         417.0  \n",
       "\n",
       "[1 rows x 29 columns]"
      ]
     },
     "execution_count": 817,
     "metadata": {},
     "output_type": "execute_result"
    }
   ],
   "source": [
    "final_twitter_data.sample()"
   ]
  },
  {
   "cell_type": "code",
   "execution_count": 816,
   "metadata": {},
   "outputs": [],
   "source": [
    "final_twitter_data = final_twitter_data.drop(['Unnamed: 0'], axis=1)"
   ]
  },
  {
   "cell_type": "markdown",
   "metadata": {},
   "source": [
    "### The Relation of tetweet_count and favorite_count"
   ]
  },
  {
   "cell_type": "code",
   "execution_count": 796,
   "metadata": {},
   "outputs": [
    {
     "data": {
      "text/plain": [
       "Text(0.5,1,'Relation of tetweet_count and favorite_count')"
      ]
     },
     "execution_count": 796,
     "metadata": {},
     "output_type": "execute_result"
    },
    {
     "data": {
      "image/png": "[encoded data removed]",
      "text/plain": [
       "<Figure size 1080x504 with 1 Axes>"
      ]
     },
     "metadata": {
      "image/png": {
       "height": 444,
       "width": 915
      },
      "needs_background": "light"
     },
     "output_type": "display_data"
    }
   ],
   "source": [
    "#### Relation between value count and favorite_count\n",
    "fig, ax = plt.subplots(figsize=(15,7))\n",
    "plt.scatter(final_twitter_data['retweet_count'], final_twitter_data['favorite_count'],color=(0.2, 0.4, 0.6, 0.6))\n",
    "plt.xlabel('Retweet count')\n",
    "plt.ylabel('Favorite count')\n",
    "plt.title('Relation of tetweet_count and favorite_count')"
   ]
  },
  {
   "cell_type": "code",
   "execution_count": 797,
   "metadata": {},
   "outputs": [
    {
     "data": {
      "text/plain": [
       "count     2067.000000\n",
       "mean      2785.600871\n",
       "std       4847.954213\n",
       "min         11.000000\n",
       "25%        593.000000\n",
       "50%       1312.000000\n",
       "75%       3212.500000\n",
       "max      83162.000000\n",
       "Name: retweet_count, dtype: float64"
      ]
     },
     "execution_count": 797,
     "metadata": {},
     "output_type": "execute_result"
    }
   ],
   "source": [
    "final_twitter_data.retweet_count.describe()"
   ]
  },
  {
   "cell_type": "code",
   "execution_count": 798,
   "metadata": {},
   "outputs": [
    {
     "data": {
      "text/plain": [
       "count      2067.000000\n",
       "mean       8375.003870\n",
       "std       12618.469168\n",
       "min           0.000000\n",
       "25%        1591.500000\n",
       "50%        3680.000000\n",
       "75%       10471.000000\n",
       "max      163574.000000\n",
       "Name: favorite_count, dtype: float64"
      ]
     },
     "execution_count": 798,
     "metadata": {},
     "output_type": "execute_result"
    }
   ],
   "source": [
    "final_twitter_data.favorite_count.describe()"
   ]
  },
  {
   "cell_type": "markdown",
   "metadata": {},
   "source": [
    "### Which tweet have the highest retweet and favorite count"
   ]
  },
  {
   "cell_type": "code",
   "execution_count": 823,
   "metadata": {},
   "outputs": [
    {
     "data": {
      "text/html": [
       "<div>\n",
       "<style scoped>\n",
       "    .dataframe tbody tr th:only-of-type {\n",
       "        vertical-align: middle;\n",
       "    }\n",
       "\n",
       "    .dataframe tbody tr th {\n",
       "        vertical-align: top;\n",
       "    }\n",
       "\n",
       "    .dataframe thead th {\n",
       "        text-align: right;\n",
       "    }\n",
       "</style>\n",
       "<table border=\"1\" class=\"dataframe\">\n",
       "  <thead>\n",
       "    <tr style=\"text-align: right;\">\n",
       "      <th></th>\n",
       "      <th>tweet_id</th>\n",
       "      <th>jpg_url</th>\n",
       "      <th>p1</th>\n",
       "      <th>p1_conf</th>\n",
       "      <th>p1_dog</th>\n",
       "      <th>p2</th>\n",
       "      <th>p2_conf</th>\n",
       "      <th>p2_dog</th>\n",
       "      <th>p3</th>\n",
       "      <th>p3_conf</th>\n",
       "      <th>...</th>\n",
       "      <th>date</th>\n",
       "      <th>year</th>\n",
       "      <th>month</th>\n",
       "      <th>day</th>\n",
       "      <th>tweet_hashtag</th>\n",
       "      <th>rating</th>\n",
       "      <th>dog_stage</th>\n",
       "      <th>text_y</th>\n",
       "      <th>favorite_count</th>\n",
       "      <th>retweet_count</th>\n",
       "    </tr>\n",
       "  </thead>\n",
       "  <tbody>\n",
       "    <tr>\n",
       "      <th>1221</th>\n",
       "      <td>7.442348e+17</td>\n",
       "      <td>https://pbs.twimg.com/ext_tw_video_thumb/74423...</td>\n",
       "      <td>Labrador_retriever</td>\n",
       "      <td>0.825333</td>\n",
       "      <td>True</td>\n",
       "      <td>ice_bear</td>\n",
       "      <td>0.044681</td>\n",
       "      <td>False</td>\n",
       "      <td>whippet</td>\n",
       "      <td>0.018442</td>\n",
       "      <td>...</td>\n",
       "      <td>NaN</td>\n",
       "      <td>NaN</td>\n",
       "      <td>NaN</td>\n",
       "      <td>NaN</td>\n",
       "      <td>NaN</td>\n",
       "      <td>NaN</td>\n",
       "      <td>NaN</td>\n",
       "      <td>Here's a doggo realizing you can stand in a po...</td>\n",
       "      <td>163574.0</td>\n",
       "      <td>83162.0</td>\n",
       "    </tr>\n",
       "  </tbody>\n",
       "</table>\n",
       "<p>1 rows × 29 columns</p>\n",
       "</div>"
      ],
      "text/plain": [
       "          tweet_id                                            jpg_url  \\\n",
       "1221  7.442348e+17  https://pbs.twimg.com/ext_tw_video_thumb/74423...   \n",
       "\n",
       "                      p1   p1_conf p1_dog        p2   p2_conf p2_dog       p3  \\\n",
       "1221  Labrador_retriever  0.825333   True  ice_bear  0.044681  False  whippet   \n",
       "\n",
       "       p3_conf      ...      date year  month  day  tweet_hashtag rating  \\\n",
       "1221  0.018442      ...       NaN  NaN    NaN  NaN            NaN    NaN   \n",
       "\n",
       "      dog_stage                                             text_y  \\\n",
       "1221        NaN  Here's a doggo realizing you can stand in a po...   \n",
       "\n",
       "     favorite_count retweet_count  \n",
       "1221       163574.0       83162.0  \n",
       "\n",
       "[1 rows x 29 columns]"
      ]
     },
     "execution_count": 823,
     "metadata": {},
     "output_type": "execute_result"
    }
   ],
   "source": [
    "\n",
    "final_twitter_data[final_twitter_data['retweet_count']==final_twitter_data['retweet_count'].max()]\n",
    "#ret max is 83162"
   ]
  },
  {
   "cell_type": "code",
   "execution_count": 824,
   "metadata": {},
   "outputs": [
    {
     "data": {
      "text/html": [
       "<div>\n",
       "<style scoped>\n",
       "    .dataframe tbody tr th:only-of-type {\n",
       "        vertical-align: middle;\n",
       "    }\n",
       "\n",
       "    .dataframe tbody tr th {\n",
       "        vertical-align: top;\n",
       "    }\n",
       "\n",
       "    .dataframe thead th {\n",
       "        text-align: right;\n",
       "    }\n",
       "</style>\n",
       "<table border=\"1\" class=\"dataframe\">\n",
       "  <thead>\n",
       "    <tr style=\"text-align: right;\">\n",
       "      <th></th>\n",
       "      <th>tweet_id</th>\n",
       "      <th>jpg_url</th>\n",
       "      <th>p1</th>\n",
       "      <th>p1_conf</th>\n",
       "      <th>p1_dog</th>\n",
       "      <th>p2</th>\n",
       "      <th>p2_conf</th>\n",
       "      <th>p2_dog</th>\n",
       "      <th>p3</th>\n",
       "      <th>p3_conf</th>\n",
       "      <th>...</th>\n",
       "      <th>date</th>\n",
       "      <th>year</th>\n",
       "      <th>month</th>\n",
       "      <th>day</th>\n",
       "      <th>tweet_hashtag</th>\n",
       "      <th>rating</th>\n",
       "      <th>dog_stage</th>\n",
       "      <th>text_y</th>\n",
       "      <th>favorite_count</th>\n",
       "      <th>retweet_count</th>\n",
       "    </tr>\n",
       "  </thead>\n",
       "  <tbody>\n",
       "    <tr>\n",
       "      <th>1221</th>\n",
       "      <td>7.442348e+17</td>\n",
       "      <td>https://pbs.twimg.com/ext_tw_video_thumb/74423...</td>\n",
       "      <td>Labrador_retriever</td>\n",
       "      <td>0.825333</td>\n",
       "      <td>True</td>\n",
       "      <td>ice_bear</td>\n",
       "      <td>0.044681</td>\n",
       "      <td>False</td>\n",
       "      <td>whippet</td>\n",
       "      <td>0.018442</td>\n",
       "      <td>...</td>\n",
       "      <td>NaN</td>\n",
       "      <td>NaN</td>\n",
       "      <td>NaN</td>\n",
       "      <td>NaN</td>\n",
       "      <td>NaN</td>\n",
       "      <td>NaN</td>\n",
       "      <td>NaN</td>\n",
       "      <td>Here's a doggo realizing you can stand in a po...</td>\n",
       "      <td>163574.0</td>\n",
       "      <td>83162.0</td>\n",
       "    </tr>\n",
       "  </tbody>\n",
       "</table>\n",
       "<p>1 rows × 29 columns</p>\n",
       "</div>"
      ],
      "text/plain": [
       "          tweet_id                                            jpg_url  \\\n",
       "1221  7.442348e+17  https://pbs.twimg.com/ext_tw_video_thumb/74423...   \n",
       "\n",
       "                      p1   p1_conf p1_dog        p2   p2_conf p2_dog       p3  \\\n",
       "1221  Labrador_retriever  0.825333   True  ice_bear  0.044681  False  whippet   \n",
       "\n",
       "       p3_conf      ...      date year  month  day  tweet_hashtag rating  \\\n",
       "1221  0.018442      ...       NaN  NaN    NaN  NaN            NaN    NaN   \n",
       "\n",
       "      dog_stage                                             text_y  \\\n",
       "1221        NaN  Here's a doggo realizing you can stand in a po...   \n",
       "\n",
       "     favorite_count retweet_count  \n",
       "1221       163574.0       83162.0  \n",
       "\n",
       "[1 rows x 29 columns]"
      ]
     },
     "execution_count": 824,
     "metadata": {},
     "output_type": "execute_result"
    }
   ],
   "source": [
    "#fav max is 163574\n",
    "final_twitter_data[final_twitter_data['favorite_count']==final_twitter_data['favorite_count'].max()]"
   ]
  },
  {
   "cell_type": "markdown",
   "metadata": {},
   "source": [
    "### The correlation between retweet_count and favorite_count columns"
   ]
  },
  {
   "cell_type": "code",
   "execution_count": 800,
   "metadata": {},
   "outputs": [
    {
     "data": {
      "text/plain": [
       "0.8566013476421317"
      ]
     },
     "execution_count": 800,
     "metadata": {},
     "output_type": "execute_result"
    }
   ],
   "source": [
    "final_twitter_data.favorite_count.corr(final_twitter_data.retweet_count)"
   ]
  },
  {
   "cell_type": "markdown",
   "metadata": {},
   "source": [
    " It is high corrletion between retweet and like tweets"
   ]
  },
  {
   "cell_type": "markdown",
   "metadata": {},
   "source": [
    "### Most dog stages"
   ]
  },
  {
   "cell_type": "code",
   "execution_count": 801,
   "metadata": {},
   "outputs": [
    {
     "data": {
      "text/plain": [
       "Text(3.925,0.5,'Counts')"
      ]
     },
     "execution_count": 801,
     "metadata": {},
     "output_type": "execute_result"
    },
    {
     "data": {
      "image/png": "[encoded data removed]",
      "text/plain": [
       "<Figure size 658.286x576 with 1 Axes>"
      ]
     },
     "metadata": {
      "image/png": {
       "height": 579,
       "width": 663
      },
      "needs_background": "light"
     },
     "output_type": "display_data"
    }
   ],
   "source": [
    "sns.catplot(x=\"dog_stage\", kind=\"count\", palette=\"ch:.25\", data=final_twitter_data,height=8, aspect=8/7)\n",
    "plt.title('More Likes dog stages')\n",
    "plt.xlabel('Dogs stages')\n",
    "plt.ylabel('Counts')"
   ]
  },
  {
   "cell_type": "markdown",
   "metadata": {},
   "source": [
    "### Count of Tweet Hashtags"
   ]
  },
  {
   "cell_type": "code",
   "execution_count": 802,
   "metadata": {},
   "outputs": [
    {
     "data": {
      "text/plain": [
       "Text(-80.575,0.5,'Counts')"
      ]
     },
     "execution_count": 802,
     "metadata": {},
     "output_type": "execute_result"
    },
    {
     "data": {
      "image/png": "[encoded data removed]",
      "text/plain": [
       "<Figure size 658.286x576 with 1 Axes>"
      ]
     },
     "metadata": {
      "image/png": {
       "height": 593,
       "width": 649
      },
      "needs_background": "light"
     },
     "output_type": "display_data"
    }
   ],
   "source": [
    "sns.catplot(y=\"tweet_hashtag\", kind=\"count\", palette=\"ch:.25\", data=final_twitter_data, height=8, aspect=8/7)\n",
    "plt.title('Counts of Tweet hashtags')\n",
    "plt.xlabel('Hashtags')\n",
    "plt.ylabel('Counts')"
   ]
  },
  {
   "cell_type": "markdown",
   "metadata": {},
   "source": [
    "### The dog stage's rating in years"
   ]
  },
  {
   "cell_type": "code",
   "execution_count": 803,
   "metadata": {},
   "outputs": [
    {
     "data": {
      "text/plain": [
       "Text(0.5,0,'Dog stages in Years')"
      ]
     },
     "execution_count": 803,
     "metadata": {},
     "output_type": "execute_result"
    },
    {
     "data": {
      "image/png": "[encoded data removed]",
      "text/plain": [
       "<Figure size 1080x504 with 1 Axes>"
      ]
     },
     "metadata": {
      "image/png": {
       "height": 528,
       "width": 926
      },
      "needs_background": "light"
     },
     "output_type": "display_data"
    }
   ],
   "source": [
    "final_twitter_data.boxplot(column=['rating'], by=['dog_stage', 'year'],rot=45, fontsize=12,figsize=(15,7))\n",
    "plt.title('The rating of dog stages in years')\n",
    "plt.ylabel('Rating')\n",
    "plt.xlabel('Dog stages in Years') "
   ]
  },
  {
   "cell_type": "code",
   "execution_count": 804,
   "metadata": {},
   "outputs": [
    {
     "data": {
      "text/html": [
       "<div>\n",
       "<style scoped>\n",
       "    .dataframe tbody tr th:only-of-type {\n",
       "        vertical-align: middle;\n",
       "    }\n",
       "\n",
       "    .dataframe tbody tr th {\n",
       "        vertical-align: top;\n",
       "    }\n",
       "\n",
       "    .dataframe thead th {\n",
       "        text-align: right;\n",
       "    }\n",
       "</style>\n",
       "<table border=\"1\" class=\"dataframe\">\n",
       "  <thead>\n",
       "    <tr style=\"text-align: right;\">\n",
       "      <th></th>\n",
       "      <th>count</th>\n",
       "      <th>mean</th>\n",
       "      <th>std</th>\n",
       "      <th>min</th>\n",
       "      <th>25%</th>\n",
       "      <th>50%</th>\n",
       "      <th>75%</th>\n",
       "      <th>max</th>\n",
       "    </tr>\n",
       "    <tr>\n",
       "      <th>dog_stage</th>\n",
       "      <th></th>\n",
       "      <th></th>\n",
       "      <th></th>\n",
       "      <th></th>\n",
       "      <th></th>\n",
       "      <th></th>\n",
       "      <th></th>\n",
       "      <th></th>\n",
       "    </tr>\n",
       "  </thead>\n",
       "  <tbody>\n",
       "    <tr>\n",
       "      <th>doggo</th>\n",
       "      <td>84.0</td>\n",
       "      <td>114.523810</td>\n",
       "      <td>14.759499</td>\n",
       "      <td>50.0</td>\n",
       "      <td>110.0</td>\n",
       "      <td>120.0</td>\n",
       "      <td>130.0</td>\n",
       "      <td>130.0</td>\n",
       "    </tr>\n",
       "    <tr>\n",
       "      <th>floofer</th>\n",
       "      <td>9.0</td>\n",
       "      <td>118.888889</td>\n",
       "      <td>10.540926</td>\n",
       "      <td>100.0</td>\n",
       "      <td>110.0</td>\n",
       "      <td>120.0</td>\n",
       "      <td>130.0</td>\n",
       "      <td>130.0</td>\n",
       "    </tr>\n",
       "    <tr>\n",
       "      <th>pupper</th>\n",
       "      <td>234.0</td>\n",
       "      <td>105.811966</td>\n",
       "      <td>17.394159</td>\n",
       "      <td>30.0</td>\n",
       "      <td>100.0</td>\n",
       "      <td>110.0</td>\n",
       "      <td>120.0</td>\n",
       "      <td>130.0</td>\n",
       "    </tr>\n",
       "    <tr>\n",
       "      <th>puppo</th>\n",
       "      <td>30.0</td>\n",
       "      <td>119.666667</td>\n",
       "      <td>11.885469</td>\n",
       "      <td>90.0</td>\n",
       "      <td>112.5</td>\n",
       "      <td>120.0</td>\n",
       "      <td>130.0</td>\n",
       "      <td>130.0</td>\n",
       "    </tr>\n",
       "  </tbody>\n",
       "</table>\n",
       "</div>"
      ],
      "text/plain": [
       "           count        mean        std    min    25%    50%    75%    max\n",
       "dog_stage                                                                 \n",
       "doggo       84.0  114.523810  14.759499   50.0  110.0  120.0  130.0  130.0\n",
       "floofer      9.0  118.888889  10.540926  100.0  110.0  120.0  130.0  130.0\n",
       "pupper     234.0  105.811966  17.394159   30.0  100.0  110.0  120.0  130.0\n",
       "puppo       30.0  119.666667  11.885469   90.0  112.5  120.0  130.0  130.0"
      ]
     },
     "execution_count": 804,
     "metadata": {},
     "output_type": "execute_result"
    }
   ],
   "source": [
    "final_twitter_data.groupby('dog_stage')['rating'].describe()"
   ]
  },
  {
   "cell_type": "code",
   "execution_count": 805,
   "metadata": {},
   "outputs": [
    {
     "data": {
      "text/plain": [
       "<matplotlib.axes._subplots.AxesSubplot at 0x1a1f25db38>"
      ]
     },
     "execution_count": 805,
     "metadata": {},
     "output_type": "execute_result"
    },
    {
     "data": {
      "image/png": "[encoded data removed]",
      "text/plain": [
       "<Figure size 1080x504 with 1 Axes>"
      ]
     },
     "metadata": {
      "image/png": {
       "height": 432,
       "width": 888
      },
      "needs_background": "light"
     },
     "output_type": "display_data"
    }
   ],
   "source": [
    "#The relation between dog rating over years \n",
    "fig, ax = plt.subplots(figsize=(15,7))\n",
    "final_twitter_data.groupby(['year'])['rating'].count().plot(ax=ax,color=(0.2, 0.4, 0.6, 0.6),linestyle='--')"
   ]
  },
  {
   "cell_type": "markdown",
   "metadata": {},
   "source": [
    "## Acknowledgement"
   ]
  },
  {
   "cell_type": "markdown",
   "metadata": {},
   "source": [
    "* https://pandas.pydata.org/pandas-docs/stable/reference/api/pandas.DataFrame.set_index.html\n",
    "\n",
    "* https://stackoverflow.com/questions/2527892/parsing-a-tweet-to-extract-hashtags-into-an-array-in-python\n",
    "* https://stackoverflow.com/questions/36108377/how-to-use-the-split-function-on-every-row-in-a-dataframe-in-python\n",
    "* https://stackoverflow.com/questions/23743460/replace-none-with-nan-in-pandas-dataframe\n",
    "* https://www.toptal.com/python/twitter-data-mining-using-python\n",
    "* https://pandas.pydata.org/pandas-docs/version/0.20/generated/pandas.melt.html\n",
    "* https://www.geeksforgeeks.org/python-pandas-melt/\n",
    "* https://stackoverflow.com/questions/12934997/how-to-detect-lowercase-letters-in-python\n",
    "* https://stackoverflow.com/questions/21011777/how-can-i-remove-nan-from-list-python-numpy\n",
    "* https://stackoverflow.com/questions/23668427/pandas-three-way-joining-multiple-dataframes-on-columns\n",
    "* https://pandas.pydata.org/pandas-docs/stable/user_guide/merging.html\n",
    "* https://pandas.pydata.org/pandas-docs/stable/reference/api/pandas.DataFrame.boxplot.html"
   ]
  }
 ],
 "metadata": {
  "kernelspec": {
   "display_name": "Python 3",
   "language": "python",
   "name": "python3"
  },
  "language_info": {
   "codemirror_mode": {
    "name": "ipython",
    "version": 3
   },
   "file_extension": ".py",
   "mimetype": "text/x-python",
   "name": "python",
   "nbconvert_exporter": "python",
   "pygments_lexer": "ipython3",
   "version": "3.7.0"
  }
 },
 "nbformat": 4,
 "nbformat_minor": 2
}
