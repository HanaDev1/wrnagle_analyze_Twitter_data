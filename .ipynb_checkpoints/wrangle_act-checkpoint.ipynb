{
 "cells": [
  {
   "cell_type": "markdown",
   "metadata": {},
   "source": [
    "# Wrangling and Analyzing data\n",
    "#### By Hana ALalawi"
   ]
  },
  {
   "cell_type": "markdown",
   "metadata": {},
   "source": [
    "## Table of contects:\n",
    "\n",
    "- [Introduction](#intro)\n",
    "- [Wrangling data](#wrangle)\n",
    "- [Part I - Gathring data](#gather)\n",
    "- [Part II - Assessing Data](#assess)\n",
    " - [Quality Issue](#qu)\n",
    " - [Tidness Issue](#ti)\n",
    "- [Part III - Cleaning data](#clean)\n",
    "- [Part IV - Storing, Analyzing, and Visualizing](#analyze)\n",
    "\n",
    "<a id='intro'></a>\n",
    "## Introduction\n",
    "\n",
    "Wrangle *WeRateDogs* Twitter data to create interesting and trustworthy analysis and visualizations.\n"
   ]
  },
  {
   "cell_type": "markdown",
   "metadata": {},
   "source": [
    "<a id='wrangle'></a>\n",
    "## Wrangling data \n",
    "#### Install packages and libraries"
   ]
  },
  {
   "cell_type": "code",
   "execution_count": 3,
   "metadata": {},
   "outputs": [],
   "source": [
    "#related packages and libraries\n",
    "import pandas as pd\n",
    "import requests\n",
    "import datetime \n",
    "import numpy as np\n",
    "import requests\n",
    "import json\n",
    "import os\n",
    "import tweepy\n",
    "from tweepy import OAuthHandler\n",
    "import json\n",
    "from timeit import default_timer as timer\n",
    "from functools import reduce\n",
    "import matplotlib.pyplot as plt\n",
    "%matplotlib inline\n",
    "%config InlineBackend.figure_format = 'retina'\n",
    "import seaborn as sns\n",
    "sns.set(style=\"ticks\", color_codes=True)\n",
    "from scipy import stats"
   ]
  },
  {
   "cell_type": "markdown",
   "metadata": {},
   "source": [
    "<a id='gather'></a>\n",
    "## Gathering data\n",
    "In this step, Gathering data from three different resources, from Twitter, CSV file and TSV file from the link."
   ]
  },
  {
   "cell_type": "code",
   "execution_count": 795,
   "metadata": {
    "scrolled": false
   },
   "outputs": [
    {
     "data": {
      "text/html": [
       "<div>\n",
       "<style scoped>\n",
       "    .dataframe tbody tr th:only-of-type {\n",
       "        vertical-align: middle;\n",
       "    }\n",
       "\n",
       "    .dataframe tbody tr th {\n",
       "        vertical-align: top;\n",
       "    }\n",
       "\n",
       "    .dataframe thead th {\n",
       "        text-align: right;\n",
       "    }\n",
       "</style>\n",
       "<table border=\"1\" class=\"dataframe\">\n",
       "  <thead>\n",
       "    <tr style=\"text-align: right;\">\n",
       "      <th></th>\n",
       "      <th>tweet_id</th>\n",
       "      <th>in_reply_to_status_id</th>\n",
       "      <th>in_reply_to_user_id</th>\n",
       "      <th>timestamp</th>\n",
       "      <th>source</th>\n",
       "      <th>text</th>\n",
       "      <th>retweeted_status_id</th>\n",
       "      <th>retweeted_status_user_id</th>\n",
       "      <th>retweeted_status_timestamp</th>\n",
       "      <th>expanded_urls</th>\n",
       "      <th>rating_numerator</th>\n",
       "      <th>rating_denominator</th>\n",
       "      <th>name</th>\n",
       "      <th>doggo</th>\n",
       "      <th>floofer</th>\n",
       "      <th>pupper</th>\n",
       "      <th>puppo</th>\n",
       "      <th>#VALUE!</th>\n",
       "    </tr>\n",
       "  </thead>\n",
       "  <tbody>\n",
       "    <tr>\n",
       "      <th>0</th>\n",
       "      <td>8.924210e+17</td>\n",
       "      <td>NaN</td>\n",
       "      <td>NaN</td>\n",
       "      <td>2017-08-01 16:23:56 +0000</td>\n",
       "      <td>&lt;a href=\"http://twitter.com/download/iphone\" r...</td>\n",
       "      <td>This is Phineas. He's a mystical boy. Only eve...</td>\n",
       "      <td>NaN</td>\n",
       "      <td>NaN</td>\n",
       "      <td>NaN</td>\n",
       "      <td>https://twitter.com/dog_rates/status/892420643...</td>\n",
       "      <td>13</td>\n",
       "      <td>10</td>\n",
       "      <td>Phineas</td>\n",
       "      <td>None</td>\n",
       "      <td>None</td>\n",
       "      <td>None</td>\n",
       "      <td>None</td>\n",
       "      <td>NaN</td>\n",
       "    </tr>\n",
       "    <tr>\n",
       "      <th>1</th>\n",
       "      <td>8.921770e+17</td>\n",
       "      <td>NaN</td>\n",
       "      <td>NaN</td>\n",
       "      <td>2017-08-01 00:17:27 +0000</td>\n",
       "      <td>&lt;a href=\"http://twitter.com/download/iphone\" r...</td>\n",
       "      <td>This is Tilly. She's just checking pup on you....</td>\n",
       "      <td>NaN</td>\n",
       "      <td>NaN</td>\n",
       "      <td>NaN</td>\n",
       "      <td>https://twitter.com/dog_rates/status/892177421...</td>\n",
       "      <td>13</td>\n",
       "      <td>10</td>\n",
       "      <td>Tilly</td>\n",
       "      <td>None</td>\n",
       "      <td>None</td>\n",
       "      <td>None</td>\n",
       "      <td>None</td>\n",
       "      <td>NaN</td>\n",
       "    </tr>\n",
       "    <tr>\n",
       "      <th>2</th>\n",
       "      <td>8.918150e+17</td>\n",
       "      <td>NaN</td>\n",
       "      <td>NaN</td>\n",
       "      <td>2017-07-31 00:18:03 +0000</td>\n",
       "      <td>&lt;a href=\"http://twitter.com/download/iphone\" r...</td>\n",
       "      <td>This is Archie. He is a rare Norwegian Pouncin...</td>\n",
       "      <td>NaN</td>\n",
       "      <td>NaN</td>\n",
       "      <td>NaN</td>\n",
       "      <td>https://twitter.com/dog_rates/status/891815181...</td>\n",
       "      <td>12</td>\n",
       "      <td>10</td>\n",
       "      <td>Archie</td>\n",
       "      <td>None</td>\n",
       "      <td>None</td>\n",
       "      <td>None</td>\n",
       "      <td>None</td>\n",
       "      <td>NaN</td>\n",
       "    </tr>\n",
       "    <tr>\n",
       "      <th>3</th>\n",
       "      <td>8.916900e+17</td>\n",
       "      <td>NaN</td>\n",
       "      <td>NaN</td>\n",
       "      <td>2017-07-30 15:58:51 +0000</td>\n",
       "      <td>&lt;a href=\"http://twitter.com/download/iphone\" r...</td>\n",
       "      <td>This is Darla. She commenced a snooze mid meal...</td>\n",
       "      <td>NaN</td>\n",
       "      <td>NaN</td>\n",
       "      <td>NaN</td>\n",
       "      <td>https://twitter.com/dog_rates/status/891689557...</td>\n",
       "      <td>13</td>\n",
       "      <td>10</td>\n",
       "      <td>Darla</td>\n",
       "      <td>None</td>\n",
       "      <td>None</td>\n",
       "      <td>None</td>\n",
       "      <td>None</td>\n",
       "      <td>NaN</td>\n",
       "    </tr>\n",
       "    <tr>\n",
       "      <th>4</th>\n",
       "      <td>8.913280e+17</td>\n",
       "      <td>NaN</td>\n",
       "      <td>NaN</td>\n",
       "      <td>2017-07-29 16:00:24 +0000</td>\n",
       "      <td>&lt;a href=\"http://twitter.com/download/iphone\" r...</td>\n",
       "      <td>This is Franklin. He would like you to stop ca...</td>\n",
       "      <td>NaN</td>\n",
       "      <td>NaN</td>\n",
       "      <td>NaN</td>\n",
       "      <td>https://twitter.com/dog_rates/status/891327558...</td>\n",
       "      <td>12</td>\n",
       "      <td>10</td>\n",
       "      <td>Franklin</td>\n",
       "      <td>None</td>\n",
       "      <td>None</td>\n",
       "      <td>None</td>\n",
       "      <td>None</td>\n",
       "      <td>NaN</td>\n",
       "    </tr>\n",
       "  </tbody>\n",
       "</table>\n",
       "</div>"
      ],
      "text/plain": [
       "       tweet_id  in_reply_to_status_id  in_reply_to_user_id  \\\n",
       "0  8.924210e+17                    NaN                  NaN   \n",
       "1  8.921770e+17                    NaN                  NaN   \n",
       "2  8.918150e+17                    NaN                  NaN   \n",
       "3  8.916900e+17                    NaN                  NaN   \n",
       "4  8.913280e+17                    NaN                  NaN   \n",
       "\n",
       "                   timestamp  \\\n",
       "0  2017-08-01 16:23:56 +0000   \n",
       "1  2017-08-01 00:17:27 +0000   \n",
       "2  2017-07-31 00:18:03 +0000   \n",
       "3  2017-07-30 15:58:51 +0000   \n",
       "4  2017-07-29 16:00:24 +0000   \n",
       "\n",
       "                                              source  \\\n",
       "0  <a href=\"http://twitter.com/download/iphone\" r...   \n",
       "1  <a href=\"http://twitter.com/download/iphone\" r...   \n",
       "2  <a href=\"http://twitter.com/download/iphone\" r...   \n",
       "3  <a href=\"http://twitter.com/download/iphone\" r...   \n",
       "4  <a href=\"http://twitter.com/download/iphone\" r...   \n",
       "\n",
       "                                                text  retweeted_status_id  \\\n",
       "0  This is Phineas. He's a mystical boy. Only eve...                  NaN   \n",
       "1  This is Tilly. She's just checking pup on you....                  NaN   \n",
       "2  This is Archie. He is a rare Norwegian Pouncin...                  NaN   \n",
       "3  This is Darla. She commenced a snooze mid meal...                  NaN   \n",
       "4  This is Franklin. He would like you to stop ca...                  NaN   \n",
       "\n",
       "   retweeted_status_user_id retweeted_status_timestamp  \\\n",
       "0                       NaN                        NaN   \n",
       "1                       NaN                        NaN   \n",
       "2                       NaN                        NaN   \n",
       "3                       NaN                        NaN   \n",
       "4                       NaN                        NaN   \n",
       "\n",
       "                                       expanded_urls  rating_numerator  \\\n",
       "0  https://twitter.com/dog_rates/status/892420643...                13   \n",
       "1  https://twitter.com/dog_rates/status/892177421...                13   \n",
       "2  https://twitter.com/dog_rates/status/891815181...                12   \n",
       "3  https://twitter.com/dog_rates/status/891689557...                13   \n",
       "4  https://twitter.com/dog_rates/status/891327558...                12   \n",
       "\n",
       "   rating_denominator      name doggo floofer pupper puppo  #VALUE!  \n",
       "0                  10   Phineas  None    None   None  None      NaN  \n",
       "1                  10     Tilly  None    None   None  None      NaN  \n",
       "2                  10    Archie  None    None   None  None      NaN  \n",
       "3                  10     Darla  None    None   None  None      NaN  \n",
       "4                  10  Franklin  None    None   None  None      NaN  "
      ]
     },
     "execution_count": 795,
     "metadata": {},
     "output_type": "execute_result"
    }
   ],
   "source": [
    "twitter_archive_df = pd.read_csv('twitter-archive-enhanced.csv')\n",
    "#reading twitter data \n",
    "\n",
    "#set tweet_id as the index\n",
    "set_index = twitter_archive_df.set_index('tweet_id')\n",
    "#twitter archive data stored in twitter_archive_df dataframe\n",
    "twitter_archive_df.head()"
   ]
  },
  {
   "cell_type": "markdown",
   "metadata": {},
   "source": [
    "#### Read file from URL https://d17h27t6h515a5.cloudfront.net/topher/2017/August/599fd2ad_image-predictions/image-predictions.tsv\n",
    "#### This file represnt what breed of dog (or other object, animal, etc.) is present in each tweet according to a neural network."
   ]
  },
  {
   "cell_type": "code",
   "execution_count": 796,
   "metadata": {},
   "outputs": [],
   "source": [
    "#image prediction file\n",
    "#image_predictions.tsv\n",
    "\n",
    "url = 'https://d17h27t6h515a5.cloudfront.net/topher/2017/August/599fd2ad_image-predictions/image-predictions.tsv'\n",
    "\n",
    "image_predict = requests.get(url, allow_redirects=True)\n",
    "\n",
    "with open(url.split('/')[-1], mode='wb') as file:\n",
    "    file.write(image_predict.content)\n",
    "#load image prediction file\n",
    "\n",
    "dog_images_df = pd.read_csv('image-predictions.tsv', sep='\\t')\n",
    "#image prediction data stored in dog_images_df dataframe"
   ]
  },
  {
   "cell_type": "code",
   "execution_count": 797,
   "metadata": {},
   "outputs": [],
   "source": [
    "#import tweepy library\n",
    "import tweepy\n",
    "#twitter api keys\n",
    "consumer_key = \"........................\"\n",
    "consumer_secret = \".....................\"\n",
    "access_token = \"........................\"\n",
    "access_token_secret = \"...........................\"\n",
    "#Create Authentication object\n",
    "auth = tweepy.OAuthHandler(consumer_key, consumer_secret)\n",
    "#Setting access token and secret\n",
    "auth.set_access_token(access_token, access_token_secret)\n",
    "#create API object \n",
    "api = tweepy.API(auth, wait_on_rate_limit=True, wait_on_rate_limit_notify=True)\n"
   ]
  },
  {
   "cell_type": "code",
   "execution_count": 798,
   "metadata": {},
   "outputs": [
    {
     "data": {
      "text/plain": [
       "2075"
      ]
     },
     "execution_count": 798,
     "metadata": {},
     "output_type": "execute_result"
    }
   ],
   "source": [
    "tweet_ids = dog_images_df.tweet_id.tolist()\n",
    "len(tweet_ids)"
   ]
  },
  {
   "cell_type": "code",
   "execution_count": 799,
   "metadata": {},
   "outputs": [
    {
     "name": "stderr",
     "output_type": "stream",
     "text": [
      "Rate limit reached. Sleeping for: 203\n",
      "Rate limit reached. Sleeping for: 264\n"
     ]
    }
   ],
   "source": [
    "count = 0\n",
    "tweets = []\n",
    "fails = []\n",
    "for tweet_id in tweet_ids:\n",
    "        count += 1\n",
    "        #print(str(count) + \": \" + str(tweet_id))\n",
    "        try:\n",
    "            #add tweets ids to tweets list\n",
    "            tweets.append(api.get_status(tweet_id, tweet_mode='extended'))\n",
    "            #print(\"Success\")\n",
    "        except tweepy.TweepError as e:\n",
    "            #add tweets ids to fails list\n",
    "            #print(\"Fail\")\n",
    "            fails.append(tweet_id)\n",
    "        except tweepy.RateLimitError as e:\n",
    "            #print('RateLimitError')\n",
    "            fails.append(tweet_id)\n",
    "        except:\n",
    "            #print('error')\n",
    "            fails.append(tweet_id)\n",
    "      "
   ]
  },
  {
   "cell_type": "code",
   "execution_count": 800,
   "metadata": {},
   "outputs": [
    {
     "data": {
      "text/plain": [
       "(2067, 8)"
      ]
     },
     "execution_count": 800,
     "metadata": {},
     "output_type": "execute_result"
    }
   ],
   "source": [
    "#the length of tweets and errors\n",
    "len(tweets), len(fails)  "
   ]
  },
  {
   "cell_type": "code",
   "execution_count": 801,
   "metadata": {},
   "outputs": [],
   "source": [
    "#add tweets to the json file \n",
    "json_data = []\n",
    "for jsonObject in tweets:\n",
    "    json_data.append(jsonObject._json)\n",
    "\n",
    "#write json data to text file \"tweet_data.txt\"     \n",
    "with open('tweet_data.txt', 'w') as outfile:\n",
    "    json.dump(json_data,outfile)\n",
    "    outfile.write('\\n')\n",
    "    "
   ]
  },
  {
   "cell_type": "code",
   "execution_count": 802,
   "metadata": {},
   "outputs": [],
   "source": [
    "#dataframe of twitter data\n",
    "twitter_feed_df = pd.read_json('tweet_data.txt')"
   ]
  },
  {
   "cell_type": "code",
   "execution_count": 803,
   "metadata": {},
   "outputs": [],
   "source": [
    "#convert to csv, and get (retweet_count, favorite_count,id, full_text)\n",
    "tweet_info_list = []\n",
    "with open('tweet_data.txt', 'r') as json_file:\n",
    "    dog_feed_dict = json.load(json_file)\n",
    "\n",
    "for dog_feed_df in dog_feed_dict:\n",
    "    _id = dog_feed_df['id']\n",
    "    text = dog_feed_df['full_text']\n",
    "    favorite_count = dog_feed_df['favorite_count']\n",
    "    retweet_count = dog_feed_df['retweet_count'] \n",
    "    \n",
    "    #add the twitter_feed_df columns to list\n",
    "    tweet_info_list.append({'tweet_id': str(_id),\n",
    "                    'text': text,\n",
    "                    'favorite_count': int(favorite_count),\n",
    "                    'retweet_count': int(retweet_count)})\n",
    "        \n",
    "    twitter_feed_df = pd.DataFrame(tweet_info_list, columns = ['tweet_id','text', 'favorite_count', 'retweet_count'])\n",
    "              "
   ]
  },
  {
   "cell_type": "code",
   "execution_count": 804,
   "metadata": {},
   "outputs": [
    {
     "data": {
      "text/html": [
       "<div>\n",
       "<style scoped>\n",
       "    .dataframe tbody tr th:only-of-type {\n",
       "        vertical-align: middle;\n",
       "    }\n",
       "\n",
       "    .dataframe tbody tr th {\n",
       "        vertical-align: top;\n",
       "    }\n",
       "\n",
       "    .dataframe thead th {\n",
       "        text-align: right;\n",
       "    }\n",
       "</style>\n",
       "<table border=\"1\" class=\"dataframe\">\n",
       "  <thead>\n",
       "    <tr style=\"text-align: right;\">\n",
       "      <th></th>\n",
       "      <th>tweet_id</th>\n",
       "      <th>text</th>\n",
       "      <th>favorite_count</th>\n",
       "      <th>retweet_count</th>\n",
       "    </tr>\n",
       "  </thead>\n",
       "  <tbody>\n",
       "    <tr>\n",
       "      <th>0</th>\n",
       "      <td>666020888022790149</td>\n",
       "      <td>Here we have a Japanese Irish Setter. Lost eye...</td>\n",
       "      <td>2529</td>\n",
       "      <td>498</td>\n",
       "    </tr>\n",
       "    <tr>\n",
       "      <th>1</th>\n",
       "      <td>666029285002620928</td>\n",
       "      <td>This is a western brown Mitsubishi terrier. Up...</td>\n",
       "      <td>125</td>\n",
       "      <td>46</td>\n",
       "    </tr>\n",
       "    <tr>\n",
       "      <th>2</th>\n",
       "      <td>666033412701032449</td>\n",
       "      <td>Here is a very happy pup. Big fan of well-main...</td>\n",
       "      <td>123</td>\n",
       "      <td>43</td>\n",
       "    </tr>\n",
       "    <tr>\n",
       "      <th>3</th>\n",
       "      <td>666044226329800704</td>\n",
       "      <td>This is a purebred Piers Morgan. Loves to Netf...</td>\n",
       "      <td>292</td>\n",
       "      <td>136</td>\n",
       "    </tr>\n",
       "    <tr>\n",
       "      <th>4</th>\n",
       "      <td>666049248165822465</td>\n",
       "      <td>Here we have a 1949 1st generation vulpix. Enj...</td>\n",
       "      <td>106</td>\n",
       "      <td>42</td>\n",
       "    </tr>\n",
       "  </tbody>\n",
       "</table>\n",
       "</div>"
      ],
      "text/plain": [
       "             tweet_id                                               text  \\\n",
       "0  666020888022790149  Here we have a Japanese Irish Setter. Lost eye...   \n",
       "1  666029285002620928  This is a western brown Mitsubishi terrier. Up...   \n",
       "2  666033412701032449  Here is a very happy pup. Big fan of well-main...   \n",
       "3  666044226329800704  This is a purebred Piers Morgan. Loves to Netf...   \n",
       "4  666049248165822465  Here we have a 1949 1st generation vulpix. Enj...   \n",
       "\n",
       "   favorite_count  retweet_count  \n",
       "0            2529            498  \n",
       "1             125             46  \n",
       "2             123             43  \n",
       "3             292            136  \n",
       "4             106             42  "
      ]
     },
     "execution_count": 804,
     "metadata": {},
     "output_type": "execute_result"
    }
   ],
   "source": [
    "#head of the dataframe\n",
    "twitter_feed_df.head()"
   ]
  },
  {
   "cell_type": "markdown",
   "metadata": {},
   "source": [
    "<a id='assess'></a>\n",
    "## Assessing data\n",
    "After gathering each of the above pieces of data, I assessed them visually and programmatically to gather quality and tidiness issues."
   ]
  },
  {
   "cell_type": "code",
   "execution_count": 805,
   "metadata": {},
   "outputs": [
    {
     "data": {
      "text/html": [
       "<div>\n",
       "<style scoped>\n",
       "    .dataframe tbody tr th:only-of-type {\n",
       "        vertical-align: middle;\n",
       "    }\n",
       "\n",
       "    .dataframe tbody tr th {\n",
       "        vertical-align: top;\n",
       "    }\n",
       "\n",
       "    .dataframe thead th {\n",
       "        text-align: right;\n",
       "    }\n",
       "</style>\n",
       "<table border=\"1\" class=\"dataframe\">\n",
       "  <thead>\n",
       "    <tr style=\"text-align: right;\">\n",
       "      <th></th>\n",
       "      <th>tweet_id</th>\n",
       "      <th>in_reply_to_status_id</th>\n",
       "      <th>in_reply_to_user_id</th>\n",
       "      <th>timestamp</th>\n",
       "      <th>source</th>\n",
       "      <th>text</th>\n",
       "      <th>retweeted_status_id</th>\n",
       "      <th>retweeted_status_user_id</th>\n",
       "      <th>retweeted_status_timestamp</th>\n",
       "      <th>expanded_urls</th>\n",
       "      <th>rating_numerator</th>\n",
       "      <th>rating_denominator</th>\n",
       "      <th>name</th>\n",
       "      <th>doggo</th>\n",
       "      <th>floofer</th>\n",
       "      <th>pupper</th>\n",
       "      <th>puppo</th>\n",
       "      <th>#VALUE!</th>\n",
       "    </tr>\n",
       "  </thead>\n",
       "  <tbody>\n",
       "    <tr>\n",
       "      <th>0</th>\n",
       "      <td>8.924210e+17</td>\n",
       "      <td>NaN</td>\n",
       "      <td>NaN</td>\n",
       "      <td>2017-08-01 16:23:56 +0000</td>\n",
       "      <td>&lt;a href=\"http://twitter.com/download/iphone\" r...</td>\n",
       "      <td>This is Phineas. He's a mystical boy. Only eve...</td>\n",
       "      <td>NaN</td>\n",
       "      <td>NaN</td>\n",
       "      <td>NaN</td>\n",
       "      <td>https://twitter.com/dog_rates/status/892420643...</td>\n",
       "      <td>13</td>\n",
       "      <td>10</td>\n",
       "      <td>Phineas</td>\n",
       "      <td>None</td>\n",
       "      <td>None</td>\n",
       "      <td>None</td>\n",
       "      <td>None</td>\n",
       "      <td>NaN</td>\n",
       "    </tr>\n",
       "    <tr>\n",
       "      <th>1</th>\n",
       "      <td>8.921770e+17</td>\n",
       "      <td>NaN</td>\n",
       "      <td>NaN</td>\n",
       "      <td>2017-08-01 00:17:27 +0000</td>\n",
       "      <td>&lt;a href=\"http://twitter.com/download/iphone\" r...</td>\n",
       "      <td>This is Tilly. She's just checking pup on you....</td>\n",
       "      <td>NaN</td>\n",
       "      <td>NaN</td>\n",
       "      <td>NaN</td>\n",
       "      <td>https://twitter.com/dog_rates/status/892177421...</td>\n",
       "      <td>13</td>\n",
       "      <td>10</td>\n",
       "      <td>Tilly</td>\n",
       "      <td>None</td>\n",
       "      <td>None</td>\n",
       "      <td>None</td>\n",
       "      <td>None</td>\n",
       "      <td>NaN</td>\n",
       "    </tr>\n",
       "    <tr>\n",
       "      <th>2</th>\n",
       "      <td>8.918150e+17</td>\n",
       "      <td>NaN</td>\n",
       "      <td>NaN</td>\n",
       "      <td>2017-07-31 00:18:03 +0000</td>\n",
       "      <td>&lt;a href=\"http://twitter.com/download/iphone\" r...</td>\n",
       "      <td>This is Archie. He is a rare Norwegian Pouncin...</td>\n",
       "      <td>NaN</td>\n",
       "      <td>NaN</td>\n",
       "      <td>NaN</td>\n",
       "      <td>https://twitter.com/dog_rates/status/891815181...</td>\n",
       "      <td>12</td>\n",
       "      <td>10</td>\n",
       "      <td>Archie</td>\n",
       "      <td>None</td>\n",
       "      <td>None</td>\n",
       "      <td>None</td>\n",
       "      <td>None</td>\n",
       "      <td>NaN</td>\n",
       "    </tr>\n",
       "    <tr>\n",
       "      <th>3</th>\n",
       "      <td>8.916900e+17</td>\n",
       "      <td>NaN</td>\n",
       "      <td>NaN</td>\n",
       "      <td>2017-07-30 15:58:51 +0000</td>\n",
       "      <td>&lt;a href=\"http://twitter.com/download/iphone\" r...</td>\n",
       "      <td>This is Darla. She commenced a snooze mid meal...</td>\n",
       "      <td>NaN</td>\n",
       "      <td>NaN</td>\n",
       "      <td>NaN</td>\n",
       "      <td>https://twitter.com/dog_rates/status/891689557...</td>\n",
       "      <td>13</td>\n",
       "      <td>10</td>\n",
       "      <td>Darla</td>\n",
       "      <td>None</td>\n",
       "      <td>None</td>\n",
       "      <td>None</td>\n",
       "      <td>None</td>\n",
       "      <td>NaN</td>\n",
       "    </tr>\n",
       "    <tr>\n",
       "      <th>4</th>\n",
       "      <td>8.913280e+17</td>\n",
       "      <td>NaN</td>\n",
       "      <td>NaN</td>\n",
       "      <td>2017-07-29 16:00:24 +0000</td>\n",
       "      <td>&lt;a href=\"http://twitter.com/download/iphone\" r...</td>\n",
       "      <td>This is Franklin. He would like you to stop ca...</td>\n",
       "      <td>NaN</td>\n",
       "      <td>NaN</td>\n",
       "      <td>NaN</td>\n",
       "      <td>https://twitter.com/dog_rates/status/891327558...</td>\n",
       "      <td>12</td>\n",
       "      <td>10</td>\n",
       "      <td>Franklin</td>\n",
       "      <td>None</td>\n",
       "      <td>None</td>\n",
       "      <td>None</td>\n",
       "      <td>None</td>\n",
       "      <td>NaN</td>\n",
       "    </tr>\n",
       "  </tbody>\n",
       "</table>\n",
       "</div>"
      ],
      "text/plain": [
       "       tweet_id  in_reply_to_status_id  in_reply_to_user_id  \\\n",
       "0  8.924210e+17                    NaN                  NaN   \n",
       "1  8.921770e+17                    NaN                  NaN   \n",
       "2  8.918150e+17                    NaN                  NaN   \n",
       "3  8.916900e+17                    NaN                  NaN   \n",
       "4  8.913280e+17                    NaN                  NaN   \n",
       "\n",
       "                   timestamp  \\\n",
       "0  2017-08-01 16:23:56 +0000   \n",
       "1  2017-08-01 00:17:27 +0000   \n",
       "2  2017-07-31 00:18:03 +0000   \n",
       "3  2017-07-30 15:58:51 +0000   \n",
       "4  2017-07-29 16:00:24 +0000   \n",
       "\n",
       "                                              source  \\\n",
       "0  <a href=\"http://twitter.com/download/iphone\" r...   \n",
       "1  <a href=\"http://twitter.com/download/iphone\" r...   \n",
       "2  <a href=\"http://twitter.com/download/iphone\" r...   \n",
       "3  <a href=\"http://twitter.com/download/iphone\" r...   \n",
       "4  <a href=\"http://twitter.com/download/iphone\" r...   \n",
       "\n",
       "                                                text  retweeted_status_id  \\\n",
       "0  This is Phineas. He's a mystical boy. Only eve...                  NaN   \n",
       "1  This is Tilly. She's just checking pup on you....                  NaN   \n",
       "2  This is Archie. He is a rare Norwegian Pouncin...                  NaN   \n",
       "3  This is Darla. She commenced a snooze mid meal...                  NaN   \n",
       "4  This is Franklin. He would like you to stop ca...                  NaN   \n",
       "\n",
       "   retweeted_status_user_id retweeted_status_timestamp  \\\n",
       "0                       NaN                        NaN   \n",
       "1                       NaN                        NaN   \n",
       "2                       NaN                        NaN   \n",
       "3                       NaN                        NaN   \n",
       "4                       NaN                        NaN   \n",
       "\n",
       "                                       expanded_urls  rating_numerator  \\\n",
       "0  https://twitter.com/dog_rates/status/892420643...                13   \n",
       "1  https://twitter.com/dog_rates/status/892177421...                13   \n",
       "2  https://twitter.com/dog_rates/status/891815181...                12   \n",
       "3  https://twitter.com/dog_rates/status/891689557...                13   \n",
       "4  https://twitter.com/dog_rates/status/891327558...                12   \n",
       "\n",
       "   rating_denominator      name doggo floofer pupper puppo  #VALUE!  \n",
       "0                  10   Phineas  None    None   None  None      NaN  \n",
       "1                  10     Tilly  None    None   None  None      NaN  \n",
       "2                  10    Archie  None    None   None  None      NaN  \n",
       "3                  10     Darla  None    None   None  None      NaN  \n",
       "4                  10  Franklin  None    None   None  None      NaN  "
      ]
     },
     "execution_count": 805,
     "metadata": {},
     "output_type": "execute_result"
    }
   ],
   "source": [
    "twitter_archive_df.head()"
   ]
  },
  {
   "cell_type": "code",
   "execution_count": 806,
   "metadata": {},
   "outputs": [
    {
     "data": {
      "text/html": [
       "<div>\n",
       "<style scoped>\n",
       "    .dataframe tbody tr th:only-of-type {\n",
       "        vertical-align: middle;\n",
       "    }\n",
       "\n",
       "    .dataframe tbody tr th {\n",
       "        vertical-align: top;\n",
       "    }\n",
       "\n",
       "    .dataframe thead th {\n",
       "        text-align: right;\n",
       "    }\n",
       "</style>\n",
       "<table border=\"1\" class=\"dataframe\">\n",
       "  <thead>\n",
       "    <tr style=\"text-align: right;\">\n",
       "      <th></th>\n",
       "      <th>tweet_id</th>\n",
       "      <th>in_reply_to_status_id</th>\n",
       "      <th>in_reply_to_user_id</th>\n",
       "      <th>timestamp</th>\n",
       "      <th>source</th>\n",
       "      <th>text</th>\n",
       "      <th>retweeted_status_id</th>\n",
       "      <th>retweeted_status_user_id</th>\n",
       "      <th>retweeted_status_timestamp</th>\n",
       "      <th>expanded_urls</th>\n",
       "      <th>rating_numerator</th>\n",
       "      <th>rating_denominator</th>\n",
       "      <th>name</th>\n",
       "      <th>doggo</th>\n",
       "      <th>floofer</th>\n",
       "      <th>pupper</th>\n",
       "      <th>puppo</th>\n",
       "      <th>#VALUE!</th>\n",
       "    </tr>\n",
       "  </thead>\n",
       "  <tbody>\n",
       "    <tr>\n",
       "      <th>2351</th>\n",
       "      <td>6.660490e+17</td>\n",
       "      <td>NaN</td>\n",
       "      <td>NaN</td>\n",
       "      <td>2015-11-16 00:24:50 +0000</td>\n",
       "      <td>&lt;a href=\"http://twitter.com/download/iphone\" r...</td>\n",
       "      <td>Here we have a 1949 1st generation vulpix. Enj...</td>\n",
       "      <td>NaN</td>\n",
       "      <td>NaN</td>\n",
       "      <td>NaN</td>\n",
       "      <td>https://twitter.com/dog_rates/status/666049248...</td>\n",
       "      <td>5</td>\n",
       "      <td>10</td>\n",
       "      <td>None</td>\n",
       "      <td>None</td>\n",
       "      <td>None</td>\n",
       "      <td>None</td>\n",
       "      <td>None</td>\n",
       "      <td>NaN</td>\n",
       "    </tr>\n",
       "    <tr>\n",
       "      <th>2352</th>\n",
       "      <td>6.660440e+17</td>\n",
       "      <td>NaN</td>\n",
       "      <td>NaN</td>\n",
       "      <td>2015-11-16 00:04:52 +0000</td>\n",
       "      <td>&lt;a href=\"http://twitter.com/download/iphone\" r...</td>\n",
       "      <td>This is a purebred Piers Morgan. Loves to Netf...</td>\n",
       "      <td>NaN</td>\n",
       "      <td>NaN</td>\n",
       "      <td>NaN</td>\n",
       "      <td>https://twitter.com/dog_rates/status/666044226...</td>\n",
       "      <td>6</td>\n",
       "      <td>10</td>\n",
       "      <td>a</td>\n",
       "      <td>None</td>\n",
       "      <td>None</td>\n",
       "      <td>None</td>\n",
       "      <td>None</td>\n",
       "      <td>NaN</td>\n",
       "    </tr>\n",
       "    <tr>\n",
       "      <th>2353</th>\n",
       "      <td>6.660330e+17</td>\n",
       "      <td>NaN</td>\n",
       "      <td>NaN</td>\n",
       "      <td>2015-11-15 23:21:54 +0000</td>\n",
       "      <td>&lt;a href=\"http://twitter.com/download/iphone\" r...</td>\n",
       "      <td>Here is a very happy pup. Big fan of well-main...</td>\n",
       "      <td>NaN</td>\n",
       "      <td>NaN</td>\n",
       "      <td>NaN</td>\n",
       "      <td>https://twitter.com/dog_rates/status/666033412...</td>\n",
       "      <td>9</td>\n",
       "      <td>10</td>\n",
       "      <td>a</td>\n",
       "      <td>None</td>\n",
       "      <td>None</td>\n",
       "      <td>None</td>\n",
       "      <td>None</td>\n",
       "      <td>NaN</td>\n",
       "    </tr>\n",
       "    <tr>\n",
       "      <th>2354</th>\n",
       "      <td>6.660290e+17</td>\n",
       "      <td>NaN</td>\n",
       "      <td>NaN</td>\n",
       "      <td>2015-11-15 23:05:30 +0000</td>\n",
       "      <td>&lt;a href=\"http://twitter.com/download/iphone\" r...</td>\n",
       "      <td>This is a western brown Mitsubishi terrier. Up...</td>\n",
       "      <td>NaN</td>\n",
       "      <td>NaN</td>\n",
       "      <td>NaN</td>\n",
       "      <td>https://twitter.com/dog_rates/status/666029285...</td>\n",
       "      <td>7</td>\n",
       "      <td>10</td>\n",
       "      <td>a</td>\n",
       "      <td>None</td>\n",
       "      <td>None</td>\n",
       "      <td>None</td>\n",
       "      <td>None</td>\n",
       "      <td>NaN</td>\n",
       "    </tr>\n",
       "    <tr>\n",
       "      <th>2355</th>\n",
       "      <td>6.660210e+17</td>\n",
       "      <td>NaN</td>\n",
       "      <td>NaN</td>\n",
       "      <td>2015-11-15 22:32:08 +0000</td>\n",
       "      <td>&lt;a href=\"http://twitter.com/download/iphone\" r...</td>\n",
       "      <td>Here we have a Japanese Irish Setter. Lost eye...</td>\n",
       "      <td>NaN</td>\n",
       "      <td>NaN</td>\n",
       "      <td>NaN</td>\n",
       "      <td>https://twitter.com/dog_rates/status/666020888...</td>\n",
       "      <td>8</td>\n",
       "      <td>10</td>\n",
       "      <td>None</td>\n",
       "      <td>None</td>\n",
       "      <td>None</td>\n",
       "      <td>None</td>\n",
       "      <td>None</td>\n",
       "      <td>NaN</td>\n",
       "    </tr>\n",
       "  </tbody>\n",
       "</table>\n",
       "</div>"
      ],
      "text/plain": [
       "          tweet_id  in_reply_to_status_id  in_reply_to_user_id  \\\n",
       "2351  6.660490e+17                    NaN                  NaN   \n",
       "2352  6.660440e+17                    NaN                  NaN   \n",
       "2353  6.660330e+17                    NaN                  NaN   \n",
       "2354  6.660290e+17                    NaN                  NaN   \n",
       "2355  6.660210e+17                    NaN                  NaN   \n",
       "\n",
       "                      timestamp  \\\n",
       "2351  2015-11-16 00:24:50 +0000   \n",
       "2352  2015-11-16 00:04:52 +0000   \n",
       "2353  2015-11-15 23:21:54 +0000   \n",
       "2354  2015-11-15 23:05:30 +0000   \n",
       "2355  2015-11-15 22:32:08 +0000   \n",
       "\n",
       "                                                 source  \\\n",
       "2351  <a href=\"http://twitter.com/download/iphone\" r...   \n",
       "2352  <a href=\"http://twitter.com/download/iphone\" r...   \n",
       "2353  <a href=\"http://twitter.com/download/iphone\" r...   \n",
       "2354  <a href=\"http://twitter.com/download/iphone\" r...   \n",
       "2355  <a href=\"http://twitter.com/download/iphone\" r...   \n",
       "\n",
       "                                                   text  retweeted_status_id  \\\n",
       "2351  Here we have a 1949 1st generation vulpix. Enj...                  NaN   \n",
       "2352  This is a purebred Piers Morgan. Loves to Netf...                  NaN   \n",
       "2353  Here is a very happy pup. Big fan of well-main...                  NaN   \n",
       "2354  This is a western brown Mitsubishi terrier. Up...                  NaN   \n",
       "2355  Here we have a Japanese Irish Setter. Lost eye...                  NaN   \n",
       "\n",
       "      retweeted_status_user_id retweeted_status_timestamp  \\\n",
       "2351                       NaN                        NaN   \n",
       "2352                       NaN                        NaN   \n",
       "2353                       NaN                        NaN   \n",
       "2354                       NaN                        NaN   \n",
       "2355                       NaN                        NaN   \n",
       "\n",
       "                                          expanded_urls  rating_numerator  \\\n",
       "2351  https://twitter.com/dog_rates/status/666049248...                 5   \n",
       "2352  https://twitter.com/dog_rates/status/666044226...                 6   \n",
       "2353  https://twitter.com/dog_rates/status/666033412...                 9   \n",
       "2354  https://twitter.com/dog_rates/status/666029285...                 7   \n",
       "2355  https://twitter.com/dog_rates/status/666020888...                 8   \n",
       "\n",
       "      rating_denominator  name doggo floofer pupper puppo  #VALUE!  \n",
       "2351                  10  None  None    None   None  None      NaN  \n",
       "2352                  10     a  None    None   None  None      NaN  \n",
       "2353                  10     a  None    None   None  None      NaN  \n",
       "2354                  10     a  None    None   None  None      NaN  \n",
       "2355                  10  None  None    None   None  None      NaN  "
      ]
     },
     "execution_count": 806,
     "metadata": {},
     "output_type": "execute_result"
    }
   ],
   "source": [
    "twitter_archive_df.tail()"
   ]
  },
  {
   "cell_type": "code",
   "execution_count": 807,
   "metadata": {},
   "outputs": [
    {
     "data": {
      "text/html": [
       "<div>\n",
       "<style scoped>\n",
       "    .dataframe tbody tr th:only-of-type {\n",
       "        vertical-align: middle;\n",
       "    }\n",
       "\n",
       "    .dataframe tbody tr th {\n",
       "        vertical-align: top;\n",
       "    }\n",
       "\n",
       "    .dataframe thead th {\n",
       "        text-align: right;\n",
       "    }\n",
       "</style>\n",
       "<table border=\"1\" class=\"dataframe\">\n",
       "  <thead>\n",
       "    <tr style=\"text-align: right;\">\n",
       "      <th></th>\n",
       "      <th>tweet_id</th>\n",
       "      <th>in_reply_to_status_id</th>\n",
       "      <th>in_reply_to_user_id</th>\n",
       "      <th>retweeted_status_id</th>\n",
       "      <th>retweeted_status_user_id</th>\n",
       "      <th>rating_numerator</th>\n",
       "      <th>rating_denominator</th>\n",
       "      <th>#VALUE!</th>\n",
       "    </tr>\n",
       "  </thead>\n",
       "  <tbody>\n",
       "    <tr>\n",
       "      <th>count</th>\n",
       "      <td>2.356000e+03</td>\n",
       "      <td>7.800000e+01</td>\n",
       "      <td>7.800000e+01</td>\n",
       "      <td>1.810000e+02</td>\n",
       "      <td>1.810000e+02</td>\n",
       "      <td>2356.000000</td>\n",
       "      <td>2356.000000</td>\n",
       "      <td>0.0</td>\n",
       "    </tr>\n",
       "    <tr>\n",
       "      <th>mean</th>\n",
       "      <td>7.427716e+17</td>\n",
       "      <td>7.455128e+17</td>\n",
       "      <td>2.015385e+16</td>\n",
       "      <td>7.720221e+17</td>\n",
       "      <td>1.241437e+16</td>\n",
       "      <td>13.126486</td>\n",
       "      <td>10.455433</td>\n",
       "      <td>NaN</td>\n",
       "    </tr>\n",
       "    <tr>\n",
       "      <th>std</th>\n",
       "      <td>6.856706e+16</td>\n",
       "      <td>7.583419e+16</td>\n",
       "      <td>1.253546e+17</td>\n",
       "      <td>6.236131e+16</td>\n",
       "      <td>9.597227e+16</td>\n",
       "      <td>45.876648</td>\n",
       "      <td>6.745237</td>\n",
       "      <td>NaN</td>\n",
       "    </tr>\n",
       "    <tr>\n",
       "      <th>min</th>\n",
       "      <td>6.660210e+17</td>\n",
       "      <td>6.660000e+17</td>\n",
       "      <td>1.185634e+07</td>\n",
       "      <td>6.660000e+17</td>\n",
       "      <td>7.832140e+05</td>\n",
       "      <td>0.000000</td>\n",
       "      <td>0.000000</td>\n",
       "      <td>NaN</td>\n",
       "    </tr>\n",
       "    <tr>\n",
       "      <th>25%</th>\n",
       "      <td>6.783992e+17</td>\n",
       "      <td>6.760000e+17</td>\n",
       "      <td>3.086374e+08</td>\n",
       "      <td>7.190000e+17</td>\n",
       "      <td>4.196984e+09</td>\n",
       "      <td>10.000000</td>\n",
       "      <td>10.000000</td>\n",
       "      <td>NaN</td>\n",
       "    </tr>\n",
       "    <tr>\n",
       "      <th>50%</th>\n",
       "      <td>7.196275e+17</td>\n",
       "      <td>7.035000e+17</td>\n",
       "      <td>4.196984e+09</td>\n",
       "      <td>7.800000e+17</td>\n",
       "      <td>4.196984e+09</td>\n",
       "      <td>11.000000</td>\n",
       "      <td>10.000000</td>\n",
       "      <td>NaN</td>\n",
       "    </tr>\n",
       "    <tr>\n",
       "      <th>75%</th>\n",
       "      <td>7.993375e+17</td>\n",
       "      <td>8.260000e+17</td>\n",
       "      <td>4.196984e+09</td>\n",
       "      <td>8.200000e+17</td>\n",
       "      <td>4.196984e+09</td>\n",
       "      <td>12.000000</td>\n",
       "      <td>10.000000</td>\n",
       "      <td>NaN</td>\n",
       "    </tr>\n",
       "    <tr>\n",
       "      <th>max</th>\n",
       "      <td>8.924210e+17</td>\n",
       "      <td>8.860000e+17</td>\n",
       "      <td>8.410000e+17</td>\n",
       "      <td>8.870000e+17</td>\n",
       "      <td>7.870000e+17</td>\n",
       "      <td>1776.000000</td>\n",
       "      <td>170.000000</td>\n",
       "      <td>NaN</td>\n",
       "    </tr>\n",
       "  </tbody>\n",
       "</table>\n",
       "</div>"
      ],
      "text/plain": [
       "           tweet_id  in_reply_to_status_id  in_reply_to_user_id  \\\n",
       "count  2.356000e+03           7.800000e+01         7.800000e+01   \n",
       "mean   7.427716e+17           7.455128e+17         2.015385e+16   \n",
       "std    6.856706e+16           7.583419e+16         1.253546e+17   \n",
       "min    6.660210e+17           6.660000e+17         1.185634e+07   \n",
       "25%    6.783992e+17           6.760000e+17         3.086374e+08   \n",
       "50%    7.196275e+17           7.035000e+17         4.196984e+09   \n",
       "75%    7.993375e+17           8.260000e+17         4.196984e+09   \n",
       "max    8.924210e+17           8.860000e+17         8.410000e+17   \n",
       "\n",
       "       retweeted_status_id  retweeted_status_user_id  rating_numerator  \\\n",
       "count         1.810000e+02              1.810000e+02       2356.000000   \n",
       "mean          7.720221e+17              1.241437e+16         13.126486   \n",
       "std           6.236131e+16              9.597227e+16         45.876648   \n",
       "min           6.660000e+17              7.832140e+05          0.000000   \n",
       "25%           7.190000e+17              4.196984e+09         10.000000   \n",
       "50%           7.800000e+17              4.196984e+09         11.000000   \n",
       "75%           8.200000e+17              4.196984e+09         12.000000   \n",
       "max           8.870000e+17              7.870000e+17       1776.000000   \n",
       "\n",
       "       rating_denominator  #VALUE!  \n",
       "count         2356.000000      0.0  \n",
       "mean            10.455433      NaN  \n",
       "std              6.745237      NaN  \n",
       "min              0.000000      NaN  \n",
       "25%             10.000000      NaN  \n",
       "50%             10.000000      NaN  \n",
       "75%             10.000000      NaN  \n",
       "max            170.000000      NaN  "
      ]
     },
     "execution_count": 807,
     "metadata": {},
     "output_type": "execute_result"
    }
   ],
   "source": [
    "twitter_archive_df.describe()"
   ]
  },
  {
   "cell_type": "code",
   "execution_count": 808,
   "metadata": {},
   "outputs": [
    {
     "data": {
      "text/html": [
       "<div>\n",
       "<style scoped>\n",
       "    .dataframe tbody tr th:only-of-type {\n",
       "        vertical-align: middle;\n",
       "    }\n",
       "\n",
       "    .dataframe tbody tr th {\n",
       "        vertical-align: top;\n",
       "    }\n",
       "\n",
       "    .dataframe thead th {\n",
       "        text-align: right;\n",
       "    }\n",
       "</style>\n",
       "<table border=\"1\" class=\"dataframe\">\n",
       "  <thead>\n",
       "    <tr style=\"text-align: right;\">\n",
       "      <th></th>\n",
       "      <th>tweet_id</th>\n",
       "      <th>in_reply_to_status_id</th>\n",
       "      <th>in_reply_to_user_id</th>\n",
       "      <th>timestamp</th>\n",
       "      <th>source</th>\n",
       "      <th>text</th>\n",
       "      <th>retweeted_status_id</th>\n",
       "      <th>retweeted_status_user_id</th>\n",
       "      <th>retweeted_status_timestamp</th>\n",
       "      <th>expanded_urls</th>\n",
       "      <th>rating_numerator</th>\n",
       "      <th>rating_denominator</th>\n",
       "      <th>name</th>\n",
       "      <th>doggo</th>\n",
       "      <th>floofer</th>\n",
       "      <th>pupper</th>\n",
       "      <th>puppo</th>\n",
       "      <th>#VALUE!</th>\n",
       "    </tr>\n",
       "  </thead>\n",
       "  <tbody>\n",
       "    <tr>\n",
       "      <th>1703</th>\n",
       "      <td>6.809130e+17</td>\n",
       "      <td>NaN</td>\n",
       "      <td>NaN</td>\n",
       "      <td>2015-12-27 00:49:49 +0000</td>\n",
       "      <td>&lt;a href=\"http://twitter.com/download/iphone\" r...</td>\n",
       "      <td>Meet Griswold. He's dapper as hell. Already pu...</td>\n",
       "      <td>NaN</td>\n",
       "      <td>NaN</td>\n",
       "      <td>NaN</td>\n",
       "      <td>https://twitter.com/dog_rates/status/680913438...</td>\n",
       "      <td>11</td>\n",
       "      <td>10</td>\n",
       "      <td>Griswold</td>\n",
       "      <td>None</td>\n",
       "      <td>None</td>\n",
       "      <td>None</td>\n",
       "      <td>None</td>\n",
       "      <td>NaN</td>\n",
       "    </tr>\n",
       "    <tr>\n",
       "      <th>320</th>\n",
       "      <td>8.344580e+17</td>\n",
       "      <td>NaN</td>\n",
       "      <td>NaN</td>\n",
       "      <td>2017-02-22 17:41:18 +0000</td>\n",
       "      <td>&lt;a href=\"http://twitter.com/download/iphone\" r...</td>\n",
       "      <td>Meet Chester (bottom) &amp;amp; Harold (top). They...</td>\n",
       "      <td>NaN</td>\n",
       "      <td>NaN</td>\n",
       "      <td>NaN</td>\n",
       "      <td>https://twitter.com/dog_rates/status/834458053...</td>\n",
       "      <td>12</td>\n",
       "      <td>10</td>\n",
       "      <td>Chester</td>\n",
       "      <td>None</td>\n",
       "      <td>None</td>\n",
       "      <td>None</td>\n",
       "      <td>None</td>\n",
       "      <td>NaN</td>\n",
       "    </tr>\n",
       "    <tr>\n",
       "      <th>1080</th>\n",
       "      <td>7.388910e+17</td>\n",
       "      <td>7.380000e+17</td>\n",
       "      <td>358972768.0</td>\n",
       "      <td>2016-06-04 00:32:32 +0000</td>\n",
       "      <td>&lt;a href=\"http://twitter.com/download/iphone\" r...</td>\n",
       "      <td>@mount_alex3 13/10</td>\n",
       "      <td>NaN</td>\n",
       "      <td>NaN</td>\n",
       "      <td>NaN</td>\n",
       "      <td>NaN</td>\n",
       "      <td>13</td>\n",
       "      <td>10</td>\n",
       "      <td>None</td>\n",
       "      <td>None</td>\n",
       "      <td>None</td>\n",
       "      <td>None</td>\n",
       "      <td>None</td>\n",
       "      <td>NaN</td>\n",
       "    </tr>\n",
       "    <tr>\n",
       "      <th>2116</th>\n",
       "      <td>6.704270e+17</td>\n",
       "      <td>NaN</td>\n",
       "      <td>NaN</td>\n",
       "      <td>2015-11-28 02:20:27 +0000</td>\n",
       "      <td>&lt;a href=\"http://twitter.com/download/iphone\" r...</td>\n",
       "      <td>This is a Deciduous Trimester mix named Spork....</td>\n",
       "      <td>NaN</td>\n",
       "      <td>NaN</td>\n",
       "      <td>NaN</td>\n",
       "      <td>https://twitter.com/dog_rates/status/670427002...</td>\n",
       "      <td>9</td>\n",
       "      <td>10</td>\n",
       "      <td>a</td>\n",
       "      <td>None</td>\n",
       "      <td>None</td>\n",
       "      <td>None</td>\n",
       "      <td>None</td>\n",
       "      <td>NaN</td>\n",
       "    </tr>\n",
       "  </tbody>\n",
       "</table>\n",
       "</div>"
      ],
      "text/plain": [
       "          tweet_id  in_reply_to_status_id  in_reply_to_user_id  \\\n",
       "1703  6.809130e+17                    NaN                  NaN   \n",
       "320   8.344580e+17                    NaN                  NaN   \n",
       "1080  7.388910e+17           7.380000e+17          358972768.0   \n",
       "2116  6.704270e+17                    NaN                  NaN   \n",
       "\n",
       "                      timestamp  \\\n",
       "1703  2015-12-27 00:49:49 +0000   \n",
       "320   2017-02-22 17:41:18 +0000   \n",
       "1080  2016-06-04 00:32:32 +0000   \n",
       "2116  2015-11-28 02:20:27 +0000   \n",
       "\n",
       "                                                 source  \\\n",
       "1703  <a href=\"http://twitter.com/download/iphone\" r...   \n",
       "320   <a href=\"http://twitter.com/download/iphone\" r...   \n",
       "1080  <a href=\"http://twitter.com/download/iphone\" r...   \n",
       "2116  <a href=\"http://twitter.com/download/iphone\" r...   \n",
       "\n",
       "                                                   text  retweeted_status_id  \\\n",
       "1703  Meet Griswold. He's dapper as hell. Already pu...                  NaN   \n",
       "320   Meet Chester (bottom) &amp; Harold (top). They...                  NaN   \n",
       "1080                                 @mount_alex3 13/10                  NaN   \n",
       "2116  This is a Deciduous Trimester mix named Spork....                  NaN   \n",
       "\n",
       "      retweeted_status_user_id retweeted_status_timestamp  \\\n",
       "1703                       NaN                        NaN   \n",
       "320                        NaN                        NaN   \n",
       "1080                       NaN                        NaN   \n",
       "2116                       NaN                        NaN   \n",
       "\n",
       "                                          expanded_urls  rating_numerator  \\\n",
       "1703  https://twitter.com/dog_rates/status/680913438...                11   \n",
       "320   https://twitter.com/dog_rates/status/834458053...                12   \n",
       "1080                                                NaN                13   \n",
       "2116  https://twitter.com/dog_rates/status/670427002...                 9   \n",
       "\n",
       "      rating_denominator      name doggo floofer pupper puppo  #VALUE!  \n",
       "1703                  10  Griswold  None    None   None  None      NaN  \n",
       "320                   10   Chester  None    None   None  None      NaN  \n",
       "1080                  10      None  None    None   None  None      NaN  \n",
       "2116                  10         a  None    None   None  None      NaN  "
      ]
     },
     "execution_count": 808,
     "metadata": {},
     "output_type": "execute_result"
    }
   ],
   "source": [
    "twitter_archive_df.sample(4)"
   ]
  },
  {
   "cell_type": "code",
   "execution_count": 809,
   "metadata": {},
   "outputs": [
    {
     "data": {
      "text/plain": [
       "(2356, 18)"
      ]
     },
     "execution_count": 809,
     "metadata": {},
     "output_type": "execute_result"
    }
   ],
   "source": [
    "twitter_archive_df.shape\n",
    "#17 columns and 2356 rows"
   ]
  },
  {
   "cell_type": "code",
   "execution_count": 810,
   "metadata": {},
   "outputs": [
    {
     "name": "stdout",
     "output_type": "stream",
     "text": [
      "<class 'pandas.core.frame.DataFrame'>\n",
      "RangeIndex: 2356 entries, 0 to 2355\n",
      "Data columns (total 18 columns):\n",
      "tweet_id                      2356 non-null float64\n",
      "in_reply_to_status_id         78 non-null float64\n",
      "in_reply_to_user_id           78 non-null float64\n",
      "timestamp                     2356 non-null object\n",
      "source                        2356 non-null object\n",
      "text                          2356 non-null object\n",
      "retweeted_status_id           181 non-null float64\n",
      "retweeted_status_user_id      181 non-null float64\n",
      "retweeted_status_timestamp    181 non-null object\n",
      "expanded_urls                 2297 non-null object\n",
      "rating_numerator              2356 non-null int64\n",
      "rating_denominator            2356 non-null int64\n",
      "name                          2356 non-null object\n",
      "doggo                         2356 non-null object\n",
      "floofer                       2356 non-null object\n",
      "pupper                        2356 non-null object\n",
      "puppo                         2356 non-null object\n",
      "#VALUE!                       0 non-null float64\n",
      "dtypes: float64(6), int64(2), object(10)\n",
      "memory usage: 331.4+ KB\n"
     ]
    }
   ],
   "source": [
    "twitter_archive_df.info()\n",
    "#there are missing data in retweeted_status_id, retweeted_status_user_id, retweeted_status_timestamp, \n",
    "#in_reply_to_status_id, and in_reply_to_user_id columns"
   ]
  },
  {
   "cell_type": "code",
   "execution_count": 811,
   "metadata": {},
   "outputs": [
    {
     "data": {
      "text/plain": [
       "6.757070e+17    2\n",
       "8.322160e+17    2\n",
       "6.737160e+17    2\n",
       "6.747430e+17    2\n",
       "6.751470e+17    2\n",
       "6.675510e+17    2\n",
       "8.190150e+17    2\n",
       "7.276860e+17    1\n",
       "8.347860e+17    1\n",
       "8.703090e+17    1\n",
       "7.602530e+17    1\n",
       "6.671920e+17    1\n",
       "7.949840e+17    1\n",
       "6.895170e+17    1\n",
       "6.709960e+17    1\n",
       "6.722640e+17    1\n",
       "7.663130e+17    1\n",
       "7.490750e+17    1\n",
       "8.047390e+17    1\n",
       "6.801910e+17    1\n",
       "8.344780e+17    1\n",
       "8.218140e+17    1\n",
       "7.943320e+17    1\n",
       "8.732140e+17    1\n",
       "7.478440e+17    1\n",
       "7.761130e+17    1\n",
       "7.087380e+17    1\n",
       "6.757980e+17    1\n",
       "8.250270e+17    1\n",
       "6.997890e+17    1\n",
       "               ..\n",
       "8.382020e+17    1\n",
       "6.849020e+17    1\n",
       "6.775480e+17    1\n",
       "8.085020e+17    1\n",
       "8.186460e+17    1\n",
       "7.008480e+17    1\n",
       "6.742710e+17    1\n",
       "7.910260e+17    1\n",
       "8.896650e+17    1\n",
       "6.892750e+17    1\n",
       "6.895580e+17    1\n",
       "7.167300e+17    1\n",
       "6.985500e+17    1\n",
       "7.840580e+17    1\n",
       "8.363980e+17    1\n",
       "8.902400e+17    1\n",
       "7.050660e+17    1\n",
       "8.863660e+17    1\n",
       "7.783830e+17    1\n",
       "8.918150e+17    1\n",
       "6.729950e+17    1\n",
       "8.892790e+17    1\n",
       "8.874740e+17    1\n",
       "7.825990e+17    1\n",
       "8.109850e+17    1\n",
       "7.519500e+17    1\n",
       "7.193680e+17    1\n",
       "6.689920e+17    1\n",
       "8.889170e+17    1\n",
       "7.787650e+17    1\n",
       "Name: tweet_id, Length: 2349, dtype: int64"
      ]
     },
     "execution_count": 811,
     "metadata": {},
     "output_type": "execute_result"
    }
   ],
   "source": [
    "twitter_archive_df['tweet_id'].value_counts()\n",
    "\n",
    "# the timestamp and retweeted_status_timestamp datatype are object need to change it to datetime ==> Quality"
   ]
  },
  {
   "cell_type": "code",
   "execution_count": 812,
   "metadata": {},
   "outputs": [
    {
     "data": {
      "text/plain": [
       "7"
      ]
     },
     "execution_count": 812,
     "metadata": {},
     "output_type": "execute_result"
    }
   ],
   "source": [
    "sum(twitter_archive_df['tweet_id'].duplicated())\n",
    "#remove duplicated "
   ]
  },
  {
   "cell_type": "code",
   "execution_count": 813,
   "metadata": {},
   "outputs": [
    {
     "data": {
      "text/plain": [
       "10     2333\n",
       "11        3\n",
       "50        3\n",
       "80        2\n",
       "20        2\n",
       "2         1\n",
       "16        1\n",
       "40        1\n",
       "70        1\n",
       "15        1\n",
       "90        1\n",
       "110       1\n",
       "120       1\n",
       "130       1\n",
       "150       1\n",
       "170       1\n",
       "7         1\n",
       "0         1\n",
       "Name: rating_denominator, dtype: int64"
      ]
     },
     "execution_count": 813,
     "metadata": {},
     "output_type": "execute_result"
    }
   ],
   "source": [
    "twitter_archive_df['rating_denominator'].value_counts()\n",
    "#remove 11,50,80,20,2,16,40,70,15,90,110,120, 130,150,7,0 \n",
    "#the rating numerators are greater than the denominators does not need to be cleaned"
   ]
  },
  {
   "cell_type": "code",
   "execution_count": 815,
   "metadata": {},
   "outputs": [
    {
     "data": {
      "text/plain": [
       "12      558\n",
       "11      464\n",
       "10      461\n",
       "13      351\n",
       "9       158\n",
       "8       102\n",
       "7        55\n",
       "14       54\n",
       "5        37\n",
       "6        32\n",
       "3        19\n",
       "4        17\n",
       "1         9\n",
       "2         9\n",
       "420       2\n",
       "0         2\n",
       "15        2\n",
       "75        2\n",
       "80        1\n",
       "20        1\n",
       "24        1\n",
       "26        1\n",
       "44        1\n",
       "50        1\n",
       "60        1\n",
       "165       1\n",
       "84        1\n",
       "88        1\n",
       "144       1\n",
       "182       1\n",
       "143       1\n",
       "666       1\n",
       "960       1\n",
       "1776      1\n",
       "17        1\n",
       "27        1\n",
       "45        1\n",
       "99        1\n",
       "121       1\n",
       "204       1\n",
       "Name: rating_numerator, dtype: int64"
      ]
     },
     "execution_count": 815,
     "metadata": {},
     "output_type": "execute_result"
    }
   ],
   "source": [
    "twitter_archive_df['rating_numerator'].value_counts()\n",
    "# remove all numerator >14\n"
   ]
  },
  {
   "cell_type": "code",
   "execution_count": 816,
   "metadata": {},
   "outputs": [
    {
     "data": {
      "text/plain": [
       "None     2259\n",
       "doggo      97\n",
       "Name: doggo, dtype: int64"
      ]
     },
     "execution_count": 816,
     "metadata": {},
     "output_type": "execute_result"
    }
   ],
   "source": [
    "twitter_archive_df['doggo'].value_counts()"
   ]
  },
  {
   "cell_type": "code",
   "execution_count": 817,
   "metadata": {},
   "outputs": [
    {
     "data": {
      "text/plain": [
       "None       2346\n",
       "floofer      10\n",
       "Name: floofer, dtype: int64"
      ]
     },
     "execution_count": 817,
     "metadata": {},
     "output_type": "execute_result"
    }
   ],
   "source": [
    "twitter_archive_df['floofer'].value_counts()"
   ]
  },
  {
   "cell_type": "code",
   "execution_count": 818,
   "metadata": {},
   "outputs": [
    {
     "data": {
      "text/plain": [
       "None      2099\n",
       "pupper     257\n",
       "Name: pupper, dtype: int64"
      ]
     },
     "execution_count": 818,
     "metadata": {},
     "output_type": "execute_result"
    }
   ],
   "source": [
    "twitter_archive_df['pupper'].value_counts()"
   ]
  },
  {
   "cell_type": "code",
   "execution_count": 819,
   "metadata": {},
   "outputs": [
    {
     "data": {
      "text/plain": [
       "None     2326\n",
       "puppo      30\n",
       "Name: puppo, dtype: int64"
      ]
     },
     "execution_count": 819,
     "metadata": {},
     "output_type": "execute_result"
    }
   ],
   "source": [
    "twitter_archive_df['puppo'].value_counts()"
   ]
  },
  {
   "cell_type": "code",
   "execution_count": 820,
   "metadata": {},
   "outputs": [
    {
     "data": {
      "text/plain": [
       "None           745\n",
       "a               55\n",
       "Charlie         12\n",
       "Lucy            11\n",
       "Oliver          11\n",
       "Cooper          11\n",
       "Lola            10\n",
       "Penny           10\n",
       "Tucker          10\n",
       "Winston          9\n",
       "Bo               9\n",
       "the              8\n",
       "Sadie            8\n",
       "an               7\n",
       "Daisy            7\n",
       "Buddy            7\n",
       "Bailey           7\n",
       "Toby             7\n",
       "Oscar            6\n",
       "Koda             6\n",
       "Jack             6\n",
       "Bella            6\n",
       "Scout            6\n",
       "Stanley          6\n",
       "Jax              6\n",
       "Rusty            6\n",
       "Dave             6\n",
       "Leo              6\n",
       "Milo             6\n",
       "Alfie            5\n",
       "              ... \n",
       "Brat             1\n",
       "Heinrich         1\n",
       "Mitch            1\n",
       "Barry            1\n",
       "Bobb             1\n",
       "Cilantro         1\n",
       "Jareld           1\n",
       "Arlo             1\n",
       "Farfle           1\n",
       "Bobby            1\n",
       "Storkson         1\n",
       "Burt             1\n",
       "Glenn            1\n",
       "Einstein         1\n",
       "William          1\n",
       "Cedrick          1\n",
       "Kramer           1\n",
       "Edgar            1\n",
       "Leonidas         1\n",
       "Blakely          1\n",
       "Ozzie            1\n",
       "Taco             1\n",
       "Banjo            1\n",
       "Mojo             1\n",
       "infuriating      1\n",
       "Mingus           1\n",
       "Chloe            1\n",
       "Pete             1\n",
       "Barney           1\n",
       "Aja              1\n",
       "Name: name, Length: 957, dtype: int64"
      ]
     },
     "execution_count": 820,
     "metadata": {},
     "output_type": "execute_result"
    }
   ],
   "source": [
    "twitter_archive_df['name'].value_counts()"
   ]
  },
  {
   "cell_type": "code",
   "execution_count": 821,
   "metadata": {},
   "outputs": [
    {
     "data": {
      "text/plain": [
       "891     This is Emma. She can't believe her last guess...\n",
       "2180    Meet Terrance. He's being yelled at because he...\n",
       "3       This is Darla. She commenced a snooze mid meal...\n",
       "1434    This is Bentley. He got stuck on his 3rd homew...\n",
       "835     Meet Gerald. He's a fairly exotic doggo. Floof...\n",
       "1948    This is Pickles. She's a tiny pointy pupper. A...\n",
       "1853    This is a Sizzlin Menorah spaniel from Brookly...\n",
       "2257    Meet Olive. He comes to spot by tree to remini...\n",
       "341     RT @dog_rates: This is Moreton. He's the Good ...\n",
       "1466    It's okay pup. This happens every time I liste...\n",
       "Name: text, dtype: object"
      ]
     },
     "execution_count": 821,
     "metadata": {},
     "output_type": "execute_result"
    }
   ],
   "source": [
    "twitter_archive_df['text'].sample(10)"
   ]
  },
  {
   "cell_type": "code",
   "execution_count": 822,
   "metadata": {},
   "outputs": [
    {
     "data": {
      "text/html": [
       "<div>\n",
       "<style scoped>\n",
       "    .dataframe tbody tr th:only-of-type {\n",
       "        vertical-align: middle;\n",
       "    }\n",
       "\n",
       "    .dataframe tbody tr th {\n",
       "        vertical-align: top;\n",
       "    }\n",
       "\n",
       "    .dataframe thead th {\n",
       "        text-align: right;\n",
       "    }\n",
       "</style>\n",
       "<table border=\"1\" class=\"dataframe\">\n",
       "  <thead>\n",
       "    <tr style=\"text-align: right;\">\n",
       "      <th></th>\n",
       "      <th>tweet_id</th>\n",
       "      <th>jpg_url</th>\n",
       "      <th>img_num</th>\n",
       "      <th>p1</th>\n",
       "      <th>p1_conf</th>\n",
       "      <th>p1_dog</th>\n",
       "      <th>p2</th>\n",
       "      <th>p2_conf</th>\n",
       "      <th>p2_dog</th>\n",
       "      <th>p3</th>\n",
       "      <th>p3_conf</th>\n",
       "      <th>p3_dog</th>\n",
       "    </tr>\n",
       "  </thead>\n",
       "  <tbody>\n",
       "    <tr>\n",
       "      <th>0</th>\n",
       "      <td>666020888022790149</td>\n",
       "      <td>https://pbs.twimg.com/media/CT4udn0WwAA0aMy.jpg</td>\n",
       "      <td>1</td>\n",
       "      <td>Welsh_springer_spaniel</td>\n",
       "      <td>0.465074</td>\n",
       "      <td>True</td>\n",
       "      <td>collie</td>\n",
       "      <td>0.156665</td>\n",
       "      <td>True</td>\n",
       "      <td>Shetland_sheepdog</td>\n",
       "      <td>0.061428</td>\n",
       "      <td>True</td>\n",
       "    </tr>\n",
       "    <tr>\n",
       "      <th>1</th>\n",
       "      <td>666029285002620928</td>\n",
       "      <td>https://pbs.twimg.com/media/CT42GRgUYAA5iDo.jpg</td>\n",
       "      <td>1</td>\n",
       "      <td>redbone</td>\n",
       "      <td>0.506826</td>\n",
       "      <td>True</td>\n",
       "      <td>miniature_pinscher</td>\n",
       "      <td>0.074192</td>\n",
       "      <td>True</td>\n",
       "      <td>Rhodesian_ridgeback</td>\n",
       "      <td>0.072010</td>\n",
       "      <td>True</td>\n",
       "    </tr>\n",
       "    <tr>\n",
       "      <th>2</th>\n",
       "      <td>666033412701032449</td>\n",
       "      <td>https://pbs.twimg.com/media/CT4521TWwAEvMyu.jpg</td>\n",
       "      <td>1</td>\n",
       "      <td>German_shepherd</td>\n",
       "      <td>0.596461</td>\n",
       "      <td>True</td>\n",
       "      <td>malinois</td>\n",
       "      <td>0.138584</td>\n",
       "      <td>True</td>\n",
       "      <td>bloodhound</td>\n",
       "      <td>0.116197</td>\n",
       "      <td>True</td>\n",
       "    </tr>\n",
       "    <tr>\n",
       "      <th>3</th>\n",
       "      <td>666044226329800704</td>\n",
       "      <td>https://pbs.twimg.com/media/CT5Dr8HUEAA-lEu.jpg</td>\n",
       "      <td>1</td>\n",
       "      <td>Rhodesian_ridgeback</td>\n",
       "      <td>0.408143</td>\n",
       "      <td>True</td>\n",
       "      <td>redbone</td>\n",
       "      <td>0.360687</td>\n",
       "      <td>True</td>\n",
       "      <td>miniature_pinscher</td>\n",
       "      <td>0.222752</td>\n",
       "      <td>True</td>\n",
       "    </tr>\n",
       "    <tr>\n",
       "      <th>4</th>\n",
       "      <td>666049248165822465</td>\n",
       "      <td>https://pbs.twimg.com/media/CT5IQmsXIAAKY4A.jpg</td>\n",
       "      <td>1</td>\n",
       "      <td>miniature_pinscher</td>\n",
       "      <td>0.560311</td>\n",
       "      <td>True</td>\n",
       "      <td>Rottweiler</td>\n",
       "      <td>0.243682</td>\n",
       "      <td>True</td>\n",
       "      <td>Doberman</td>\n",
       "      <td>0.154629</td>\n",
       "      <td>True</td>\n",
       "    </tr>\n",
       "  </tbody>\n",
       "</table>\n",
       "</div>"
      ],
      "text/plain": [
       "             tweet_id                                          jpg_url  \\\n",
       "0  666020888022790149  https://pbs.twimg.com/media/CT4udn0WwAA0aMy.jpg   \n",
       "1  666029285002620928  https://pbs.twimg.com/media/CT42GRgUYAA5iDo.jpg   \n",
       "2  666033412701032449  https://pbs.twimg.com/media/CT4521TWwAEvMyu.jpg   \n",
       "3  666044226329800704  https://pbs.twimg.com/media/CT5Dr8HUEAA-lEu.jpg   \n",
       "4  666049248165822465  https://pbs.twimg.com/media/CT5IQmsXIAAKY4A.jpg   \n",
       "\n",
       "   img_num                      p1   p1_conf  p1_dog                  p2  \\\n",
       "0        1  Welsh_springer_spaniel  0.465074    True              collie   \n",
       "1        1                 redbone  0.506826    True  miniature_pinscher   \n",
       "2        1         German_shepherd  0.596461    True            malinois   \n",
       "3        1     Rhodesian_ridgeback  0.408143    True             redbone   \n",
       "4        1      miniature_pinscher  0.560311    True          Rottweiler   \n",
       "\n",
       "    p2_conf  p2_dog                   p3   p3_conf  p3_dog  \n",
       "0  0.156665    True    Shetland_sheepdog  0.061428    True  \n",
       "1  0.074192    True  Rhodesian_ridgeback  0.072010    True  \n",
       "2  0.138584    True           bloodhound  0.116197    True  \n",
       "3  0.360687    True   miniature_pinscher  0.222752    True  \n",
       "4  0.243682    True             Doberman  0.154629    True  "
      ]
     },
     "execution_count": 822,
     "metadata": {},
     "output_type": "execute_result"
    }
   ],
   "source": [
    "dog_images_df.head()\n",
    "#p1 is the algorithm's #1 prediction for the image in the tweet → golden retriever\n",
    "#p1_conf is how confident the algorithm is in its #1 prediction → 95%\n",
    "#p1_dog is whether or not the #1 prediction is a breed of dog → TRUE\n",
    "#p2 is the algorithm's second most likely prediction → Labrador retriever\n",
    "#p2_conf is how confident the algorithm is in its #2 prediction → 1%\n",
    "#p2_dog is whether or not the #2 prediction is a breed of dog → TRUE"
   ]
  },
  {
   "cell_type": "code",
   "execution_count": 823,
   "metadata": {},
   "outputs": [
    {
     "data": {
      "text/html": [
       "<div>\n",
       "<style scoped>\n",
       "    .dataframe tbody tr th:only-of-type {\n",
       "        vertical-align: middle;\n",
       "    }\n",
       "\n",
       "    .dataframe tbody tr th {\n",
       "        vertical-align: top;\n",
       "    }\n",
       "\n",
       "    .dataframe thead th {\n",
       "        text-align: right;\n",
       "    }\n",
       "</style>\n",
       "<table border=\"1\" class=\"dataframe\">\n",
       "  <thead>\n",
       "    <tr style=\"text-align: right;\">\n",
       "      <th></th>\n",
       "      <th>tweet_id</th>\n",
       "      <th>jpg_url</th>\n",
       "      <th>img_num</th>\n",
       "      <th>p1</th>\n",
       "      <th>p1_conf</th>\n",
       "      <th>p1_dog</th>\n",
       "      <th>p2</th>\n",
       "      <th>p2_conf</th>\n",
       "      <th>p2_dog</th>\n",
       "      <th>p3</th>\n",
       "      <th>p3_conf</th>\n",
       "      <th>p3_dog</th>\n",
       "    </tr>\n",
       "  </thead>\n",
       "  <tbody>\n",
       "    <tr>\n",
       "      <th>2070</th>\n",
       "      <td>891327558926688256</td>\n",
       "      <td>https://pbs.twimg.com/media/DF6hr6BUMAAzZgT.jpg</td>\n",
       "      <td>2</td>\n",
       "      <td>basset</td>\n",
       "      <td>0.555712</td>\n",
       "      <td>True</td>\n",
       "      <td>English_springer</td>\n",
       "      <td>0.225770</td>\n",
       "      <td>True</td>\n",
       "      <td>German_short-haired_pointer</td>\n",
       "      <td>0.175219</td>\n",
       "      <td>True</td>\n",
       "    </tr>\n",
       "    <tr>\n",
       "      <th>2071</th>\n",
       "      <td>891689557279858688</td>\n",
       "      <td>https://pbs.twimg.com/media/DF_q7IAWsAEuuN8.jpg</td>\n",
       "      <td>1</td>\n",
       "      <td>paper_towel</td>\n",
       "      <td>0.170278</td>\n",
       "      <td>False</td>\n",
       "      <td>Labrador_retriever</td>\n",
       "      <td>0.168086</td>\n",
       "      <td>True</td>\n",
       "      <td>spatula</td>\n",
       "      <td>0.040836</td>\n",
       "      <td>False</td>\n",
       "    </tr>\n",
       "    <tr>\n",
       "      <th>2072</th>\n",
       "      <td>891815181378084864</td>\n",
       "      <td>https://pbs.twimg.com/media/DGBdLU1WsAANxJ9.jpg</td>\n",
       "      <td>1</td>\n",
       "      <td>Chihuahua</td>\n",
       "      <td>0.716012</td>\n",
       "      <td>True</td>\n",
       "      <td>malamute</td>\n",
       "      <td>0.078253</td>\n",
       "      <td>True</td>\n",
       "      <td>kelpie</td>\n",
       "      <td>0.031379</td>\n",
       "      <td>True</td>\n",
       "    </tr>\n",
       "    <tr>\n",
       "      <th>2073</th>\n",
       "      <td>892177421306343426</td>\n",
       "      <td>https://pbs.twimg.com/media/DGGmoV4XsAAUL6n.jpg</td>\n",
       "      <td>1</td>\n",
       "      <td>Chihuahua</td>\n",
       "      <td>0.323581</td>\n",
       "      <td>True</td>\n",
       "      <td>Pekinese</td>\n",
       "      <td>0.090647</td>\n",
       "      <td>True</td>\n",
       "      <td>papillon</td>\n",
       "      <td>0.068957</td>\n",
       "      <td>True</td>\n",
       "    </tr>\n",
       "    <tr>\n",
       "      <th>2074</th>\n",
       "      <td>892420643555336193</td>\n",
       "      <td>https://pbs.twimg.com/media/DGKD1-bXoAAIAUK.jpg</td>\n",
       "      <td>1</td>\n",
       "      <td>orange</td>\n",
       "      <td>0.097049</td>\n",
       "      <td>False</td>\n",
       "      <td>bagel</td>\n",
       "      <td>0.085851</td>\n",
       "      <td>False</td>\n",
       "      <td>banana</td>\n",
       "      <td>0.076110</td>\n",
       "      <td>False</td>\n",
       "    </tr>\n",
       "  </tbody>\n",
       "</table>\n",
       "</div>"
      ],
      "text/plain": [
       "                tweet_id                                          jpg_url  \\\n",
       "2070  891327558926688256  https://pbs.twimg.com/media/DF6hr6BUMAAzZgT.jpg   \n",
       "2071  891689557279858688  https://pbs.twimg.com/media/DF_q7IAWsAEuuN8.jpg   \n",
       "2072  891815181378084864  https://pbs.twimg.com/media/DGBdLU1WsAANxJ9.jpg   \n",
       "2073  892177421306343426  https://pbs.twimg.com/media/DGGmoV4XsAAUL6n.jpg   \n",
       "2074  892420643555336193  https://pbs.twimg.com/media/DGKD1-bXoAAIAUK.jpg   \n",
       "\n",
       "      img_num           p1   p1_conf  p1_dog                  p2   p2_conf  \\\n",
       "2070        2       basset  0.555712    True    English_springer  0.225770   \n",
       "2071        1  paper_towel  0.170278   False  Labrador_retriever  0.168086   \n",
       "2072        1    Chihuahua  0.716012    True            malamute  0.078253   \n",
       "2073        1    Chihuahua  0.323581    True            Pekinese  0.090647   \n",
       "2074        1       orange  0.097049   False               bagel  0.085851   \n",
       "\n",
       "      p2_dog                           p3   p3_conf  p3_dog  \n",
       "2070    True  German_short-haired_pointer  0.175219    True  \n",
       "2071    True                      spatula  0.040836   False  \n",
       "2072    True                       kelpie  0.031379    True  \n",
       "2073    True                     papillon  0.068957    True  \n",
       "2074   False                       banana  0.076110   False  "
      ]
     },
     "execution_count": 823,
     "metadata": {},
     "output_type": "execute_result"
    }
   ],
   "source": [
    "dog_images_df.tail()"
   ]
  },
  {
   "cell_type": "code",
   "execution_count": 824,
   "metadata": {},
   "outputs": [
    {
     "data": {
      "text/plain": [
       "(2075, 12)"
      ]
     },
     "execution_count": 824,
     "metadata": {},
     "output_type": "execute_result"
    }
   ],
   "source": [
    "dog_images_df.shape\n",
    "#12 coumns and 2075 rows"
   ]
  },
  {
   "cell_type": "code",
   "execution_count": 825,
   "metadata": {},
   "outputs": [
    {
     "name": "stdout",
     "output_type": "stream",
     "text": [
      "<class 'pandas.core.frame.DataFrame'>\n",
      "RangeIndex: 2075 entries, 0 to 2074\n",
      "Data columns (total 12 columns):\n",
      "tweet_id    2075 non-null int64\n",
      "jpg_url     2075 non-null object\n",
      "img_num     2075 non-null int64\n",
      "p1          2075 non-null object\n",
      "p1_conf     2075 non-null float64\n",
      "p1_dog      2075 non-null bool\n",
      "p2          2075 non-null object\n",
      "p2_conf     2075 non-null float64\n",
      "p2_dog      2075 non-null bool\n",
      "p3          2075 non-null object\n",
      "p3_conf     2075 non-null float64\n",
      "p3_dog      2075 non-null bool\n",
      "dtypes: bool(3), float64(3), int64(2), object(4)\n",
      "memory usage: 152.1+ KB\n"
     ]
    }
   ],
   "source": [
    "dog_images_df.info()"
   ]
  },
  {
   "cell_type": "code",
   "execution_count": 826,
   "metadata": {},
   "outputs": [
    {
     "data": {
      "text/plain": [
       "0"
      ]
     },
     "execution_count": 826,
     "metadata": {},
     "output_type": "execute_result"
    }
   ],
   "source": [
    "sum(dog_images_df['tweet_id'].duplicated())"
   ]
  },
  {
   "cell_type": "code",
   "execution_count": 827,
   "metadata": {},
   "outputs": [
    {
     "data": {
      "text/plain": [
       "66"
      ]
     },
     "execution_count": 827,
     "metadata": {},
     "output_type": "execute_result"
    }
   ],
   "source": [
    "sum(dog_images_df['jpg_url'].duplicated())\n",
    "#66 imge duplicated "
   ]
  },
  {
   "cell_type": "code",
   "execution_count": 828,
   "metadata": {},
   "outputs": [
    {
     "data": {
      "text/plain": [
       "golden_retriever             150\n",
       "Labrador_retriever           100\n",
       "Pembroke                      89\n",
       "Chihuahua                     83\n",
       "pug                           57\n",
       "chow                          44\n",
       "Samoyed                       43\n",
       "toy_poodle                    39\n",
       "Pomeranian                    38\n",
       "malamute                      30\n",
       "cocker_spaniel                30\n",
       "French_bulldog                26\n",
       "miniature_pinscher            23\n",
       "Chesapeake_Bay_retriever      23\n",
       "seat_belt                     22\n",
       "Staffordshire_bullterrier     20\n",
       "German_shepherd               20\n",
       "Siberian_husky                20\n",
       "Cardigan                      19\n",
       "web_site                      19\n",
       "Shetland_sheepdog             18\n",
       "teddy                         18\n",
       "Eskimo_dog                    18\n",
       "Maltese_dog                   18\n",
       "beagle                        18\n",
       "Lakeland_terrier              17\n",
       "Rottweiler                    17\n",
       "Shih-Tzu                      17\n",
       "kuvasz                        16\n",
       "Italian_greyhound             16\n",
       "                            ... \n",
       "candle                         1\n",
       "flamingo                       1\n",
       "toilet_seat                    1\n",
       "studio_couch                   1\n",
       "lawn_mower                     1\n",
       "Japanese_spaniel               1\n",
       "clog                           1\n",
       "walking_stick                  1\n",
       "boathouse                      1\n",
       "desktop_computer               1\n",
       "mortarboard                    1\n",
       "bald_eagle                     1\n",
       "syringe                        1\n",
       "electric_fan                   1\n",
       "sandbar                        1\n",
       "long-horned_beetle             1\n",
       "book_jacket                    1\n",
       "alp                            1\n",
       "swab                           1\n",
       "mailbox                        1\n",
       "pot                            1\n",
       "killer_whale                   1\n",
       "African_hunting_dog            1\n",
       "robin                          1\n",
       "sunglasses                     1\n",
       "starfish                       1\n",
       "cliff                          1\n",
       "banana                         1\n",
       "limousine                      1\n",
       "beaver                         1\n",
       "Name: p1, Length: 378, dtype: int64"
      ]
     },
     "execution_count": 828,
     "metadata": {},
     "output_type": "execute_result"
    }
   ],
   "source": [
    "dog_images_df['p1'].value_counts()"
   ]
  },
  {
   "cell_type": "code",
   "execution_count": 829,
   "metadata": {},
   "outputs": [
    {
     "data": {
      "text/plain": [
       "Labrador_retriever                104\n",
       "golden_retriever                   92\n",
       "Cardigan                           73\n",
       "Chihuahua                          44\n",
       "Pomeranian                         42\n",
       "Chesapeake_Bay_retriever           41\n",
       "French_bulldog                     41\n",
       "toy_poodle                         37\n",
       "cocker_spaniel                     34\n",
       "Siberian_husky                     33\n",
       "miniature_poodle                   33\n",
       "beagle                             28\n",
       "collie                             27\n",
       "Eskimo_dog                         27\n",
       "Pembroke                           27\n",
       "kuvasz                             26\n",
       "Italian_greyhound                  22\n",
       "Pekinese                           21\n",
       "American_Staffordshire_terrier     21\n",
       "chow                               20\n",
       "Samoyed                            20\n",
       "malinois                           20\n",
       "miniature_pinscher                 20\n",
       "toy_terrier                        20\n",
       "Boston_bull                        19\n",
       "Norwegian_elkhound                 19\n",
       "Staffordshire_bullterrier          18\n",
       "pug                                17\n",
       "Irish_terrier                      17\n",
       "Shih-Tzu                           16\n",
       "                                 ... \n",
       "hotdog                              1\n",
       "red_fox                             1\n",
       "wood_rabbit                         1\n",
       "armadillo                           1\n",
       "banded_gecko                        1\n",
       "spotlight                           1\n",
       "cowboy_boot                         1\n",
       "hair_slide                          1\n",
       "breastplate                         1\n",
       "solar_dish                          1\n",
       "bucket                              1\n",
       "wombat                              1\n",
       "spindle                             1\n",
       "sulphur_butterfly                   1\n",
       "torch                               1\n",
       "cardigan                            1\n",
       "siamang                             1\n",
       "mosquito_net                        1\n",
       "space_heater                        1\n",
       "cougar                              1\n",
       "folding_chair                       1\n",
       "tiger                               1\n",
       "brown_bear                          1\n",
       "quail                               1\n",
       "lighter                             1\n",
       "printer                             1\n",
       "dining_table                        1\n",
       "sandal                              1\n",
       "computer_keyboard                   1\n",
       "hatchet                             1\n",
       "Name: p2, Length: 405, dtype: int64"
      ]
     },
     "execution_count": 829,
     "metadata": {},
     "output_type": "execute_result"
    }
   ],
   "source": [
    "dog_images_df['p2'].value_counts()"
   ]
  },
  {
   "cell_type": "code",
   "execution_count": 830,
   "metadata": {},
   "outputs": [
    {
     "data": {
      "text/plain": [
       "Labrador_retriever                79\n",
       "Chihuahua                         58\n",
       "golden_retriever                  48\n",
       "Eskimo_dog                        38\n",
       "kelpie                            35\n",
       "kuvasz                            34\n",
       "chow                              32\n",
       "Staffordshire_bullterrier         32\n",
       "beagle                            31\n",
       "cocker_spaniel                    31\n",
       "toy_poodle                        29\n",
       "Pomeranian                        29\n",
       "Pekinese                          29\n",
       "Great_Pyrenees                    27\n",
       "Chesapeake_Bay_retriever          27\n",
       "Pembroke                          27\n",
       "malamute                          26\n",
       "French_bulldog                    26\n",
       "American_Staffordshire_terrier    24\n",
       "Cardigan                          23\n",
       "pug                               23\n",
       "basenji                           21\n",
       "toy_terrier                       20\n",
       "bull_mastiff                      20\n",
       "Siberian_husky                    19\n",
       "Shetland_sheepdog                 17\n",
       "Boston_bull                       17\n",
       "doormat                           16\n",
       "boxer                             16\n",
       "Lakeland_terrier                  16\n",
       "                                  ..\n",
       "dugong                             1\n",
       "snorkel                            1\n",
       "hare                               1\n",
       "steam_locomotive                   1\n",
       "French_horn                        1\n",
       "rifle                              1\n",
       "swimming_trunks                    1\n",
       "Band_Aid                           1\n",
       "plastic_bag                        1\n",
       "power_drill                        1\n",
       "bulletproof_vest                   1\n",
       "red_wolf                           1\n",
       "neck_brace                         1\n",
       "cloak                              1\n",
       "goose                              1\n",
       "rapeseed                           1\n",
       "mitten                             1\n",
       "barber_chair                       1\n",
       "balance_beam                       1\n",
       "mushroom                           1\n",
       "desktop_computer                   1\n",
       "canoe                              1\n",
       "cardoon                            1\n",
       "hand-held_computer                 1\n",
       "bow_tie                            1\n",
       "broccoli                           1\n",
       "great_grey_owl                     1\n",
       "spatula                            1\n",
       "wok                                1\n",
       "hatchet                            1\n",
       "Name: p3, Length: 408, dtype: int64"
      ]
     },
     "execution_count": 830,
     "metadata": {},
     "output_type": "execute_result"
    }
   ],
   "source": [
    "dog_images_df['p3'].value_counts()"
   ]
  },
  {
   "cell_type": "code",
   "execution_count": 831,
   "metadata": {},
   "outputs": [
    {
     "data": {
      "text/html": [
       "<div>\n",
       "<style scoped>\n",
       "    .dataframe tbody tr th:only-of-type {\n",
       "        vertical-align: middle;\n",
       "    }\n",
       "\n",
       "    .dataframe tbody tr th {\n",
       "        vertical-align: top;\n",
       "    }\n",
       "\n",
       "    .dataframe thead th {\n",
       "        text-align: right;\n",
       "    }\n",
       "</style>\n",
       "<table border=\"1\" class=\"dataframe\">\n",
       "  <thead>\n",
       "    <tr style=\"text-align: right;\">\n",
       "      <th></th>\n",
       "      <th>tweet_id</th>\n",
       "      <th>text</th>\n",
       "      <th>favorite_count</th>\n",
       "      <th>retweet_count</th>\n",
       "    </tr>\n",
       "  </thead>\n",
       "  <tbody>\n",
       "    <tr>\n",
       "      <th>0</th>\n",
       "      <td>666020888022790149</td>\n",
       "      <td>Here we have a Japanese Irish Setter. Lost eye...</td>\n",
       "      <td>2529</td>\n",
       "      <td>498</td>\n",
       "    </tr>\n",
       "    <tr>\n",
       "      <th>1</th>\n",
       "      <td>666029285002620928</td>\n",
       "      <td>This is a western brown Mitsubishi terrier. Up...</td>\n",
       "      <td>125</td>\n",
       "      <td>46</td>\n",
       "    </tr>\n",
       "    <tr>\n",
       "      <th>2</th>\n",
       "      <td>666033412701032449</td>\n",
       "      <td>Here is a very happy pup. Big fan of well-main...</td>\n",
       "      <td>123</td>\n",
       "      <td>43</td>\n",
       "    </tr>\n",
       "    <tr>\n",
       "      <th>3</th>\n",
       "      <td>666044226329800704</td>\n",
       "      <td>This is a purebred Piers Morgan. Loves to Netf...</td>\n",
       "      <td>292</td>\n",
       "      <td>136</td>\n",
       "    </tr>\n",
       "    <tr>\n",
       "      <th>4</th>\n",
       "      <td>666049248165822465</td>\n",
       "      <td>Here we have a 1949 1st generation vulpix. Enj...</td>\n",
       "      <td>106</td>\n",
       "      <td>42</td>\n",
       "    </tr>\n",
       "  </tbody>\n",
       "</table>\n",
       "</div>"
      ],
      "text/plain": [
       "             tweet_id                                               text  \\\n",
       "0  666020888022790149  Here we have a Japanese Irish Setter. Lost eye...   \n",
       "1  666029285002620928  This is a western brown Mitsubishi terrier. Up...   \n",
       "2  666033412701032449  Here is a very happy pup. Big fan of well-main...   \n",
       "3  666044226329800704  This is a purebred Piers Morgan. Loves to Netf...   \n",
       "4  666049248165822465  Here we have a 1949 1st generation vulpix. Enj...   \n",
       "\n",
       "   favorite_count  retweet_count  \n",
       "0            2529            498  \n",
       "1             125             46  \n",
       "2             123             43  \n",
       "3             292            136  \n",
       "4             106             42  "
      ]
     },
     "execution_count": 831,
     "metadata": {},
     "output_type": "execute_result"
    }
   ],
   "source": [
    "twitter_feed_df.head()"
   ]
  },
  {
   "cell_type": "code",
   "execution_count": 832,
   "metadata": {},
   "outputs": [
    {
     "data": {
      "text/html": [
       "<div>\n",
       "<style scoped>\n",
       "    .dataframe tbody tr th:only-of-type {\n",
       "        vertical-align: middle;\n",
       "    }\n",
       "\n",
       "    .dataframe tbody tr th {\n",
       "        vertical-align: top;\n",
       "    }\n",
       "\n",
       "    .dataframe thead th {\n",
       "        text-align: right;\n",
       "    }\n",
       "</style>\n",
       "<table border=\"1\" class=\"dataframe\">\n",
       "  <thead>\n",
       "    <tr style=\"text-align: right;\">\n",
       "      <th></th>\n",
       "      <th>tweet_id</th>\n",
       "      <th>text</th>\n",
       "      <th>favorite_count</th>\n",
       "      <th>retweet_count</th>\n",
       "    </tr>\n",
       "  </thead>\n",
       "  <tbody>\n",
       "    <tr>\n",
       "      <th>2062</th>\n",
       "      <td>891327558926688256</td>\n",
       "      <td>This is Franklin. He would like you to stop ca...</td>\n",
       "      <td>39395</td>\n",
       "      <td>9110</td>\n",
       "    </tr>\n",
       "    <tr>\n",
       "      <th>2063</th>\n",
       "      <td>891689557279858688</td>\n",
       "      <td>This is Darla. She commenced a snooze mid meal...</td>\n",
       "      <td>41228</td>\n",
       "      <td>8411</td>\n",
       "    </tr>\n",
       "    <tr>\n",
       "      <th>2064</th>\n",
       "      <td>891815181378084864</td>\n",
       "      <td>This is Archie. He is a rare Norwegian Pouncin...</td>\n",
       "      <td>24495</td>\n",
       "      <td>4043</td>\n",
       "    </tr>\n",
       "    <tr>\n",
       "      <th>2065</th>\n",
       "      <td>892177421306343426</td>\n",
       "      <td>This is Tilly. She's just checking pup on you....</td>\n",
       "      <td>32535</td>\n",
       "      <td>6107</td>\n",
       "    </tr>\n",
       "    <tr>\n",
       "      <th>2066</th>\n",
       "      <td>892420643555336193</td>\n",
       "      <td>This is Phineas. He's a mystical boy. Only eve...</td>\n",
       "      <td>37867</td>\n",
       "      <td>8265</td>\n",
       "    </tr>\n",
       "  </tbody>\n",
       "</table>\n",
       "</div>"
      ],
      "text/plain": [
       "                tweet_id                                               text  \\\n",
       "2062  891327558926688256  This is Franklin. He would like you to stop ca...   \n",
       "2063  891689557279858688  This is Darla. She commenced a snooze mid meal...   \n",
       "2064  891815181378084864  This is Archie. He is a rare Norwegian Pouncin...   \n",
       "2065  892177421306343426  This is Tilly. She's just checking pup on you....   \n",
       "2066  892420643555336193  This is Phineas. He's a mystical boy. Only eve...   \n",
       "\n",
       "      favorite_count  retweet_count  \n",
       "2062           39395           9110  \n",
       "2063           41228           8411  \n",
       "2064           24495           4043  \n",
       "2065           32535           6107  \n",
       "2066           37867           8265  "
      ]
     },
     "execution_count": 832,
     "metadata": {},
     "output_type": "execute_result"
    }
   ],
   "source": [
    "twitter_feed_df.tail()"
   ]
  },
  {
   "cell_type": "code",
   "execution_count": 833,
   "metadata": {},
   "outputs": [
    {
     "name": "stdout",
     "output_type": "stream",
     "text": [
      "<class 'pandas.core.frame.DataFrame'>\n",
      "RangeIndex: 2067 entries, 0 to 2066\n",
      "Data columns (total 4 columns):\n",
      "tweet_id          2067 non-null object\n",
      "text              2067 non-null object\n",
      "favorite_count    2067 non-null int64\n",
      "retweet_count     2067 non-null int64\n",
      "dtypes: int64(2), object(2)\n",
      "memory usage: 64.7+ KB\n"
     ]
    }
   ],
   "source": [
    "twitter_feed_df.info()"
   ]
  },
  {
   "cell_type": "code",
   "execution_count": 834,
   "metadata": {},
   "outputs": [
    {
     "data": {
      "text/plain": [
       "0"
      ]
     },
     "execution_count": 834,
     "metadata": {},
     "output_type": "execute_result"
    }
   ],
   "source": [
    "sum(twitter_feed_df['tweet_id'].duplicated())"
   ]
  },
  {
   "cell_type": "code",
   "execution_count": 835,
   "metadata": {},
   "outputs": [
    {
     "name": "stdout",
     "output_type": "stream",
     "text": [
      "(2356, 18) (2067, 4) (2075, 12)\n"
     ]
    }
   ],
   "source": [
    "shape_a = twitter_archive_df.shape\n",
    "shape_b = twitter_feed_df.shape\n",
    "shape_c = dog_images_df.shape\n",
    "print(shape_a,shape_b,shape_c)"
   ]
  },
  {
   "cell_type": "code",
   "execution_count": 837,
   "metadata": {},
   "outputs": [
    {
     "name": "stdout",
     "output_type": "stream",
     "text": [
      "float64 int64 object\n"
     ]
    }
   ],
   "source": [
    "#check id datatype before merging the dataframes into one \n",
    "a = twitter_archive_df['tweet_id'].dtype\n",
    "b = dog_images_df['tweet_id'].dtype\n",
    "c = twitter_feed_df['tweet_id'].dtype\n",
    "print(a,b,c)"
   ]
  },
  {
   "cell_type": "markdown",
   "metadata": {},
   "source": [
    "<a id='qu'></a>\n",
    "### Quality Issues:\n",
    "#### (accuracy, validity, consistency, completeness)"
   ]
  },
  {
   "cell_type": "markdown",
   "metadata": {},
   "source": [
    "#### Define:\n",
    "\n",
    "*  Timestamp in twitter_archive_df is object, change it to datetime type.\n",
    "*  Text (tweets) contains #, extract the hashtages from the text column and store it in tweet_hashtag column.\n",
    "*  Name have some names with (a, an, not..) which is not names.\n",
    "*  Calculate denominator and nominator to rating_number.\n",
    "*  Delete the columns that I don't use it.\n",
    "*  Sperate timestamp into three columns, (day, month, year).\n",
    "*  Remove any denominator does not equal 10 (1,50,80,20,2,16,40,70,15,90,110,120, 130,150,7,0).\n",
    "*  Remove outlires from nominator column.\n",
    "*  Calculate the rating in new column and store the percentage value.\n",
    "*  Remove all retweets from dog_images_df and keep tweets.\n",
    "*  Some tweets without images because the number of rows in twitter_archive_df and dog_images_df does not match.\n",
    "*   None values to NAN in Name, doggo, floofer, pupper and puppo.\n",
    "*   Combine puppo, floofer, doggo, and pupper into one column 'dog_stages'\n",
    "*   Remove duplicated values in twitter_archive_df.\n"
   ]
  },
  {
   "cell_type": "markdown",
   "metadata": {},
   "source": [
    "<a id='ti'></a>\n",
    "### Tidness Issues:\n",
    "#### (structural issues)"
   ]
  },
  {
   "cell_type": "markdown",
   "metadata": {},
   "source": [
    "#### Define:\n",
    "*   Merge all dataframes together\n",
    "*  jpg_url contins duplicated urls.\n",
    "*  There are four different columns of gog stages (Doggo, flooder, popper and puppy) merge it into one column and remove nulls.\n",
    "\n",
    "\n"
   ]
  },
  {
   "cell_type": "markdown",
   "metadata": {},
   "source": [
    "<a id='clean'></a>\n",
    "## Cleaning data\n",
    "In this step, I cleand most of issues."
   ]
  },
  {
   "cell_type": "code",
   "execution_count": 838,
   "metadata": {},
   "outputs": [],
   "source": [
    "#Make a copy of the dataframes\n",
    "twitter_archive_df_copy = twitter_archive_df.copy()\n",
    "dog_images_df_copy = dog_images_df.copy()\n",
    "twitter_feed_df_copy = twitter_feed_df.copy()"
   ]
  },
  {
   "cell_type": "markdown",
   "metadata": {},
   "source": [
    "#### Change tweeet_id to String"
   ]
  },
  {
   "cell_type": "code",
   "execution_count": 839,
   "metadata": {},
   "outputs": [],
   "source": [
    "twitter_archive_df_copy.tweet_id = twitter_archive_df_copy.tweet_id.astype(str)"
   ]
  },
  {
   "cell_type": "code",
   "execution_count": 840,
   "metadata": {},
   "outputs": [
    {
     "data": {
      "text/plain": [
       "dtype('O')"
      ]
     },
     "execution_count": 840,
     "metadata": {},
     "output_type": "execute_result"
    }
   ],
   "source": [
    "twitter_archive_df_copy.tweet_id.dtype"
   ]
  },
  {
   "cell_type": "code",
   "execution_count": 841,
   "metadata": {},
   "outputs": [],
   "source": [
    "dog_images_df_copy.tweet_id = dog_images_df_copy.tweet_id .astype(str)"
   ]
  },
  {
   "cell_type": "code",
   "execution_count": 842,
   "metadata": {},
   "outputs": [
    {
     "data": {
      "text/plain": [
       "dtype('O')"
      ]
     },
     "execution_count": 842,
     "metadata": {},
     "output_type": "execute_result"
    }
   ],
   "source": [
    "dog_images_df_copy.tweet_id.dtype"
   ]
  },
  {
   "cell_type": "code",
   "execution_count": 843,
   "metadata": {},
   "outputs": [
    {
     "data": {
      "text/plain": [
       "dtype('O')"
      ]
     },
     "execution_count": 843,
     "metadata": {},
     "output_type": "execute_result"
    }
   ],
   "source": [
    "twitter_feed_df_copy.tweet_id.dtype"
   ]
  },
  {
   "cell_type": "markdown",
   "metadata": {},
   "source": [
    "#### Remove duplicates from twitter_archive_df_copy"
   ]
  },
  {
   "cell_type": "markdown",
   "metadata": {},
   "source": [
    "#### Code"
   ]
  },
  {
   "cell_type": "code",
   "execution_count": 844,
   "metadata": {},
   "outputs": [],
   "source": [
    "twitter_archive_df_copy.drop_duplicates(keep = False, inplace = True) "
   ]
  },
  {
   "cell_type": "markdown",
   "metadata": {},
   "source": [
    "#### Test"
   ]
  },
  {
   "cell_type": "code",
   "execution_count": 845,
   "metadata": {},
   "outputs": [
    {
     "data": {
      "text/plain": [
       "0"
      ]
     },
     "execution_count": 845,
     "metadata": {},
     "output_type": "execute_result"
    }
   ],
   "source": [
    "sum(twitter_archive_df_copy.duplicated())"
   ]
  },
  {
   "cell_type": "markdown",
   "metadata": {},
   "source": [
    "  #####  Timestamp in twitter_archive_df is object, change it to datetime type"
   ]
  },
  {
   "cell_type": "markdown",
   "metadata": {},
   "source": [
    "#####  Code"
   ]
  },
  {
   "cell_type": "code",
   "execution_count": 846,
   "metadata": {},
   "outputs": [],
   "source": [
    "#Change the timestamp to datetime\n",
    "twitter_archive_df_copy['timestamp'] = pd.to_datetime(twitter_archive_df_copy['timestamp'], format ='%Y-%m-%d')\n",
    "#'%Y-%m-%d'"
   ]
  },
  {
   "cell_type": "markdown",
   "metadata": {},
   "source": [
    "##### Test"
   ]
  },
  {
   "cell_type": "code",
   "execution_count": 847,
   "metadata": {},
   "outputs": [
    {
     "data": {
      "text/plain": [
       "dtype('<M8[ns]')"
      ]
     },
     "execution_count": 847,
     "metadata": {},
     "output_type": "execute_result"
    }
   ],
   "source": [
    "#check \n",
    "twitter_archive_df_copy['timestamp'].dtype"
   ]
  },
  {
   "cell_type": "code",
   "execution_count": 848,
   "metadata": {},
   "outputs": [
    {
     "data": {
      "text/plain": [
       "0   2017-08-01 16:23:56\n",
       "1   2017-08-01 00:17:27\n",
       "2   2017-07-31 00:18:03\n",
       "3   2017-07-30 15:58:51\n",
       "4   2017-07-29 16:00:24\n",
       "Name: timestamp, dtype: datetime64[ns]"
      ]
     },
     "execution_count": 848,
     "metadata": {},
     "output_type": "execute_result"
    }
   ],
   "source": [
    "twitter_archive_df_copy['timestamp'].head(5)"
   ]
  },
  {
   "cell_type": "markdown",
   "metadata": {},
   "source": [
    "#### Split timestamp to date (year-month-day) "
   ]
  },
  {
   "cell_type": "code",
   "execution_count": 849,
   "metadata": {},
   "outputs": [],
   "source": [
    "#date\n",
    "twitter_archive_df_copy['date'] = pd.to_datetime(twitter_archive_df_copy['timestamp']).dt.date\n",
    "twitter_archive_df_copy['date'] = pd.to_datetime(twitter_archive_df_copy['date'], format ='%Y-%m-%d')"
   ]
  },
  {
   "cell_type": "code",
   "execution_count": 850,
   "metadata": {},
   "outputs": [],
   "source": [
    "twitter_archive_df_copy['year'] = pd.DatetimeIndex(twitter_archive_df_copy['date']).year"
   ]
  },
  {
   "cell_type": "code",
   "execution_count": 851,
   "metadata": {},
   "outputs": [],
   "source": [
    "twitter_archive_df_copy['month'] = pd.DatetimeIndex(twitter_archive_df_copy['date']).month"
   ]
  },
  {
   "cell_type": "code",
   "execution_count": 852,
   "metadata": {},
   "outputs": [],
   "source": [
    "twitter_archive_df_copy['day'] = pd.DatetimeIndex(twitter_archive_df_copy['date']).day"
   ]
  },
  {
   "cell_type": "code",
   "execution_count": 853,
   "metadata": {},
   "outputs": [],
   "source": [
    "#drop ==>timestamp \n",
    "twitter_archive_df_copy = twitter_archive_df_copy.drop(['timestamp'], axis=1)"
   ]
  },
  {
   "cell_type": "markdown",
   "metadata": {},
   "source": [
    "#### Test"
   ]
  },
  {
   "cell_type": "code",
   "execution_count": 854,
   "metadata": {},
   "outputs": [
    {
     "data": {
      "text/plain": [
       "0    2017\n",
       "1    2017\n",
       "2    2017\n",
       "3    2017\n",
       "4    2017\n",
       "Name: year, dtype: int64"
      ]
     },
     "execution_count": 854,
     "metadata": {},
     "output_type": "execute_result"
    }
   ],
   "source": [
    "twitter_archive_df_copy.year.head()"
   ]
  },
  {
   "cell_type": "code",
   "execution_count": 855,
   "metadata": {},
   "outputs": [
    {
     "data": {
      "text/plain": [
       "0    8\n",
       "1    8\n",
       "2    7\n",
       "3    7\n",
       "4    7\n",
       "Name: month, dtype: int64"
      ]
     },
     "execution_count": 855,
     "metadata": {},
     "output_type": "execute_result"
    }
   ],
   "source": [
    "twitter_archive_df_copy.month.head()"
   ]
  },
  {
   "cell_type": "code",
   "execution_count": 856,
   "metadata": {},
   "outputs": [
    {
     "data": {
      "text/plain": [
       "0     1\n",
       "1     1\n",
       "2    31\n",
       "3    30\n",
       "4    29\n",
       "Name: day, dtype: int64"
      ]
     },
     "execution_count": 856,
     "metadata": {},
     "output_type": "execute_result"
    }
   ],
   "source": [
    "twitter_archive_df_copy.day.head()"
   ]
  },
  {
   "cell_type": "markdown",
   "metadata": {},
   "source": [
    "##### Text (tweets) contains #, extract the hashtages from the text column and store it in tweet_hashtag column."
   ]
  },
  {
   "cell_type": "markdown",
   "metadata": {},
   "source": [
    "#####  Code"
   ]
  },
  {
   "cell_type": "code",
   "execution_count": 857,
   "metadata": {},
   "outputs": [],
   "source": [
    "#create new column \"tweet_hashtag\" to get all hashtages from text\n",
    "twitter_archive_df_copy['tweet_hashtag'] = twitter_archive_df_copy['text'].str.extract(r\"#(\\w+)\")\n"
   ]
  },
  {
   "cell_type": "markdown",
   "metadata": {},
   "source": [
    "##### Test"
   ]
  },
  {
   "cell_type": "code",
   "execution_count": 858,
   "metadata": {},
   "outputs": [
    {
     "data": {
      "text/plain": [
       "BarkWeek                 9\n",
       "PrideMonth               3\n",
       "LoveTwitter              1\n",
       "BellLetsTalk             1\n",
       "GoodDogs                 1\n",
       "K9VeteransDay            1\n",
       "FinalFur                 1\n",
       "BATP                     1\n",
       "WomensMarch              1\n",
       "dogsatpollingstations    1\n",
       "NoDaysOff                1\n",
       "ImWithThor               1\n",
       "notallpuppers            1\n",
       "WKCDogShow               1\n",
       "Canada150                1\n",
       "PrideMonthPuppo          1\n",
       "ScienceMarch             1\n",
       "Name: tweet_hashtag, dtype: int64"
      ]
     },
     "execution_count": 858,
     "metadata": {},
     "output_type": "execute_result"
    }
   ],
   "source": [
    "twitter_archive_df_copy['tweet_hashtag'].value_counts()\n",
    "#used hashtages "
   ]
  },
  {
   "cell_type": "markdown",
   "metadata": {},
   "source": [
    "##### Remove any denominator does not equal 10 (1,50,80,20,2,16,40,70,15,90,110,120, 130,150,7,0)"
   ]
  },
  {
   "cell_type": "markdown",
   "metadata": {},
   "source": [
    "#####  Code"
   ]
  },
  {
   "cell_type": "code",
   "execution_count": 859,
   "metadata": {},
   "outputs": [],
   "source": [
    "#to get rate of dogs I removed any denominator does not equal 10 \n",
    "twitter_archive_df_copy = twitter_archive_df_copy[twitter_archive_df_copy['rating_denominator']==10]"
   ]
  },
  {
   "cell_type": "markdown",
   "metadata": {},
   "source": [
    "##### Test"
   ]
  },
  {
   "cell_type": "code",
   "execution_count": 860,
   "metadata": {},
   "outputs": [
    {
     "data": {
      "text/plain": [
       "10    2333\n",
       "Name: rating_denominator, dtype: int64"
      ]
     },
     "execution_count": 860,
     "metadata": {},
     "output_type": "execute_result"
    }
   ],
   "source": [
    "twitter_archive_df_copy['rating_denominator'].value_counts()"
   ]
  },
  {
   "cell_type": "markdown",
   "metadata": {},
   "source": [
    "##### Remove outlires from nominator column."
   ]
  },
  {
   "cell_type": "markdown",
   "metadata": {},
   "source": [
    "#####  Code"
   ]
  },
  {
   "cell_type": "code",
   "execution_count": 861,
   "metadata": {},
   "outputs": [],
   "source": [
    "#np.where(twitter_archive_df_copy['rating_numerator'] > 14)\n",
    "twitter_archive_df_copy = twitter_archive_df_copy[twitter_archive_df_copy['rating_numerator']<14]\n"
   ]
  },
  {
   "cell_type": "markdown",
   "metadata": {},
   "source": [
    "#####  Test"
   ]
  },
  {
   "cell_type": "code",
   "execution_count": 862,
   "metadata": {},
   "outputs": [
    {
     "data": {
      "text/plain": [
       "12    558\n",
       "11    463\n",
       "10    461\n",
       "13    351\n",
       "9     156\n",
       "8     102\n",
       "7      54\n",
       "5      37\n",
       "6      32\n",
       "3      19\n",
       "4      15\n",
       "2       9\n",
       "1       8\n",
       "0       2\n",
       "Name: rating_numerator, dtype: int64"
      ]
     },
     "execution_count": 862,
     "metadata": {},
     "output_type": "execute_result"
    }
   ],
   "source": [
    "twitter_archive_df_copy['rating_numerator'].value_counts()"
   ]
  },
  {
   "cell_type": "markdown",
   "metadata": {},
   "source": [
    "##### Calculate the rating in new column and store the percentage value in new column"
   ]
  },
  {
   "cell_type": "markdown",
   "metadata": {},
   "source": [
    "#####  Code"
   ]
  },
  {
   "cell_type": "code",
   "execution_count": 863,
   "metadata": {},
   "outputs": [],
   "source": [
    "# Calculate the rating\n",
    "twitter_archive_df_copy['rating'] = (twitter_archive_df_copy['rating_numerator'] / twitter_archive_df['rating_denominator'])*100\n",
    "\n"
   ]
  },
  {
   "cell_type": "markdown",
   "metadata": {},
   "source": [
    "#####  Test"
   ]
  },
  {
   "cell_type": "code",
   "execution_count": 864,
   "metadata": {},
   "outputs": [
    {
     "data": {
      "text/plain": [
       "120.0    558\n",
       "110.0    463\n",
       "100.0    461\n",
       "130.0    351\n",
       "90.0     156\n",
       "80.0     102\n",
       "70.0      54\n",
       "50.0      37\n",
       "60.0      32\n",
       "30.0      19\n",
       "40.0      15\n",
       "20.0       9\n",
       "10.0       8\n",
       "0.0        2\n",
       "Name: rating, dtype: int64"
      ]
     },
     "execution_count": 864,
     "metadata": {},
     "output_type": "execute_result"
    }
   ],
   "source": [
    "twitter_archive_df_copy['rating'].value_counts()"
   ]
  },
  {
   "cell_type": "code",
   "execution_count": 865,
   "metadata": {},
   "outputs": [
    {
     "data": {
      "text/plain": [
       "1335    110.0\n",
       "Name: rating, dtype: float64"
      ]
     },
     "execution_count": 865,
     "metadata": {},
     "output_type": "execute_result"
    }
   ],
   "source": [
    "twitter_archive_df_copy['rating'].sample()"
   ]
  },
  {
   "cell_type": "markdown",
   "metadata": {},
   "source": [
    "##### Replace None to NAN in Name, doggo, floofer, pupper and puppo columns"
   ]
  },
  {
   "cell_type": "markdown",
   "metadata": {},
   "source": [
    "#####  Code"
   ]
  },
  {
   "cell_type": "code",
   "execution_count": 866,
   "metadata": {},
   "outputs": [],
   "source": [
    "#Name\n",
    "twitter_archive_df_copy['name'].replace('None', np.nan, inplace=True)\n",
    "#Doggo\n",
    "twitter_archive_df_copy['doggo'].replace('None', np.nan, inplace=True)\n",
    "#flooder \n",
    "twitter_archive_df_copy['floofer'].replace('None', np.nan, inplace=True)\n",
    "#popper \n",
    "twitter_archive_df_copy['pupper'].replace('None', np.nan, inplace=True)\n",
    "#puppy\n",
    "twitter_archive_df_copy['puppo'].replace('None', np.nan, inplace=True)"
   ]
  },
  {
   "cell_type": "markdown",
   "metadata": {},
   "source": [
    "##### Test"
   ]
  },
  {
   "cell_type": "code",
   "execution_count": 867,
   "metadata": {},
   "outputs": [
    {
     "data": {
      "text/plain": [
       "puppo    29\n",
       "Name: puppo, dtype: int64"
      ]
     },
     "execution_count": 867,
     "metadata": {},
     "output_type": "execute_result"
    }
   ],
   "source": [
    "twitter_archive_df_copy['puppo'].value_counts()"
   ]
  },
  {
   "cell_type": "code",
   "execution_count": 868,
   "metadata": {},
   "outputs": [
    {
     "data": {
      "text/plain": [
       "floofer    10\n",
       "Name: floofer, dtype: int64"
      ]
     },
     "execution_count": 868,
     "metadata": {},
     "output_type": "execute_result"
    }
   ],
   "source": [
    "twitter_archive_df_copy['floofer'].value_counts()"
   ]
  },
  {
   "cell_type": "code",
   "execution_count": 869,
   "metadata": {},
   "outputs": [
    {
     "data": {
      "text/plain": [
       "doggo    87\n",
       "Name: doggo, dtype: int64"
      ]
     },
     "execution_count": 869,
     "metadata": {},
     "output_type": "execute_result"
    }
   ],
   "source": [
    "twitter_archive_df_copy['doggo'].value_counts()"
   ]
  },
  {
   "cell_type": "code",
   "execution_count": 870,
   "metadata": {},
   "outputs": [
    {
     "data": {
      "text/plain": [
       "pupper    248\n",
       "Name: pupper, dtype: int64"
      ]
     },
     "execution_count": 870,
     "metadata": {},
     "output_type": "execute_result"
    }
   ],
   "source": [
    "twitter_archive_df_copy['pupper'].value_counts()"
   ]
  },
  {
   "cell_type": "markdown",
   "metadata": {},
   "source": [
    "##### Remove unused names from name and make the first letter capital."
   ]
  },
  {
   "cell_type": "markdown",
   "metadata": {},
   "source": [
    "#####  Code"
   ]
  },
  {
   "cell_type": "code",
   "execution_count": 871,
   "metadata": {},
   "outputs": [
    {
     "data": {
      "text/plain": [
       "a              53\n",
       "Charlie        12\n",
       "Lucy           11\n",
       "Cooper         11\n",
       "Oliver         11\n",
       "Penny          10\n",
       "Lola           10\n",
       "Tucker         10\n",
       "Winston         9\n",
       "Sadie           8\n",
       "the             8\n",
       "Toby            7\n",
       "Buddy           7\n",
       "Bailey          7\n",
       "Daisy           7\n",
       "Bo              7\n",
       "Bella           6\n",
       "Oscar           6\n",
       "an              6\n",
       "Koda            6\n",
       "Stanley         6\n",
       "Jack            6\n",
       "Scout           6\n",
       "Jax             6\n",
       "Rusty           6\n",
       "Dave            6\n",
       "Leo             6\n",
       "Milo            6\n",
       "Larry           5\n",
       "George          5\n",
       "               ..\n",
       "Kona            1\n",
       "Brat            1\n",
       "Heinrich        1\n",
       "Mitch           1\n",
       "Barry           1\n",
       "Bobb            1\n",
       "Cilantro        1\n",
       "Jareld          1\n",
       "Vinnie          1\n",
       "Burt            1\n",
       "Noah            1\n",
       "Barney          1\n",
       "Storkson        1\n",
       "Glenn           1\n",
       "Einstein        1\n",
       "William         1\n",
       "Cedrick         1\n",
       "Kramer          1\n",
       "Edgar           1\n",
       "Leonidas        1\n",
       "Blakely         1\n",
       "Ozzie           1\n",
       "Taco            1\n",
       "Banjo           1\n",
       "Peanut          1\n",
       "infuriating     1\n",
       "Mingus          1\n",
       "Chloe           1\n",
       "Pete            1\n",
       "Aja             1\n",
       "Name: name, Length: 941, dtype: int64"
      ]
     },
     "execution_count": 871,
     "metadata": {},
     "output_type": "execute_result"
    }
   ],
   "source": [
    "twitter_archive_df_copy.name.value_counts()"
   ]
  },
  {
   "cell_type": "code",
   "execution_count": 872,
   "metadata": {},
   "outputs": [],
   "source": [
    "#remove and replace letters or symbols from name column manully\n",
    "#lower case and <4 \"Condition\"\n",
    "\n",
    "#1 . find all lower case names \n",
    "#2 . find all names with len <4 \n",
    "#4 . replace nonnames with NAN\n",
    "#5 . remove null names \n",
    "\n",
    "change_name = []\n",
    "for names in twitter_archive_df_copy.name:\n",
    "    if len(str(names)) <= 3 and str(names).islower():\n",
    "        change_name.append(names)"
   ]
  },
  {
   "cell_type": "markdown",
   "metadata": {},
   "source": [
    "##### Test"
   ]
  },
  {
   "cell_type": "code",
   "execution_count": 873,
   "metadata": {},
   "outputs": [],
   "source": [
    "twitter_archive_df_copy.name.replace(change_name,np.nan,inplace = True)"
   ]
  },
  {
   "cell_type": "code",
   "execution_count": 874,
   "metadata": {},
   "outputs": [
    {
     "data": {
      "text/plain": [
       "Charlie        12\n",
       "Oliver         11\n",
       "Lucy           11\n",
       "Cooper         11\n",
       "Tucker         10\n",
       "Penny          10\n",
       "Lola           10\n",
       "Winston         9\n",
       "Sadie           8\n",
       "Toby            7\n",
       "Bo              7\n",
       "Bailey          7\n",
       "Buddy           7\n",
       "Daisy           7\n",
       "Oscar           6\n",
       "Koda            6\n",
       "Stanley         6\n",
       "Rusty           6\n",
       "Jack            6\n",
       "Scout           6\n",
       "Jax             6\n",
       "Bella           6\n",
       "Leo             6\n",
       "Milo            6\n",
       "Dave            6\n",
       "Bentley         5\n",
       "very            5\n",
       "Oakley          5\n",
       "Louis           5\n",
       "Chester         5\n",
       "               ..\n",
       "Gerbald         1\n",
       "Danny           1\n",
       "Snoop           1\n",
       "Lorelei         1\n",
       "Kona            1\n",
       "Brat            1\n",
       "Heinrich        1\n",
       "Mitch           1\n",
       "Pete            1\n",
       "Mingus          1\n",
       "Anthony         1\n",
       "infuriating     1\n",
       "Frönq           1\n",
       "Kellogg         1\n",
       "Freddery        1\n",
       "Noah            1\n",
       "Einstein        1\n",
       "Storkson        1\n",
       "Glenn           1\n",
       "William         1\n",
       "Cedrick         1\n",
       "Kramer          1\n",
       "Edgar           1\n",
       "Leonidas        1\n",
       "Blakely         1\n",
       "Ozzie           1\n",
       "Peanut          1\n",
       "Taco            1\n",
       "Banjo           1\n",
       "Aja             1\n",
       "Name: name, Length: 930, dtype: int64"
      ]
     },
     "execution_count": 874,
     "metadata": {},
     "output_type": "execute_result"
    }
   ],
   "source": [
    "twitter_archive_df_copy.name.value_counts()"
   ]
  },
  {
   "cell_type": "markdown",
   "metadata": {},
   "source": [
    " ##### Delete the columns that I don't use it."
   ]
  },
  {
   "cell_type": "markdown",
   "metadata": {},
   "source": [
    "#####  Code"
   ]
  },
  {
   "cell_type": "code",
   "execution_count": 875,
   "metadata": {},
   "outputs": [
    {
     "data": {
      "text/plain": [
       "['tweet_id',\n",
       " 'in_reply_to_status_id',\n",
       " 'in_reply_to_user_id',\n",
       " 'source',\n",
       " 'text',\n",
       " 'retweeted_status_id',\n",
       " 'retweeted_status_user_id',\n",
       " 'retweeted_status_timestamp',\n",
       " 'expanded_urls',\n",
       " 'rating_numerator',\n",
       " 'rating_denominator',\n",
       " 'name',\n",
       " 'doggo',\n",
       " 'floofer',\n",
       " 'pupper',\n",
       " 'puppo',\n",
       " '#VALUE!',\n",
       " 'date',\n",
       " 'year',\n",
       " 'month',\n",
       " 'day',\n",
       " 'tweet_hashtag',\n",
       " 'rating']"
      ]
     },
     "execution_count": 875,
     "metadata": {},
     "output_type": "execute_result"
    }
   ],
   "source": [
    "list(twitter_archive_df_copy)\n",
    "#remove ==> in_reply_to_status_id','in_reply_to_user_id','#VALUE!',source"
   ]
  },
  {
   "cell_type": "code",
   "execution_count": 876,
   "metadata": {
    "scrolled": true
   },
   "outputs": [
    {
     "data": {
      "text/plain": [
       "['tweet_id',\n",
       " 'jpg_url',\n",
       " 'img_num',\n",
       " 'p1',\n",
       " 'p1_conf',\n",
       " 'p1_dog',\n",
       " 'p2',\n",
       " 'p2_conf',\n",
       " 'p2_dog',\n",
       " 'p3',\n",
       " 'p3_conf',\n",
       " 'p3_dog']"
      ]
     },
     "execution_count": 876,
     "metadata": {},
     "output_type": "execute_result"
    }
   ],
   "source": [
    "list(dog_images_df_copy)\n",
    "#remove ==> img_num"
   ]
  },
  {
   "cell_type": "code",
   "execution_count": 877,
   "metadata": {},
   "outputs": [
    {
     "data": {
      "text/plain": [
       "['tweet_id', 'text', 'favorite_count', 'retweet_count']"
      ]
     },
     "execution_count": 877,
     "metadata": {},
     "output_type": "execute_result"
    }
   ],
   "source": [
    "list (twitter_feed_df_copy)"
   ]
  },
  {
   "cell_type": "code",
   "execution_count": 878,
   "metadata": {},
   "outputs": [],
   "source": [
    "twitter_archive_df_copy.drop(['in_reply_to_status_id','in_reply_to_user_id','source','#VALUE!'], axis=1, inplace=True)\n"
   ]
  },
  {
   "cell_type": "code",
   "execution_count": 879,
   "metadata": {},
   "outputs": [],
   "source": [
    "\n",
    "dog_images_df_copy.drop(['img_num'], axis=1, inplace=True)\n"
   ]
  },
  {
   "cell_type": "markdown",
   "metadata": {},
   "source": [
    "##### Test"
   ]
  },
  {
   "cell_type": "code",
   "execution_count": 880,
   "metadata": {},
   "outputs": [
    {
     "data": {
      "text/plain": [
       "['tweet_id',\n",
       " 'text',\n",
       " 'retweeted_status_id',\n",
       " 'retweeted_status_user_id',\n",
       " 'retweeted_status_timestamp',\n",
       " 'expanded_urls',\n",
       " 'rating_numerator',\n",
       " 'rating_denominator',\n",
       " 'name',\n",
       " 'doggo',\n",
       " 'floofer',\n",
       " 'pupper',\n",
       " 'puppo',\n",
       " 'date',\n",
       " 'year',\n",
       " 'month',\n",
       " 'day',\n",
       " 'tweet_hashtag',\n",
       " 'rating']"
      ]
     },
     "execution_count": 880,
     "metadata": {},
     "output_type": "execute_result"
    }
   ],
   "source": [
    "list(twitter_archive_df_copy)"
   ]
  },
  {
   "cell_type": "code",
   "execution_count": 881,
   "metadata": {},
   "outputs": [
    {
     "data": {
      "text/plain": [
       "['tweet_id',\n",
       " 'jpg_url',\n",
       " 'p1',\n",
       " 'p1_conf',\n",
       " 'p1_dog',\n",
       " 'p2',\n",
       " 'p2_conf',\n",
       " 'p2_dog',\n",
       " 'p3',\n",
       " 'p3_conf',\n",
       " 'p3_dog']"
      ]
     },
     "execution_count": 881,
     "metadata": {},
     "output_type": "execute_result"
    }
   ],
   "source": [
    "list(dog_images_df_copy)"
   ]
  },
  {
   "cell_type": "markdown",
   "metadata": {},
   "source": [
    "##### Remove retweets and keeps tweets"
   ]
  },
  {
   "cell_type": "markdown",
   "metadata": {},
   "source": [
    "#####  Code"
   ]
  },
  {
   "cell_type": "code",
   "execution_count": 882,
   "metadata": {},
   "outputs": [],
   "source": [
    "#when the retweeted_status_id column equal null (nan) means this is tweet not retweet\n",
    "twitter_archive_df_copy= twitter_archive_df_copy[twitter_archive_df_copy['retweeted_status_id'].isnull()]"
   ]
  },
  {
   "cell_type": "markdown",
   "metadata": {},
   "source": [
    "##### Test"
   ]
  },
  {
   "cell_type": "code",
   "execution_count": 883,
   "metadata": {},
   "outputs": [
    {
     "name": "stdout",
     "output_type": "stream",
     "text": [
      "<class 'pandas.core.frame.DataFrame'>\n",
      "Int64Index: 2100 entries, 0 to 2355\n",
      "Data columns (total 19 columns):\n",
      "tweet_id                      2100 non-null object\n",
      "text                          2100 non-null object\n",
      "retweeted_status_id           0 non-null float64\n",
      "retweeted_status_user_id      0 non-null float64\n",
      "retweeted_status_timestamp    0 non-null object\n",
      "expanded_urls                 2054 non-null object\n",
      "rating_numerator              2100 non-null int64\n",
      "rating_denominator            2100 non-null int64\n",
      "name                          1389 non-null object\n",
      "doggo                         79 non-null object\n",
      "floofer                       10 non-null object\n",
      "pupper                        226 non-null object\n",
      "puppo                         24 non-null object\n",
      "date                          2100 non-null datetime64[ns]\n",
      "year                          2100 non-null int64\n",
      "month                         2100 non-null int64\n",
      "day                           2100 non-null int64\n",
      "tweet_hashtag                 22 non-null object\n",
      "rating                        2100 non-null float64\n",
      "dtypes: datetime64[ns](1), float64(3), int64(5), object(10)\n",
      "memory usage: 328.1+ KB\n",
      "None\n"
     ]
    }
   ],
   "source": [
    "print(twitter_archive_df_copy.info())"
   ]
  },
  {
   "cell_type": "markdown",
   "metadata": {},
   "source": [
    "##### Combine puppo, floofer, doggo, and pupper into one column 'dog_stages'"
   ]
  },
  {
   "cell_type": "markdown",
   "metadata": {},
   "source": [
    "#####  Code"
   ]
  },
  {
   "cell_type": "code",
   "execution_count": 884,
   "metadata": {},
   "outputs": [],
   "source": [
    "#extract dog stage from tweet text and store it into gog_stage cloumn\n",
    "twitter_archive_df_copy['dog_stage'] = twitter_archive_df_copy['text'].str.extract('(doggo|floofer|pupper|puppo)')"
   ]
  },
  {
   "cell_type": "markdown",
   "metadata": {},
   "source": [
    "##### Test"
   ]
  },
  {
   "cell_type": "code",
   "execution_count": 885,
   "metadata": {},
   "outputs": [],
   "source": [
    "#drop 'doggo', 'floofer', 'pupper', 'puppo' columns\n",
    "twitter_archive_df_copy = twitter_archive_df_copy.drop(['doggo', 'floofer', 'pupper', 'puppo'], axis=1)"
   ]
  },
  {
   "cell_type": "code",
   "execution_count": 886,
   "metadata": {},
   "outputs": [
    {
     "data": {
      "text/plain": [
       "12        puppo\n",
       "14        puppo\n",
       "29       pupper\n",
       "43        doggo\n",
       "46      floofer\n",
       "49       pupper\n",
       "54       pupper\n",
       "82       pupper\n",
       "85        puppo\n",
       "92       pupper\n",
       "94        puppo\n",
       "98       pupper\n",
       "99        doggo\n",
       "106       puppo\n",
       "107      pupper\n",
       "108       doggo\n",
       "121       doggo\n",
       "129       puppo\n",
       "134       puppo\n",
       "135      pupper\n",
       "168       puppo\n",
       "172       puppo\n",
       "191       puppo\n",
       "200       doggo\n",
       "220      pupper\n",
       "228       puppo\n",
       "240       doggo\n",
       "248       doggo\n",
       "249      pupper\n",
       "274       puppo\n",
       "         ...   \n",
       "1889     pupper\n",
       "1897     pupper\n",
       "1900     pupper\n",
       "1903     pupper\n",
       "1907     pupper\n",
       "1915     pupper\n",
       "1921     pupper\n",
       "1928     pupper\n",
       "1930     pupper\n",
       "1936     pupper\n",
       "1937     pupper\n",
       "1945     pupper\n",
       "1948     pupper\n",
       "1954     pupper\n",
       "1956     pupper\n",
       "1960     pupper\n",
       "1967     pupper\n",
       "1970     pupper\n",
       "1974     pupper\n",
       "1977     pupper\n",
       "1980     pupper\n",
       "1981     pupper\n",
       "1991     pupper\n",
       "1992     pupper\n",
       "1995     pupper\n",
       "2002     pupper\n",
       "2009     pupper\n",
       "2015     pupper\n",
       "2017     pupper\n",
       "2141     pupper\n",
       "Name: dog_stage, Length: 340, dtype: object"
      ]
     },
     "execution_count": 886,
     "metadata": {},
     "output_type": "execute_result"
    }
   ],
   "source": [
    "#drop null values from dog stage column\n",
    "twitter_archive_df_copy.dog_stage.dropna()"
   ]
  },
  {
   "cell_type": "code",
   "execution_count": 887,
   "metadata": {},
   "outputs": [
    {
     "data": {
      "text/plain": [
       "pupper     230\n",
       "doggo       75\n",
       "puppo       31\n",
       "floofer      4\n",
       "Name: dog_stage, dtype: int64"
      ]
     },
     "execution_count": 887,
     "metadata": {},
     "output_type": "execute_result"
    }
   ],
   "source": [
    "twitter_archive_df_copy.dog_stage.value_counts()"
   ]
  },
  {
   "cell_type": "markdown",
   "metadata": {},
   "source": [
    "#### Merge all dataframes into one "
   ]
  },
  {
   "cell_type": "markdown",
   "metadata": {},
   "source": [
    "#### Code"
   ]
  },
  {
   "cell_type": "code",
   "execution_count": 888,
   "metadata": {},
   "outputs": [],
   "source": [
    "dfs = [twitter_archive_df_copy, dog_images_df_copy, twitter_feed_df_copy]"
   ]
  },
  {
   "cell_type": "code",
   "execution_count": 889,
   "metadata": {},
   "outputs": [
    {
     "name": "stderr",
     "output_type": "stream",
     "text": [
      "/anaconda3/lib/python3.7/site-packages/ipykernel_launcher.py:1: FutureWarning: Sorting because non-concatenation axis is not aligned. A future version\n",
      "of pandas will change to not sort by default.\n",
      "\n",
      "To accept the future behavior, pass 'sort=False'.\n",
      "\n",
      "To retain the current behavior and silence the warning, pass 'sort=True'.\n",
      "\n",
      "  \"\"\"Entry point for launching an IPython kernel.\n"
     ]
    }
   ],
   "source": [
    "twitter_data = pd.concat(dfs)"
   ]
  },
  {
   "cell_type": "markdown",
   "metadata": {},
   "source": [
    "#### Test"
   ]
  },
  {
   "cell_type": "code",
   "execution_count": 890,
   "metadata": {},
   "outputs": [
    {
     "data": {
      "text/html": [
       "<div>\n",
       "<style scoped>\n",
       "    .dataframe tbody tr th:only-of-type {\n",
       "        vertical-align: middle;\n",
       "    }\n",
       "\n",
       "    .dataframe tbody tr th {\n",
       "        vertical-align: top;\n",
       "    }\n",
       "\n",
       "    .dataframe thead th {\n",
       "        text-align: right;\n",
       "    }\n",
       "</style>\n",
       "<table border=\"1\" class=\"dataframe\">\n",
       "  <thead>\n",
       "    <tr style=\"text-align: right;\">\n",
       "      <th></th>\n",
       "      <th>date</th>\n",
       "      <th>day</th>\n",
       "      <th>dog_stage</th>\n",
       "      <th>expanded_urls</th>\n",
       "      <th>favorite_count</th>\n",
       "      <th>jpg_url</th>\n",
       "      <th>month</th>\n",
       "      <th>name</th>\n",
       "      <th>p1</th>\n",
       "      <th>p1_conf</th>\n",
       "      <th>...</th>\n",
       "      <th>rating_denominator</th>\n",
       "      <th>rating_numerator</th>\n",
       "      <th>retweet_count</th>\n",
       "      <th>retweeted_status_id</th>\n",
       "      <th>retweeted_status_timestamp</th>\n",
       "      <th>retweeted_status_user_id</th>\n",
       "      <th>text</th>\n",
       "      <th>tweet_hashtag</th>\n",
       "      <th>tweet_id</th>\n",
       "      <th>year</th>\n",
       "    </tr>\n",
       "  </thead>\n",
       "  <tbody>\n",
       "    <tr>\n",
       "      <th>0</th>\n",
       "      <td>2017-08-01</td>\n",
       "      <td>1.0</td>\n",
       "      <td>NaN</td>\n",
       "      <td>https://twitter.com/dog_rates/status/892420643...</td>\n",
       "      <td>NaN</td>\n",
       "      <td>NaN</td>\n",
       "      <td>8.0</td>\n",
       "      <td>Phineas</td>\n",
       "      <td>NaN</td>\n",
       "      <td>NaN</td>\n",
       "      <td>...</td>\n",
       "      <td>10.0</td>\n",
       "      <td>13.0</td>\n",
       "      <td>NaN</td>\n",
       "      <td>NaN</td>\n",
       "      <td>NaN</td>\n",
       "      <td>NaN</td>\n",
       "      <td>This is Phineas. He's a mystical boy. Only eve...</td>\n",
       "      <td>NaN</td>\n",
       "      <td>8.92421e+17</td>\n",
       "      <td>2017.0</td>\n",
       "    </tr>\n",
       "    <tr>\n",
       "      <th>1</th>\n",
       "      <td>2017-08-01</td>\n",
       "      <td>1.0</td>\n",
       "      <td>NaN</td>\n",
       "      <td>https://twitter.com/dog_rates/status/892177421...</td>\n",
       "      <td>NaN</td>\n",
       "      <td>NaN</td>\n",
       "      <td>8.0</td>\n",
       "      <td>Tilly</td>\n",
       "      <td>NaN</td>\n",
       "      <td>NaN</td>\n",
       "      <td>...</td>\n",
       "      <td>10.0</td>\n",
       "      <td>13.0</td>\n",
       "      <td>NaN</td>\n",
       "      <td>NaN</td>\n",
       "      <td>NaN</td>\n",
       "      <td>NaN</td>\n",
       "      <td>This is Tilly. She's just checking pup on you....</td>\n",
       "      <td>NaN</td>\n",
       "      <td>8.92177e+17</td>\n",
       "      <td>2017.0</td>\n",
       "    </tr>\n",
       "    <tr>\n",
       "      <th>2</th>\n",
       "      <td>2017-07-31</td>\n",
       "      <td>31.0</td>\n",
       "      <td>NaN</td>\n",
       "      <td>https://twitter.com/dog_rates/status/891815181...</td>\n",
       "      <td>NaN</td>\n",
       "      <td>NaN</td>\n",
       "      <td>7.0</td>\n",
       "      <td>Archie</td>\n",
       "      <td>NaN</td>\n",
       "      <td>NaN</td>\n",
       "      <td>...</td>\n",
       "      <td>10.0</td>\n",
       "      <td>12.0</td>\n",
       "      <td>NaN</td>\n",
       "      <td>NaN</td>\n",
       "      <td>NaN</td>\n",
       "      <td>NaN</td>\n",
       "      <td>This is Archie. He is a rare Norwegian Pouncin...</td>\n",
       "      <td>NaN</td>\n",
       "      <td>8.91815e+17</td>\n",
       "      <td>2017.0</td>\n",
       "    </tr>\n",
       "    <tr>\n",
       "      <th>3</th>\n",
       "      <td>2017-07-30</td>\n",
       "      <td>30.0</td>\n",
       "      <td>NaN</td>\n",
       "      <td>https://twitter.com/dog_rates/status/891689557...</td>\n",
       "      <td>NaN</td>\n",
       "      <td>NaN</td>\n",
       "      <td>7.0</td>\n",
       "      <td>Darla</td>\n",
       "      <td>NaN</td>\n",
       "      <td>NaN</td>\n",
       "      <td>...</td>\n",
       "      <td>10.0</td>\n",
       "      <td>13.0</td>\n",
       "      <td>NaN</td>\n",
       "      <td>NaN</td>\n",
       "      <td>NaN</td>\n",
       "      <td>NaN</td>\n",
       "      <td>This is Darla. She commenced a snooze mid meal...</td>\n",
       "      <td>NaN</td>\n",
       "      <td>8.9169e+17</td>\n",
       "      <td>2017.0</td>\n",
       "    </tr>\n",
       "    <tr>\n",
       "      <th>4</th>\n",
       "      <td>2017-07-29</td>\n",
       "      <td>29.0</td>\n",
       "      <td>NaN</td>\n",
       "      <td>https://twitter.com/dog_rates/status/891327558...</td>\n",
       "      <td>NaN</td>\n",
       "      <td>NaN</td>\n",
       "      <td>7.0</td>\n",
       "      <td>Franklin</td>\n",
       "      <td>NaN</td>\n",
       "      <td>NaN</td>\n",
       "      <td>...</td>\n",
       "      <td>10.0</td>\n",
       "      <td>12.0</td>\n",
       "      <td>NaN</td>\n",
       "      <td>NaN</td>\n",
       "      <td>NaN</td>\n",
       "      <td>NaN</td>\n",
       "      <td>This is Franklin. He would like you to stop ca...</td>\n",
       "      <td>BarkWeek</td>\n",
       "      <td>8.91328e+17</td>\n",
       "      <td>2017.0</td>\n",
       "    </tr>\n",
       "  </tbody>\n",
       "</table>\n",
       "<p>5 rows × 28 columns</p>\n",
       "</div>"
      ],
      "text/plain": [
       "        date   day dog_stage  \\\n",
       "0 2017-08-01   1.0       NaN   \n",
       "1 2017-08-01   1.0       NaN   \n",
       "2 2017-07-31  31.0       NaN   \n",
       "3 2017-07-30  30.0       NaN   \n",
       "4 2017-07-29  29.0       NaN   \n",
       "\n",
       "                                       expanded_urls  favorite_count jpg_url  \\\n",
       "0  https://twitter.com/dog_rates/status/892420643...             NaN     NaN   \n",
       "1  https://twitter.com/dog_rates/status/892177421...             NaN     NaN   \n",
       "2  https://twitter.com/dog_rates/status/891815181...             NaN     NaN   \n",
       "3  https://twitter.com/dog_rates/status/891689557...             NaN     NaN   \n",
       "4  https://twitter.com/dog_rates/status/891327558...             NaN     NaN   \n",
       "\n",
       "   month      name   p1  p1_conf   ...   rating_denominator rating_numerator  \\\n",
       "0    8.0   Phineas  NaN      NaN   ...                 10.0             13.0   \n",
       "1    8.0     Tilly  NaN      NaN   ...                 10.0             13.0   \n",
       "2    7.0    Archie  NaN      NaN   ...                 10.0             12.0   \n",
       "3    7.0     Darla  NaN      NaN   ...                 10.0             13.0   \n",
       "4    7.0  Franklin  NaN      NaN   ...                 10.0             12.0   \n",
       "\n",
       "   retweet_count retweeted_status_id retweeted_status_timestamp  \\\n",
       "0            NaN                 NaN                        NaN   \n",
       "1            NaN                 NaN                        NaN   \n",
       "2            NaN                 NaN                        NaN   \n",
       "3            NaN                 NaN                        NaN   \n",
       "4            NaN                 NaN                        NaN   \n",
       "\n",
       "   retweeted_status_user_id  \\\n",
       "0                       NaN   \n",
       "1                       NaN   \n",
       "2                       NaN   \n",
       "3                       NaN   \n",
       "4                       NaN   \n",
       "\n",
       "                                                text  tweet_hashtag  \\\n",
       "0  This is Phineas. He's a mystical boy. Only eve...            NaN   \n",
       "1  This is Tilly. She's just checking pup on you....            NaN   \n",
       "2  This is Archie. He is a rare Norwegian Pouncin...            NaN   \n",
       "3  This is Darla. She commenced a snooze mid meal...            NaN   \n",
       "4  This is Franklin. He would like you to stop ca...       BarkWeek   \n",
       "\n",
       "      tweet_id    year  \n",
       "0  8.92421e+17  2017.0  \n",
       "1  8.92177e+17  2017.0  \n",
       "2  8.91815e+17  2017.0  \n",
       "3   8.9169e+17  2017.0  \n",
       "4  8.91328e+17  2017.0  \n",
       "\n",
       "[5 rows x 28 columns]"
      ]
     },
     "execution_count": 890,
     "metadata": {},
     "output_type": "execute_result"
    }
   ],
   "source": [
    "twitter_data.head()"
   ]
  },
  {
   "cell_type": "markdown",
   "metadata": {},
   "source": [
    "#### Store merged dataframes into csv file"
   ]
  },
  {
   "cell_type": "code",
   "execution_count": 891,
   "metadata": {},
   "outputs": [],
   "source": [
    "twitter_data.to_csv('twitter_archive_master.csv')"
   ]
  },
  {
   "cell_type": "code",
   "execution_count": 892,
   "metadata": {},
   "outputs": [
    {
     "data": {
      "text/plain": [
       "['date',\n",
       " 'day',\n",
       " 'dog_stage',\n",
       " 'expanded_urls',\n",
       " 'favorite_count',\n",
       " 'jpg_url',\n",
       " 'month',\n",
       " 'name',\n",
       " 'p1',\n",
       " 'p1_conf',\n",
       " 'p1_dog',\n",
       " 'p2',\n",
       " 'p2_conf',\n",
       " 'p2_dog',\n",
       " 'p3',\n",
       " 'p3_conf',\n",
       " 'p3_dog',\n",
       " 'rating',\n",
       " 'rating_denominator',\n",
       " 'rating_numerator',\n",
       " 'retweet_count',\n",
       " 'retweeted_status_id',\n",
       " 'retweeted_status_timestamp',\n",
       " 'retweeted_status_user_id',\n",
       " 'text',\n",
       " 'tweet_hashtag',\n",
       " 'tweet_id',\n",
       " 'year']"
      ]
     },
     "execution_count": 892,
     "metadata": {},
     "output_type": "execute_result"
    }
   ],
   "source": [
    "list(twitter_data)"
   ]
  },
  {
   "cell_type": "markdown",
   "metadata": {},
   "source": [
    "<a id='analyze'></a>\n",
    "## Storing, Analyzing, and Visualizing"
   ]
  },
  {
   "cell_type": "markdown",
   "metadata": {},
   "source": [
    "### The Relation of tetweet_count and favorite_count"
   ]
  },
  {
   "cell_type": "code",
   "execution_count": 893,
   "metadata": {},
   "outputs": [
    {
     "data": {
      "text/plain": [
       "Text(0.5,1,'Relation of tetweet_count and favorite_count')"
      ]
     },
     "execution_count": 893,
     "metadata": {},
     "output_type": "execute_result"
    },
    {
     "data": {
      "image/png": "[encoded data removed]",
      "text/plain": [
       "<Figure size 1080x504 with 1 Axes>"
      ]
     },
     "metadata": {
      "image/png": {
       "height": 444,
       "width": 915
      }
     },
     "output_type": "display_data"
    }
   ],
   "source": [
    "#### Relation between value count and favorite_count\n",
    "fig, ax = plt.subplots(figsize=(15,7))\n",
    "plt.scatter(twitter_data['retweet_count'], twitter_data['favorite_count'],color=(0.2, 0.4, 0.6, 0.6))\n",
    "plt.xlabel('Retweet count')\n",
    "plt.ylabel('Favorite count')\n",
    "plt.title('Relation of tetweet_count and favorite_count')"
   ]
  },
  {
   "cell_type": "markdown",
   "metadata": {},
   "source": [
    "### The correlation between retweet_count and favorite_count columns"
   ]
  },
  {
   "cell_type": "code",
   "execution_count": 894,
   "metadata": {},
   "outputs": [
    {
     "data": {
      "text/plain": [
       "0.8565999160641767"
      ]
     },
     "execution_count": 894,
     "metadata": {},
     "output_type": "execute_result"
    }
   ],
   "source": [
    "twitter_data.favorite_count.corr(twitter_data.retweet_count)"
   ]
  },
  {
   "cell_type": "markdown",
   "metadata": {},
   "source": [
    " It is high corrletion between retweet and like tweets"
   ]
  },
  {
   "cell_type": "markdown",
   "metadata": {},
   "source": [
    "### Most dog stages"
   ]
  },
  {
   "cell_type": "code",
   "execution_count": 895,
   "metadata": {},
   "outputs": [
    {
     "data": {
      "text/plain": [
       "Text(6.085,0.5,'Counts')"
      ]
     },
     "execution_count": 895,
     "metadata": {},
     "output_type": "execute_result"
    },
    {
     "data": {
      "image/png": "[encoded data removed]",
      "text/plain": [
       "<Figure size 658.286x576 with 1 Axes>"
      ]
     },
     "metadata": {
      "image/png": {
       "height": 574,
       "width": 659
      }
     },
     "output_type": "display_data"
    }
   ],
   "source": [
    "sns.catplot(x=\"dog_stage\", kind=\"count\", palette=\"ch:.25\", data=twitter_data,height=8, aspect=8/7)\n",
    "plt.title('More Likes dog stages')\n",
    "plt.xlabel('Dogs stages')\n",
    "plt.ylabel('Counts')"
   ]
  },
  {
   "cell_type": "markdown",
   "metadata": {},
   "source": [
    "### Count of Tweet Hashtags"
   ]
  },
  {
   "cell_type": "code",
   "execution_count": 896,
   "metadata": {},
   "outputs": [
    {
     "data": {
      "text/plain": [
       "Text(-78.415,0.5,'Counts')"
      ]
     },
     "execution_count": 896,
     "metadata": {},
     "output_type": "execute_result"
    },
    {
     "data": {
      "image/png": "[encoded data removed]",
      "text/plain": [
       "<Figure size 658.286x576 with 1 Axes>"
      ]
     },
     "metadata": {
      "image/png": {
       "height": 588,
       "width": 645
      }
     },
     "output_type": "display_data"
    }
   ],
   "source": [
    "sns.catplot(y=\"tweet_hashtag\", kind=\"count\", palette=\"ch:.25\", data=twitter_data, height=8, aspect=8/7)\n",
    "plt.title('Counts of Tweet hashtags')\n",
    "plt.xlabel('Hashtags')\n",
    "plt.ylabel('Counts')"
   ]
  },
  {
   "cell_type": "markdown",
   "metadata": {},
   "source": [
    "### The dog stage's rating in years"
   ]
  },
  {
   "cell_type": "code",
   "execution_count": 897,
   "metadata": {},
   "outputs": [
    {
     "data": {
      "text/plain": [
       "Text(0.5,0,'Dog stages in Years')"
      ]
     },
     "execution_count": 897,
     "metadata": {},
     "output_type": "execute_result"
    },
    {
     "data": {
      "image/png": "[encoded data removed]",
      "text/plain": [
       "<Figure size 1080x504 with 1 Axes>"
      ]
     },
     "metadata": {
      "image/png": {
       "height": 528,
       "width": 926
      }
     },
     "output_type": "display_data"
    }
   ],
   "source": [
    "twitter_data.boxplot(column=['rating'], by=['dog_stage', 'year'],rot=45, fontsize=12,figsize=(15,7))\n",
    "plt.title('The rating of dog stages in years')\n",
    "plt.ylabel('Rating')\n",
    "plt.xlabel('Dog stages in Years') "
   ]
  },
  {
   "cell_type": "code",
   "execution_count": 898,
   "metadata": {},
   "outputs": [
    {
     "data": {
      "text/html": [
       "<div>\n",
       "<style scoped>\n",
       "    .dataframe tbody tr th:only-of-type {\n",
       "        vertical-align: middle;\n",
       "    }\n",
       "\n",
       "    .dataframe tbody tr th {\n",
       "        vertical-align: top;\n",
       "    }\n",
       "\n",
       "    .dataframe thead th {\n",
       "        text-align: right;\n",
       "    }\n",
       "</style>\n",
       "<table border=\"1\" class=\"dataframe\">\n",
       "  <thead>\n",
       "    <tr style=\"text-align: right;\">\n",
       "      <th></th>\n",
       "      <th>count</th>\n",
       "      <th>mean</th>\n",
       "      <th>std</th>\n",
       "      <th>min</th>\n",
       "      <th>25%</th>\n",
       "      <th>50%</th>\n",
       "      <th>75%</th>\n",
       "      <th>max</th>\n",
       "    </tr>\n",
       "    <tr>\n",
       "      <th>dog_stage</th>\n",
       "      <th></th>\n",
       "      <th></th>\n",
       "      <th></th>\n",
       "      <th></th>\n",
       "      <th></th>\n",
       "      <th></th>\n",
       "      <th></th>\n",
       "      <th></th>\n",
       "    </tr>\n",
       "  </thead>\n",
       "  <tbody>\n",
       "    <tr>\n",
       "      <th>doggo</th>\n",
       "      <td>75.0</td>\n",
       "      <td>113.866667</td>\n",
       "      <td>14.967833</td>\n",
       "      <td>50.0</td>\n",
       "      <td>110.0</td>\n",
       "      <td>110.0</td>\n",
       "      <td>125.0</td>\n",
       "      <td>130.0</td>\n",
       "    </tr>\n",
       "    <tr>\n",
       "      <th>floofer</th>\n",
       "      <td>4.0</td>\n",
       "      <td>122.500000</td>\n",
       "      <td>9.574271</td>\n",
       "      <td>110.0</td>\n",
       "      <td>117.5</td>\n",
       "      <td>125.0</td>\n",
       "      <td>130.0</td>\n",
       "      <td>130.0</td>\n",
       "    </tr>\n",
       "    <tr>\n",
       "      <th>pupper</th>\n",
       "      <td>230.0</td>\n",
       "      <td>105.478261</td>\n",
       "      <td>17.320179</td>\n",
       "      <td>30.0</td>\n",
       "      <td>100.0</td>\n",
       "      <td>110.0</td>\n",
       "      <td>120.0</td>\n",
       "      <td>130.0</td>\n",
       "    </tr>\n",
       "    <tr>\n",
       "      <th>puppo</th>\n",
       "      <td>31.0</td>\n",
       "      <td>120.000000</td>\n",
       "      <td>11.832160</td>\n",
       "      <td>90.0</td>\n",
       "      <td>115.0</td>\n",
       "      <td>120.0</td>\n",
       "      <td>130.0</td>\n",
       "      <td>130.0</td>\n",
       "    </tr>\n",
       "  </tbody>\n",
       "</table>\n",
       "</div>"
      ],
      "text/plain": [
       "           count        mean        std    min    25%    50%    75%    max\n",
       "dog_stage                                                                 \n",
       "doggo       75.0  113.866667  14.967833   50.0  110.0  110.0  125.0  130.0\n",
       "floofer      4.0  122.500000   9.574271  110.0  117.5  125.0  130.0  130.0\n",
       "pupper     230.0  105.478261  17.320179   30.0  100.0  110.0  120.0  130.0\n",
       "puppo       31.0  120.000000  11.832160   90.0  115.0  120.0  130.0  130.0"
      ]
     },
     "execution_count": 898,
     "metadata": {},
     "output_type": "execute_result"
    }
   ],
   "source": [
    "twitter_data.groupby('dog_stage')['rating'].describe()"
   ]
  },
  {
   "cell_type": "code",
   "execution_count": 899,
   "metadata": {},
   "outputs": [
    {
     "data": {
      "text/plain": [
       "<matplotlib.axes._subplots.AxesSubplot at 0x1a9ce74860>"
      ]
     },
     "execution_count": 899,
     "metadata": {},
     "output_type": "execute_result"
    },
    {
     "data": {
      "image/png": "[encoded data removed]",
      "text/plain": [
       "<Figure size 1080x504 with 1 Axes>"
      ]
     },
     "metadata": {
      "image/png": {
       "height": 432,
       "width": 888
      }
     },
     "output_type": "display_data"
    }
   ],
   "source": [
    "#The relation between dog rating over years \n",
    "fig, ax = plt.subplots(figsize=(15,7))\n",
    "twitter_data.groupby(['year'])['rating'].count().plot(ax=ax,color=(0.2, 0.4, 0.6, 0.6),linestyle='--')"
   ]
  },
  {
   "cell_type": "markdown",
   "metadata": {},
   "source": [
    "## Acknowledgement"
   ]
  },
  {
   "cell_type": "markdown",
   "metadata": {},
   "source": [
    "* https://pandas.pydata.org/pandas-docs/stable/reference/api/pandas.DataFrame.set_index.html\n",
    "\n",
    "* https://stackoverflow.com/questions/2527892/parsing-a-tweet-to-extract-hashtags-into-an-array-in-python\n",
    "* https://stackoverflow.com/questions/36108377/how-to-use-the-split-function-on-every-row-in-a-dataframe-in-python\n",
    "* https://stackoverflow.com/questions/23743460/replace-none-with-nan-in-pandas-dataframe\n",
    "* https://www.toptal.com/python/twitter-data-mining-using-python\n",
    "* https://pandas.pydata.org/pandas-docs/version/0.20/generated/pandas.melt.html\n",
    "* https://www.geeksforgeeks.org/python-pandas-melt/\n",
    "* https://stackoverflow.com/questions/12934997/how-to-detect-lowercase-letters-in-python\n",
    "* https://stackoverflow.com/questions/21011777/how-can-i-remove-nan-from-list-python-numpy\n",
    "* https://stackoverflow.com/questions/23668427/pandas-three-way-joining-multiple-dataframes-on-columns\n",
    "* https://pandas.pydata.org/pandas-docs/stable/user_guide/merging.html\n",
    "* https://pandas.pydata.org/pandas-docs/stable/reference/api/pandas.DataFrame.boxplot.html"
   ]
  }
 ],
 "metadata": {
  "kernelspec": {
   "display_name": "Python 3",
   "language": "python",
   "name": "python3"
  },
  "language_info": {
   "codemirror_mode": {
    "name": "ipython",
    "version": 3
   },
   "file_extension": ".py",
   "mimetype": "text/x-python",
   "name": "python",
   "nbconvert_exporter": "python",
   "pygments_lexer": "ipython3",
   "version": "3.7.0"
  }
 },
 "nbformat": 4,
 "nbformat_minor": 2
}
